{
 "cells": [
  {
   "cell_type": "code",
   "execution_count": 1,
   "id": "b595e3cc",
   "metadata": {},
   "outputs": [],
   "source": [
    "import pandas as pd\n",
    "import numpy as np\n",
    "import matplotlib.pyplot as plt\n",
    "import scipy.stats as st\n",
    "import seaborn as sns\n",
    "\n",
    "from sklearn.linear_model import LinearRegression, LogisticRegression\n",
    "from sklearn.neighbors import KNeighborsClassifier\n",
    "from sklearn.tree import DecisionTreeClassifier\n",
    "from sklearn.tree import DecisionTreeRegressor\n",
    "from sklearn.svm import SVC, SVR\n",
    "from sklearn.ensemble import GradientBoostingRegressor, GradientBoostingClassifier, HistGradientBoostingClassifier\n",
    "\n",
    "from sklearn.compose import ColumnTransformer\n",
    "from sklearn.pipeline import Pipeline\n",
    "\n",
    "from sklearn.model_selection import RandomizedSearchCV, GridSearchCV\n",
    "from sklearn.metrics import r2_score, f1_score, accuracy_score, make_scorer, roc_auc_score\n",
    "\n",
    "from sklearn.preprocessing import OneHotEncoder, OrdinalEncoder, StandardScaler, MinMaxScaler, LabelEncoder\n",
    "from sklearn.impute import SimpleImputer\n",
    "RANDOM_STATE = 42"
   ]
  },
  {
   "cell_type": "code",
   "execution_count": 2,
   "id": "ca2c016d",
   "metadata": {
    "scrolled": true
   },
   "outputs": [],
   "source": [
    "#!pip install lightgbm\n",
    "#import lightgbm as lgb "
   ]
  },
  {
   "cell_type": "code",
   "execution_count": 3,
   "id": "d7aa2e7c",
   "metadata": {},
   "outputs": [],
   "source": [
    "from lightgbm import LGBMClassifier"
   ]
  },
  {
   "cell_type": "code",
   "execution_count": 4,
   "id": "4e16fd3d",
   "metadata": {},
   "outputs": [
    {
     "name": "stdout",
     "output_type": "stream",
     "text": [
      "1.5.1\n"
     ]
    }
   ],
   "source": [
    "import sklearn\n",
    "print(sklearn.__version__)"
   ]
  },
  {
   "cell_type": "code",
   "execution_count": 5,
   "id": "3144ab8c",
   "metadata": {
    "scrolled": true
   },
   "outputs": [
    {
     "name": "stdout",
     "output_type": "stream",
     "text": [
      "0.12.3\n"
     ]
    }
   ],
   "source": [
    "import imblearn\n",
    "print(imblearn.__version__)"
   ]
  },
  {
   "cell_type": "code",
   "execution_count": 6,
   "id": "3819a3da",
   "metadata": {},
   "outputs": [],
   "source": [
    "from imblearn.over_sampling import RandomOverSampler"
   ]
  },
  {
   "cell_type": "code",
   "execution_count": 7,
   "id": "d2545946",
   "metadata": {
    "scrolled": false
   },
   "outputs": [
    {
     "data": {
      "text/html": [
       "<div>\n",
       "<style scoped>\n",
       "    .dataframe tbody tr th:only-of-type {\n",
       "        vertical-align: middle;\n",
       "    }\n",
       "\n",
       "    .dataframe tbody tr th {\n",
       "        vertical-align: top;\n",
       "    }\n",
       "\n",
       "    .dataframe thead th {\n",
       "        text-align: right;\n",
       "    }\n",
       "</style>\n",
       "<table border=\"1\" class=\"dataframe\">\n",
       "  <thead>\n",
       "    <tr style=\"text-align: right;\">\n",
       "      <th></th>\n",
       "      <th>name</th>\n",
       "      <th>category_list</th>\n",
       "      <th>funding_total_usd</th>\n",
       "      <th>status</th>\n",
       "      <th>country_code</th>\n",
       "      <th>state_code</th>\n",
       "      <th>region</th>\n",
       "      <th>city</th>\n",
       "      <th>funding_rounds</th>\n",
       "      <th>founded_at</th>\n",
       "      <th>first_funding_at</th>\n",
       "      <th>last_funding_at</th>\n",
       "      <th>closed_at</th>\n",
       "    </tr>\n",
       "  </thead>\n",
       "  <tbody>\n",
       "    <tr>\n",
       "      <th>0</th>\n",
       "      <td>Lunchgate</td>\n",
       "      <td>Online Reservations|Restaurants</td>\n",
       "      <td>828626.0</td>\n",
       "      <td>operating</td>\n",
       "      <td>CHE</td>\n",
       "      <td>25</td>\n",
       "      <td>Zurich</td>\n",
       "      <td>Zürich</td>\n",
       "      <td>2</td>\n",
       "      <td>2009-10-17</td>\n",
       "      <td>2011-05-01</td>\n",
       "      <td>2014-12-01</td>\n",
       "      <td>NaN</td>\n",
       "    </tr>\n",
       "    <tr>\n",
       "      <th>1</th>\n",
       "      <td>EarLens</td>\n",
       "      <td>Manufacturing|Medical|Medical Devices</td>\n",
       "      <td>42935019.0</td>\n",
       "      <td>operating</td>\n",
       "      <td>USA</td>\n",
       "      <td>CA</td>\n",
       "      <td>SF Bay Area</td>\n",
       "      <td>Redwood City</td>\n",
       "      <td>4</td>\n",
       "      <td>2005-01-01</td>\n",
       "      <td>2010-05-04</td>\n",
       "      <td>2014-02-25</td>\n",
       "      <td>NaN</td>\n",
       "    </tr>\n",
       "    <tr>\n",
       "      <th>2</th>\n",
       "      <td>Reviva Pharmaceuticals</td>\n",
       "      <td>Biotechnology</td>\n",
       "      <td>35456381.0</td>\n",
       "      <td>operating</td>\n",
       "      <td>USA</td>\n",
       "      <td>CA</td>\n",
       "      <td>SF Bay Area</td>\n",
       "      <td>San Jose</td>\n",
       "      <td>3</td>\n",
       "      <td>2006-01-01</td>\n",
       "      <td>2012-08-20</td>\n",
       "      <td>2014-07-02</td>\n",
       "      <td>NaN</td>\n",
       "    </tr>\n",
       "    <tr>\n",
       "      <th>3</th>\n",
       "      <td>Sancilio and Company</td>\n",
       "      <td>Health Care</td>\n",
       "      <td>22250000.0</td>\n",
       "      <td>operating</td>\n",
       "      <td>NaN</td>\n",
       "      <td>NaN</td>\n",
       "      <td>NaN</td>\n",
       "      <td>NaN</td>\n",
       "      <td>3</td>\n",
       "      <td>2004-01-01</td>\n",
       "      <td>2011-09-01</td>\n",
       "      <td>2014-07-18</td>\n",
       "      <td>NaN</td>\n",
       "    </tr>\n",
       "    <tr>\n",
       "      <th>4</th>\n",
       "      <td>WireTough Cylinders</td>\n",
       "      <td>Manufacturing</td>\n",
       "      <td>NaN</td>\n",
       "      <td>operating</td>\n",
       "      <td>USA</td>\n",
       "      <td>VA</td>\n",
       "      <td>VA - Other</td>\n",
       "      <td>Bristol</td>\n",
       "      <td>1</td>\n",
       "      <td>2010-05-12</td>\n",
       "      <td>2012-02-01</td>\n",
       "      <td>2012-02-01</td>\n",
       "      <td>NaN</td>\n",
       "    </tr>\n",
       "  </tbody>\n",
       "</table>\n",
       "</div>"
      ],
      "text/plain": [
       "                     name                          category_list  \\\n",
       "0               Lunchgate        Online Reservations|Restaurants   \n",
       "1                 EarLens  Manufacturing|Medical|Medical Devices   \n",
       "2  Reviva Pharmaceuticals                          Biotechnology   \n",
       "3    Sancilio and Company                            Health Care   \n",
       "4     WireTough Cylinders                          Manufacturing   \n",
       "\n",
       "   funding_total_usd     status country_code state_code       region  \\\n",
       "0           828626.0  operating          CHE         25       Zurich   \n",
       "1         42935019.0  operating          USA         CA  SF Bay Area   \n",
       "2         35456381.0  operating          USA         CA  SF Bay Area   \n",
       "3         22250000.0  operating          NaN        NaN          NaN   \n",
       "4                NaN  operating          USA         VA   VA - Other   \n",
       "\n",
       "           city  funding_rounds  founded_at first_funding_at last_funding_at  \\\n",
       "0        Zürich               2  2009-10-17       2011-05-01      2014-12-01   \n",
       "1  Redwood City               4  2005-01-01       2010-05-04      2014-02-25   \n",
       "2      San Jose               3  2006-01-01       2012-08-20      2014-07-02   \n",
       "3           NaN               3  2004-01-01       2011-09-01      2014-07-18   \n",
       "4       Bristol               1  2010-05-12       2012-02-01      2012-02-01   \n",
       "\n",
       "  closed_at  \n",
       "0       NaN  \n",
       "1       NaN  \n",
       "2       NaN  \n",
       "3       NaN  \n",
       "4       NaN  "
      ]
     },
     "metadata": {},
     "output_type": "display_data"
    },
    {
     "name": "stdout",
     "output_type": "stream",
     "text": [
      "<class 'pandas.core.frame.DataFrame'>\n",
      "RangeIndex: 52516 entries, 0 to 52515\n",
      "Data columns (total 13 columns):\n",
      " #   Column             Non-Null Count  Dtype  \n",
      "---  ------             --------------  -----  \n",
      " 0   name               52515 non-null  object \n",
      " 1   category_list      50051 non-null  object \n",
      " 2   funding_total_usd  42447 non-null  float64\n",
      " 3   status             52516 non-null  object \n",
      " 4   country_code       47014 non-null  object \n",
      " 5   state_code         45753 non-null  object \n",
      " 6   region             46157 non-null  object \n",
      " 7   city               46157 non-null  object \n",
      " 8   funding_rounds     52516 non-null  int64  \n",
      " 9   founded_at         52516 non-null  object \n",
      " 10  first_funding_at   52516 non-null  object \n",
      " 11  last_funding_at    52516 non-null  object \n",
      " 12  closed_at          4917 non-null   object \n",
      "dtypes: float64(1), int64(1), object(11)\n",
      "memory usage: 5.2+ MB\n"
     ]
    }
   ],
   "source": [
    "train_data = pd.read_csv('datasets\\kaggle_startups_train_28062024.csv')\n",
    "\n",
    "display(train_data.head(5))\n",
    "train_data.info()"
   ]
  },
  {
   "cell_type": "code",
   "execution_count": 8,
   "id": "ac88c092",
   "metadata": {},
   "outputs": [],
   "source": [
    "train_data['closed_at'] = train_data['closed_at'].fillna('2017-12-31')"
   ]
  },
  {
   "cell_type": "code",
   "execution_count": 9,
   "id": "96ba00c5",
   "metadata": {
    "scrolled": true
   },
   "outputs": [
    {
     "data": {
      "text/plain": [
       "count    52516.000000\n",
       "mean       346.488994\n",
       "std        688.604389\n",
       "min          0.000000\n",
       "25%          0.000000\n",
       "50%          0.000000\n",
       "75%        427.000000\n",
       "max      10807.000000\n",
       "Name: time_funding, dtype: float64"
      ]
     },
     "execution_count": 9,
     "metadata": {},
     "output_type": "execute_result"
    }
   ],
   "source": [
    "train_data['first_funding_at'] = pd.to_datetime(train_data['first_funding_at'], format='%Y-%m-%d')\n",
    "train_data['last_funding_at'] = pd.to_datetime(train_data['last_funding_at'], format='%Y-%m-%d')\n",
    "train_data['time_funding'] = train_data['last_funding_at'] - train_data['first_funding_at']\n",
    "\n",
    "train_data['time_funding'] = train_data['time_funding'].astype('int64') // 10**9 // 86400\n",
    "train_data['time_funding'].describe()"
   ]
  },
  {
   "cell_type": "code",
   "execution_count": 10,
   "id": "40bbfadd",
   "metadata": {
    "scrolled": false
   },
   "outputs": [
    {
     "data": {
      "text/plain": [
       "count                            4917\n",
       "mean     1399 days 05:59:55.607077488\n",
       "std      1378 days 07:03:29.283196624\n",
       "min                  19 days 00:00:00\n",
       "25%                 735 days 00:00:00\n",
       "50%                1013 days 00:00:00\n",
       "75%                1407 days 00:00:00\n",
       "max               17004 days 00:00:00\n",
       "Name: lifetime, dtype: object"
      ]
     },
     "execution_count": 10,
     "metadata": {},
     "output_type": "execute_result"
    }
   ],
   "source": [
    "train_data['founded_at'] = pd.to_datetime(train_data['founded_at'], format='%Y-%m-%d')\n",
    "train_data['closed_at'] = pd.to_datetime(train_data['closed_at'], format='%Y-%m-%d')\n",
    "train_data['lifetime'] = train_data['closed_at'] - train_data['founded_at']\n",
    "\n",
    "train_data.query('status == \"closed\"')['lifetime'].describe()"
   ]
  },
  {
   "cell_type": "code",
   "execution_count": 11,
   "id": "9cfe93f8",
   "metadata": {},
   "outputs": [
    {
     "data": {
      "text/plain": [
       "count                           47599\n",
       "mean     3319 days 17:36:58.206264832\n",
       "std      2132 days 13:18:01.845579328\n",
       "min                 730 days 00:00:00\n",
       "25%                1825 days 00:00:00\n",
       "50%                2578 days 00:00:00\n",
       "75%                4017 days 00:00:00\n",
       "max               17377 days 00:00:00\n",
       "Name: lifetime, dtype: object"
      ]
     },
     "execution_count": 11,
     "metadata": {},
     "output_type": "execute_result"
    }
   ],
   "source": [
    "train_data.query('status == \"operating\"')['lifetime'].describe()"
   ]
  },
  {
   "cell_type": "code",
   "execution_count": 12,
   "id": "5180664c",
   "metadata": {
    "scrolled": true
   },
   "outputs": [
    {
     "data": {
      "text/plain": [
       "count                           52516\n",
       "mean     3139 days 22:07:19.820245312\n",
       "std      2147 days 17:53:02.430118400\n",
       "min                  19 days 00:00:00\n",
       "25%                1738 days 00:00:00\n",
       "50%                2556 days 00:00:00\n",
       "75%                4017 days 00:00:00\n",
       "max               17377 days 00:00:00\n",
       "Name: lifetime, dtype: object"
      ]
     },
     "execution_count": 12,
     "metadata": {},
     "output_type": "execute_result"
    }
   ],
   "source": [
    "train_data['lifetime'].describe()"
   ]
  },
  {
   "cell_type": "code",
   "execution_count": 13,
   "id": "873b3574",
   "metadata": {},
   "outputs": [
    {
     "data": {
      "text/plain": [
       "dtype('<m8[ns]')"
      ]
     },
     "execution_count": 13,
     "metadata": {},
     "output_type": "execute_result"
    }
   ],
   "source": [
    "train_data['lifetime'].dtype"
   ]
  },
  {
   "cell_type": "code",
   "execution_count": 14,
   "id": "b39840d8",
   "metadata": {
    "scrolled": true
   },
   "outputs": [
    {
     "data": {
      "text/plain": [
       "count    52516.000000\n",
       "mean      3139.921757\n",
       "std       2147.745167\n",
       "min         19.000000\n",
       "25%       1738.000000\n",
       "50%       2556.000000\n",
       "75%       4017.000000\n",
       "max      17377.000000\n",
       "Name: lifetime, dtype: float64"
      ]
     },
     "execution_count": 14,
     "metadata": {},
     "output_type": "execute_result"
    }
   ],
   "source": [
    "train_data['lifetime'] = train_data['lifetime'].astype('int64') // 10**9 // 86400\n",
    "train_data['lifetime'].describe()"
   ]
  },
  {
   "cell_type": "code",
   "execution_count": 15,
   "id": "7aac9610",
   "metadata": {
    "scrolled": true
   },
   "outputs": [
    {
     "data": {
      "text/plain": [
       "count    52516.000000\n",
       "mean         0.102847\n",
       "std          0.181752\n",
       "min          0.000000\n",
       "25%          0.000000\n",
       "50%          0.000000\n",
       "75%          0.160247\n",
       "max          3.557377\n",
       "Name: ratio_fin_ratio, dtype: float64"
      ]
     },
     "execution_count": 15,
     "metadata": {},
     "output_type": "execute_result"
    }
   ],
   "source": [
    "train_data['ratio_fin_ratio'] = train_data['time_funding']/train_data['lifetime']\n",
    "train_data['ratio_fin_ratio'].describe()"
   ]
  },
  {
   "cell_type": "code",
   "execution_count": 16,
   "id": "bf846376",
   "metadata": {
    "scrolled": false
   },
   "outputs": [
    {
     "data": {
      "text/plain": [
       "count    52516.000000\n",
       "mean      1808.640205\n",
       "std       1178.705940\n",
       "min        360.000000\n",
       "25%       1020.000000\n",
       "50%       1445.000000\n",
       "75%       2271.000000\n",
       "max      14840.000000\n",
       "Name: how_long, dtype: float64"
      ]
     },
     "execution_count": 16,
     "metadata": {},
     "output_type": "execute_result"
    }
   ],
   "source": [
    "train_data['how_long'] = train_data['closed_at'] - train_data['last_funding_at']\n",
    "train_data['how_long'] = train_data['how_long'].astype('int64') // 10**9 // 86400\n",
    "train_data['how_long'].describe()"
   ]
  },
  {
   "cell_type": "code",
   "execution_count": 17,
   "id": "19201481",
   "metadata": {},
   "outputs": [],
   "source": [
    "# функция для анализа данных числового типа \n",
    "# вычисляет для заданного датасета и его поля:\n",
    "# (1) статистические характеристики;\n",
    "# (2) создает гистограмму и (3) боксплот на общей оси x; \n",
    "# (4) выполняет тест Уилка-Шапиро на нормальность распределения значений \n",
    "\n",
    "def num_stat_description (dataset, col, bins, title):\n",
    "\n",
    "    # задаем на полотне два графика, один под другим, с общей осью х\n",
    "    fig, (ax_hist, ax_box) = plt.subplots(2, 1, figsize=(15, 7), sharex=True) \n",
    "\n",
    "    # (1) вычисляем статистические характеристики\n",
    "    mean = dataset[col].mean()\n",
    "    median = dataset[col].median()\n",
    "    std = dataset[col].std()\n",
    "\n",
    "    # (2) создаем гистограмму\n",
    "    dataset[col].hist(bins=bins, label=col, ax=ax_hist)\n",
    "        \n",
    "    # наносим на гистограмму среднее и медиану \n",
    "    ax_hist.axvline(x=mean, color='red', linestyle='solid', linewidth=2, label=f'Mean: {mean:.2f}')\n",
    "    ax_hist.axvline(x=median, color='orange', linestyle='solid', linewidth=2, label=f'Median: {median:.2f}')\n",
    "\n",
    "    # наносим на гистограмму также и ско\n",
    "    ax_hist.axvline(x=mean + std, color='green', linestyle='dashed', linewidth=2, label=f'+1Std: {std:.2f}')\n",
    "    ax_hist.axvline(x=mean - std, color='green', linestyle='dashed', linewidth=2, label=f'-1Std: {-std:.2f}')\n",
    "    \n",
    "    ax_hist.axvline(x=mean + 2 * std, color='orange', linestyle='dashed', linewidth=2, label=f'+2Std: {2*std:.2f}')\n",
    "    ax_hist.axvline(x=mean - 2 * std, color='orange', linestyle='dashed', linewidth=2, label=f'-2Std: {-2*std:.2f}')\n",
    "    \n",
    "    ax_hist.axvline(x=mean + 3 * std, color='red', linestyle='dashed', linewidth=2, label=f'+3Std: {3*std:.2f}')\n",
    "    ax_hist.axvline(x=mean - 3 * std, color='red', linestyle='dashed', linewidth=2, label=f'-3Std: {-3*std:.2f}')\n",
    "\n",
    "\n",
    "    # (3) боксплот (развернут горизонтально)\n",
    "    boxplot = dataset.boxplot(column=col, vert=False, ax=ax_box)\n",
    "\n",
    "    ax_hist.set_ylabel('Частота значений')\n",
    "    ax_hist.legend(bbox_to_anchor=(1, 1))\n",
    "    plt.suptitle(title)\n",
    "    plt.show()"
   ]
  },
  {
   "cell_type": "code",
   "execution_count": 18,
   "id": "5a982492",
   "metadata": {
    "scrolled": false
   },
   "outputs": [
    {
     "data": {
      "image/png": "[encoded data removed]",
      "text/plain": [
       "<Figure size 1500x700 with 2 Axes>"
      ]
     },
     "metadata": {},
     "output_type": "display_data"
    }
   ],
   "source": [
    "num_stat_description (train_data, 'funding_total_usd', 50, 'объем финансирования - тренировочные данныые')"
   ]
  },
  {
   "cell_type": "code",
   "execution_count": 19,
   "id": "52ad49c7",
   "metadata": {
    "scrolled": true
   },
   "outputs": [
    {
     "data": {
      "image/png": "[encoded data removed]",
      "text/plain": [
       "<Figure size 1500x700 with 2 Axes>"
      ]
     },
     "metadata": {},
     "output_type": "display_data"
    }
   ],
   "source": [
    "num_stat_description (train_data, 'lifetime', 50, 'время жизни - тренировочные данныые')"
   ]
  },
  {
   "cell_type": "code",
   "execution_count": 20,
   "id": "7a4d86fc",
   "metadata": {
    "scrolled": true
   },
   "outputs": [
    {
     "data": {
      "image/png": "[encoded data removed]",
      "text/plain": [
       "<Figure size 1500x700 with 2 Axes>"
      ]
     },
     "metadata": {},
     "output_type": "display_data"
    }
   ],
   "source": [
    "num_stat_description (train_data, 'funding_rounds', 50, 'время жизни - тренировочные данныые')"
   ]
  },
  {
   "cell_type": "code",
   "execution_count": 21,
   "id": "77eec080",
   "metadata": {},
   "outputs": [],
   "source": [
    "train_data_prep = train_data.query('funding_total_usd < 5_500_000_000')\n",
    "#train_data_prep = train_data_prep.query('lifetime < 7000')\n",
    "#train_data_prep = train_data_prep.query('funding_rounds < 5')\n",
    "#train_data_prep.info()"
   ]
  },
  {
   "cell_type": "code",
   "execution_count": null,
   "id": "f74baecd",
   "metadata": {},
   "outputs": [],
   "source": []
  },
  {
   "cell_type": "code",
   "execution_count": 22,
   "id": "50050e34",
   "metadata": {},
   "outputs": [],
   "source": [
    "# создаём списки с названиями входящих признаков для модели\n",
    "# номинальные категориальные\n",
    "ord_columns = [\n",
    "\n",
    "    'country_code'\n",
    " \n",
    "]\n",
    "\n",
    "# количественные\n",
    "num_columns = [\n",
    " \n",
    "    'lifetime',\n",
    "    'funding_rounds',\n",
    "    'time_funding'\n",
    "]\n",
    "\n",
    "all_input_features = ord_columns + num_columns\n",
    "\n",
    "# разделяем входящие признаки и таргет в тренировочном датасете\n",
    "X = train_data_prep[all_input_features]\n",
    "y = train_data_prep['status']\n",
    "\n",
    "# кодируем таргет\n",
    "target_encoder = LabelEncoder()\n",
    "y = target_encoder.fit_transform(y)"
   ]
  },
  {
   "cell_type": "code",
   "execution_count": 23,
   "id": "2a65d221",
   "metadata": {},
   "outputs": [],
   "source": [
    "# Предобработка категориальных признаков\n",
    "categorical_transformer = Pipeline(steps=[\n",
    "    ('imputer', SimpleImputer(missing_values=np.nan, strategy='constant', fill_value='other')),\n",
    "    ('encoder', OrdinalEncoder(handle_unknown='use_encoded_value', unknown_value=np.nan)),\n",
    "    ('imputer2', SimpleImputer(missing_values=np.nan, strategy='constant', fill_value=-1))\n",
    "])\n",
    "\n",
    "# Предобработка числовых признаков\n",
    "numeric_transformer = Pipeline(steps=[\n",
    "    ('imputer', SimpleImputer(strategy='constant', fill_value=0)),\n",
    "    ('scaler', 'passthrough')  # Placeholder for scaler\n",
    "])\n",
    "\n",
    "# Объединение предобработки\n",
    "preprocessor = ColumnTransformer(\n",
    "    transformers=[\n",
    "        ('cat', categorical_transformer, ord_columns),\n",
    "        ('num', numeric_transformer, num_columns),\n",
    "    ])\n",
    "\n",
    "# Создание пайплайна с моделью\n",
    "pipeline = Pipeline(steps=[\n",
    "    ('preprocessor', preprocessor),\n",
    "    ('models', LGBMClassifier())\n",
    "])"
   ]
  },
  {
   "cell_type": "code",
   "execution_count": 24,
   "id": "458f93cf",
   "metadata": {},
   "outputs": [
    {
     "data": {
      "text/plain": [
       "(42442, 4)"
      ]
     },
     "execution_count": 24,
     "metadata": {},
     "output_type": "execute_result"
    }
   ],
   "source": [
    "X.shape"
   ]
  },
  {
   "cell_type": "code",
   "execution_count": 25,
   "id": "caafe108",
   "metadata": {
    "scrolled": true
   },
   "outputs": [
    {
     "data": {
      "text/plain": [
       "status\n",
       "operating    0.906371\n",
       "closed       0.093629\n",
       "Name: proportion, dtype: float64"
      ]
     },
     "execution_count": 25,
     "metadata": {},
     "output_type": "execute_result"
    }
   ],
   "source": [
    "train_data['status'].value_counts(normalize=True)"
   ]
  },
  {
   "cell_type": "code",
   "execution_count": 26,
   "id": "2cd1a1a8",
   "metadata": {
    "scrolled": true
   },
   "outputs": [
    {
     "data": {
      "text/plain": [
       "0    0.5\n",
       "1    0.5\n",
       "Name: proportion, dtype: float64"
      ]
     },
     "execution_count": 26,
     "metadata": {},
     "output_type": "execute_result"
    }
   ],
   "source": [
    "sampler = RandomOverSampler(random_state=42)\n",
    "X_resample, y_resample = sampler.fit_resample(X, y)\n",
    "\n",
    "pd.DataFrame(y_resample).value_counts(normalize=True)"
   ]
  },
  {
   "cell_type": "code",
   "execution_count": 27,
   "id": "1a665c0c",
   "metadata": {},
   "outputs": [
    {
     "data": {
      "text/plain": [
       "(77100, 4)"
      ]
     },
     "execution_count": 27,
     "metadata": {},
     "output_type": "execute_result"
    }
   ],
   "source": [
    "X_resample.shape"
   ]
  },
  {
   "cell_type": "code",
   "execution_count": 28,
   "id": "90f3021f",
   "metadata": {},
   "outputs": [],
   "source": [
    "# cловари гиперпараметров для моделей\n",
    "param_grid = [\n",
    "\n",
    "      {\n",
    "        'models': [LGBMClassifier(random_state=42)],\n",
    "        'models__num_leaves': [5],\n",
    "        'models__learning_rate': [0.1],\n",
    "        'models__n_estimators': [10],\n",
    "        'models__max_depth': [5],\n",
    "        'models__lambda_l2': [1],\n",
    "        'models__lambda_l1': [1],\n",
    "       \n",
    "        'preprocessor__num': [StandardScaler(), MinMaxScaler(), 'passthrough']  \n",
    "    }\n",
    "    \n",
    "    \n",
    "]"
   ]
  },
  {
   "cell_type": "markdown",
   "id": "7bdb1e56",
   "metadata": {},
   "source": [
    "Параметр learning_rate (скорость обучения) в машинном обучении контролирует размер шага, который алгоритм делает при обновлении весов модели в процессе обучения. Вот основные аспекты, на которые влияет learning_rate:\n",
    "\n",
    "Скорость сходимости: Высокое значение learning_rate позволяет модели быстрее сходиться к оптимальному решению, но может привести к нестабильности и пропуску оптимума. Низкое значение обеспечивает более стабильное обучение, но требует больше времени для достижения оптимума12.\n",
    "Точность модели: Слишком высокая скорость обучения может привести к тому, что модель не сможет найти оптимальные веса и будет “перепрыгивать” через минимум функции потерь. Слишком низкая скорость обучения может привести к застреванию в локальных минимумах и недостаточной точности2.\n",
    "Обучение и переобучение: Правильный выбор learning_rate помогает избежать переобучения (overfitting) и недообучения (underfitting). Высокая скорость обучения может привести к переобучению, тогда как низкая скорость обучения может привести к недообучению3.\n",
    "Ресурсы и время: Низкая скорость обучения требует больше эпох для достижения сходимости, что увеличивает время и вычислительные ресурсы, необходимые для обучения модели2.\n",
    "Примерно так можно представить влияние learning_rate на процесс обучения модели. Если у вас есть конкретные вопросы или вам нужно больше примеров, дайте знать!\n",
    "\n",
    "'models__learning_rate': [0.1, 0.01, 0.001]"
   ]
  },
  {
   "cell_type": "code",
   "execution_count": 29,
   "id": "a1c5d60c",
   "metadata": {
    "scrolled": false
   },
   "outputs": [
    {
     "name": "stdout",
     "output_type": "stream",
     "text": [
      "[LightGBM] [Warning] lambda_l1 is set=1, reg_alpha=0.0 will be ignored. Current value: lambda_l1=1\n",
      "[LightGBM] [Warning] lambda_l2 is set=1, reg_lambda=0.0 will be ignored. Current value: lambda_l2=1\n",
      "[LightGBM] [Warning] lambda_l1 is set=1, reg_alpha=0.0 will be ignored. Current value: lambda_l1=1\n",
      "[LightGBM] [Warning] lambda_l2 is set=1, reg_lambda=0.0 will be ignored. Current value: lambda_l2=1\n",
      "[LightGBM] [Info] Number of positive: 38550, number of negative: 38550\n",
      "[LightGBM] [Info] Auto-choosing row-wise multi-threading, the overhead of testing was 0.001985 seconds.\n",
      "You can set `force_row_wise=true` to remove the overhead.\n",
      "And if memory is not enough, you can set `force_col_wise=true`.\n",
      "[LightGBM] [Info] Total Bins 631\n",
      "[LightGBM] [Info] Number of data points in the train set: 77100, number of used features: 4\n",
      "[LightGBM] [Info] [binary:BoostFromScore]: pavg=0.500000 -> initscore=0.000000\n",
      "Лучшая модель: LGBMClassifier(lambda_l1=1, lambda_l2=1, max_depth=5, n_estimators=10,\n",
      "               num_leaves=5, random_state=42)\n",
      "Метрика f1 лучшей модели по результатам кросс-валидации: 0.85\n"
     ]
    }
   ],
   "source": [
    "# поиск лучшей модели и ее гиперпараметров\n",
    "model = GridSearchCV(\n",
    "    pipeline, \n",
    "    param_grid, \n",
    "    cv=5,\n",
    "    scoring='f1',\n",
    "    n_jobs=-1\n",
    ")\n",
    "\n",
    "model.fit(X_resample, y_resample)\n",
    "print(f'Лучшая модель: {model.best_estimator_.named_steps[\"models\"]}')\n",
    "print(f'Метрика f1 лучшей модели по результатам кросс-валидации: {round(model.best_score_, 2)}')"
   ]
  },
  {
   "cell_type": "code",
   "execution_count": 30,
   "id": "b0c400bb",
   "metadata": {},
   "outputs": [
    {
     "name": "stdout",
     "output_type": "stream",
     "text": [
      "<class 'pandas.core.frame.DataFrame'>\n",
      "RangeIndex: 77100 entries, 0 to 77099\n",
      "Data columns (total 4 columns):\n",
      " #   Column          Non-Null Count  Dtype  \n",
      "---  ------          --------------  -----  \n",
      " 0   country_code    77100 non-null  float64\n",
      " 1   lifetime        77100 non-null  float64\n",
      " 2   funding_rounds  77100 non-null  float64\n",
      " 3   time_funding    77100 non-null  float64\n",
      "dtypes: float64(4)\n",
      "memory usage: 2.4 MB\n"
     ]
    }
   ],
   "source": [
    "X_preprocessed = pipeline.named_steps['preprocessor'].fit_transform(X_resample)\n",
    "\n",
    "pd.DataFrame(X_preprocessed, columns=all_input_features).info()"
   ]
  },
  {
   "cell_type": "code",
   "execution_count": 31,
   "id": "627a76b5",
   "metadata": {
    "scrolled": true
   },
   "outputs": [
    {
     "name": "stdout",
     "output_type": "stream",
     "text": [
      "<class 'pandas.core.frame.DataFrame'>\n",
      "RangeIndex: 77100 entries, 0 to 77099\n",
      "Data columns (total 4 columns):\n",
      " #   Column          Non-Null Count  Dtype  \n",
      "---  ------          --------------  -----  \n",
      " 0   country_code    77100 non-null  float64\n",
      " 1   lifetime        77100 non-null  float64\n",
      " 2   funding_rounds  77100 non-null  float64\n",
      " 3   time_funding    77100 non-null  float64\n",
      "dtypes: float64(4)\n",
      "memory usage: 2.4 MB\n"
     ]
    }
   ],
   "source": [
    "X_preprocessed = model.best_estimator_.named_steps['preprocessor'].transform(X_resample)\n",
    "pd.DataFrame(X_preprocessed, columns=all_input_features).info()"
   ]
  },
  {
   "cell_type": "code",
   "execution_count": 32,
   "id": "cf5285b6",
   "metadata": {},
   "outputs": [
    {
     "name": "stdout",
     "output_type": "stream",
     "text": [
      "country_code      object\n",
      "lifetime           int64\n",
      "funding_rounds     int64\n",
      "time_funding       int64\n",
      "dtype: object\n"
     ]
    }
   ],
   "source": [
    "print(X_resample.dtypes)"
   ]
  },
  {
   "cell_type": "code",
   "execution_count": 33,
   "id": "43be30b8",
   "metadata": {
    "scrolled": false
   },
   "outputs": [
    {
     "data": {
      "text/html": [
       "<div>\n",
       "<style scoped>\n",
       "    .dataframe tbody tr th:only-of-type {\n",
       "        vertical-align: middle;\n",
       "    }\n",
       "\n",
       "    .dataframe tbody tr th {\n",
       "        vertical-align: top;\n",
       "    }\n",
       "\n",
       "    .dataframe thead th {\n",
       "        text-align: right;\n",
       "    }\n",
       "</style>\n",
       "<table border=\"1\" class=\"dataframe\">\n",
       "  <thead>\n",
       "    <tr style=\"text-align: right;\">\n",
       "      <th></th>\n",
       "      <th>name</th>\n",
       "      <th>category_list</th>\n",
       "      <th>funding_total_usd</th>\n",
       "      <th>country_code</th>\n",
       "      <th>state_code</th>\n",
       "      <th>region</th>\n",
       "      <th>city</th>\n",
       "      <th>funding_rounds</th>\n",
       "      <th>first_funding_at</th>\n",
       "      <th>last_funding_at</th>\n",
       "      <th>lifetime</th>\n",
       "    </tr>\n",
       "  </thead>\n",
       "  <tbody>\n",
       "    <tr>\n",
       "      <th>0</th>\n",
       "      <td>Crystalsol</td>\n",
       "      <td>Clean Technology</td>\n",
       "      <td>2819200.0</td>\n",
       "      <td>NIC</td>\n",
       "      <td>17</td>\n",
       "      <td>NaN</td>\n",
       "      <td>NaN</td>\n",
       "      <td>1</td>\n",
       "      <td>2009-07-01</td>\n",
       "      <td>2009-07-01</td>\n",
       "      <td>3501</td>\n",
       "    </tr>\n",
       "    <tr>\n",
       "      <th>1</th>\n",
       "      <td>JBI Fish &amp; Wings</td>\n",
       "      <td>Hospitality</td>\n",
       "      <td>NaN</td>\n",
       "      <td>USA</td>\n",
       "      <td>TN</td>\n",
       "      <td>TN - Other</td>\n",
       "      <td>Humboldt</td>\n",
       "      <td>1</td>\n",
       "      <td>2010-07-28</td>\n",
       "      <td>2010-07-28</td>\n",
       "      <td>2717</td>\n",
       "    </tr>\n",
       "    <tr>\n",
       "      <th>2</th>\n",
       "      <td>COINPLUS</td>\n",
       "      <td>Finance</td>\n",
       "      <td>428257.0</td>\n",
       "      <td>LUX</td>\n",
       "      <td>3</td>\n",
       "      <td>Esch-sur-alzette</td>\n",
       "      <td>Esch-sur-alzette</td>\n",
       "      <td>2</td>\n",
       "      <td>2014-05-15</td>\n",
       "      <td>2014-09-18</td>\n",
       "      <td>1295</td>\n",
       "    </tr>\n",
       "    <tr>\n",
       "      <th>3</th>\n",
       "      <td>Imagine Communications</td>\n",
       "      <td>Software|Video|Video Streaming</td>\n",
       "      <td>34700000.0</td>\n",
       "      <td>USA</td>\n",
       "      <td>CA</td>\n",
       "      <td>San Diego</td>\n",
       "      <td>San Diego</td>\n",
       "      <td>4</td>\n",
       "      <td>2005-01-01</td>\n",
       "      <td>2010-04-20</td>\n",
       "      <td>4748</td>\n",
       "    </tr>\n",
       "    <tr>\n",
       "      <th>4</th>\n",
       "      <td>DNA13</td>\n",
       "      <td>Software</td>\n",
       "      <td>4530000.0</td>\n",
       "      <td>CAN</td>\n",
       "      <td>ON</td>\n",
       "      <td>Ottawa</td>\n",
       "      <td>Ottawa</td>\n",
       "      <td>1</td>\n",
       "      <td>2007-05-08</td>\n",
       "      <td>2007-05-08</td>\n",
       "      <td>6209</td>\n",
       "    </tr>\n",
       "  </tbody>\n",
       "</table>\n",
       "</div>"
      ],
      "text/plain": [
       "                     name                   category_list  funding_total_usd  \\\n",
       "0              Crystalsol                Clean Technology          2819200.0   \n",
       "1        JBI Fish & Wings                     Hospitality                NaN   \n",
       "2                COINPLUS                         Finance           428257.0   \n",
       "3  Imagine Communications  Software|Video|Video Streaming         34700000.0   \n",
       "4                   DNA13                        Software          4530000.0   \n",
       "\n",
       "  country_code state_code            region              city  funding_rounds  \\\n",
       "0          NIC         17               NaN               NaN               1   \n",
       "1          USA         TN        TN - Other          Humboldt               1   \n",
       "2          LUX          3  Esch-sur-alzette  Esch-sur-alzette               2   \n",
       "3          USA         CA         San Diego         San Diego               4   \n",
       "4          CAN         ON            Ottawa            Ottawa               1   \n",
       "\n",
       "  first_funding_at last_funding_at  lifetime  \n",
       "0       2009-07-01      2009-07-01      3501  \n",
       "1       2010-07-28      2010-07-28      2717  \n",
       "2       2014-05-15      2014-09-18      1295  \n",
       "3       2005-01-01      2010-04-20      4748  \n",
       "4       2007-05-08      2007-05-08      6209  "
      ]
     },
     "metadata": {},
     "output_type": "display_data"
    },
    {
     "name": "stdout",
     "output_type": "stream",
     "text": [
      "<class 'pandas.core.frame.DataFrame'>\n",
      "RangeIndex: 13125 entries, 0 to 13124\n",
      "Data columns (total 11 columns):\n",
      " #   Column             Non-Null Count  Dtype  \n",
      "---  ------             --------------  -----  \n",
      " 0   name               13125 non-null  object \n",
      " 1   category_list      12534 non-null  object \n",
      " 2   funding_total_usd  10547 non-null  float64\n",
      " 3   country_code       11743 non-null  object \n",
      " 4   state_code         11430 non-null  object \n",
      " 5   region             11536 non-null  object \n",
      " 6   city               11538 non-null  object \n",
      " 7   funding_rounds     13125 non-null  int64  \n",
      " 8   first_funding_at   13125 non-null  object \n",
      " 9   last_funding_at    13125 non-null  object \n",
      " 10  lifetime           13125 non-null  int64  \n",
      "dtypes: float64(1), int64(2), object(8)\n",
      "memory usage: 1.1+ MB\n"
     ]
    }
   ],
   "source": [
    "test_data = pd.read_csv('datasets\\kaggle_startups_test_28062024.csv')\n",
    "\n",
    "display(test_data.head(5))\n",
    "test_data.info()"
   ]
  },
  {
   "cell_type": "code",
   "execution_count": 34,
   "id": "c39803dd",
   "metadata": {
    "scrolled": true
   },
   "outputs": [
    {
     "data": {
      "text/plain": [
       "count    13125.000000\n",
       "mean      3097.609524\n",
       "std       2128.356554\n",
       "min         52.000000\n",
       "25%       1726.000000\n",
       "50%       2526.000000\n",
       "75%       3866.000000\n",
       "max      17167.000000\n",
       "Name: lifetime, dtype: float64"
      ]
     },
     "execution_count": 34,
     "metadata": {},
     "output_type": "execute_result"
    }
   ],
   "source": [
    "test_data['lifetime'].describe()"
   ]
  },
  {
   "cell_type": "code",
   "execution_count": 35,
   "id": "fc3ff848",
   "metadata": {
    "scrolled": true
   },
   "outputs": [
    {
     "data": {
      "text/plain": [
       "count    13125.000000\n",
       "mean       328.339962\n",
       "std        658.073065\n",
       "min          0.000000\n",
       "25%          0.000000\n",
       "50%          0.000000\n",
       "75%        391.000000\n",
       "max       7038.000000\n",
       "Name: time_funding, dtype: float64"
      ]
     },
     "execution_count": 35,
     "metadata": {},
     "output_type": "execute_result"
    }
   ],
   "source": [
    "test_data['first_funding_at'] = pd.to_datetime(test_data['first_funding_at'], format='%Y-%m-%d')\n",
    "test_data['last_funding_at'] = pd.to_datetime(test_data['last_funding_at'], format='%Y-%m-%d')\n",
    "test_data['time_funding'] = test_data['last_funding_at'] - test_data['first_funding_at']\n",
    "\n",
    "test_data['time_funding'] = test_data['time_funding'].astype('int64') // 10**9 // 86400\n",
    "test_data['time_funding'].describe()"
   ]
  },
  {
   "cell_type": "code",
   "execution_count": 36,
   "id": "92587afd",
   "metadata": {
    "scrolled": true
   },
   "outputs": [
    {
     "data": {
      "text/plain": [
       "count    13125.000000\n",
       "mean         0.098710\n",
       "std          0.175683\n",
       "min          0.000000\n",
       "25%          0.000000\n",
       "50%          0.000000\n",
       "75%          0.150574\n",
       "max          2.263041\n",
       "Name: ratio_fin_ratio, dtype: float64"
      ]
     },
     "execution_count": 36,
     "metadata": {},
     "output_type": "execute_result"
    }
   ],
   "source": [
    "test_data['ratio_fin_ratio'] = test_data['time_funding']/test_data['lifetime']\n",
    "test_data['ratio_fin_ratio'].describe()"
   ]
  },
  {
   "cell_type": "code",
   "execution_count": 37,
   "id": "330ae299",
   "metadata": {},
   "outputs": [
    {
     "data": {
      "text/plain": [
       "count    13125.000000\n",
       "mean      2023.789105\n",
       "std       1245.089442\n",
       "min        750.000000\n",
       "25%       1146.000000\n",
       "50%       1593.000000\n",
       "75%       2547.000000\n",
       "max      16331.000000\n",
       "Name: how_long, dtype: float64"
      ]
     },
     "execution_count": 37,
     "metadata": {},
     "output_type": "execute_result"
    }
   ],
   "source": [
    "test_data['closed_at'] = '2017-12-31'\n",
    "test_data['closed_at'] = pd.to_datetime(test_data['closed_at'], format='%Y-%m-%d')\n",
    "test_data['how_long'] = test_data['closed_at'] - test_data['last_funding_at']\n",
    "test_data['how_long'] = test_data['how_long'].astype('int64') // 10**9 // 86400\n",
    "test_data['how_long'].describe()"
   ]
  },
  {
   "cell_type": "code",
   "execution_count": 38,
   "id": "c7c7bf7a",
   "metadata": {},
   "outputs": [
    {
     "data": {
      "text/plain": [
       "(13125, 15)"
      ]
     },
     "execution_count": 38,
     "metadata": {},
     "output_type": "execute_result"
    }
   ],
   "source": [
    "test_data.shape"
   ]
  },
  {
   "cell_type": "code",
   "execution_count": 39,
   "id": "7d9d7350",
   "metadata": {
    "scrolled": true
   },
   "outputs": [
    {
     "data": {
      "text/html": [
       "<div>\n",
       "<style scoped>\n",
       "    .dataframe tbody tr th:only-of-type {\n",
       "        vertical-align: middle;\n",
       "    }\n",
       "\n",
       "    .dataframe tbody tr th {\n",
       "        vertical-align: top;\n",
       "    }\n",
       "\n",
       "    .dataframe thead th {\n",
       "        text-align: right;\n",
       "    }\n",
       "</style>\n",
       "<table border=\"1\" class=\"dataframe\">\n",
       "  <thead>\n",
       "    <tr style=\"text-align: right;\">\n",
       "      <th></th>\n",
       "      <th>country_code</th>\n",
       "      <th>lifetime</th>\n",
       "      <th>funding_rounds</th>\n",
       "      <th>time_funding</th>\n",
       "    </tr>\n",
       "  </thead>\n",
       "  <tbody>\n",
       "    <tr>\n",
       "      <th>0</th>\n",
       "      <td>NIC</td>\n",
       "      <td>3501</td>\n",
       "      <td>1</td>\n",
       "      <td>0</td>\n",
       "    </tr>\n",
       "    <tr>\n",
       "      <th>1</th>\n",
       "      <td>USA</td>\n",
       "      <td>2717</td>\n",
       "      <td>1</td>\n",
       "      <td>0</td>\n",
       "    </tr>\n",
       "    <tr>\n",
       "      <th>2</th>\n",
       "      <td>LUX</td>\n",
       "      <td>1295</td>\n",
       "      <td>2</td>\n",
       "      <td>126</td>\n",
       "    </tr>\n",
       "    <tr>\n",
       "      <th>3</th>\n",
       "      <td>USA</td>\n",
       "      <td>4748</td>\n",
       "      <td>4</td>\n",
       "      <td>1935</td>\n",
       "    </tr>\n",
       "    <tr>\n",
       "      <th>4</th>\n",
       "      <td>CAN</td>\n",
       "      <td>6209</td>\n",
       "      <td>1</td>\n",
       "      <td>0</td>\n",
       "    </tr>\n",
       "    <tr>\n",
       "      <th>...</th>\n",
       "      <td>...</td>\n",
       "      <td>...</td>\n",
       "      <td>...</td>\n",
       "      <td>...</td>\n",
       "    </tr>\n",
       "    <tr>\n",
       "      <th>13120</th>\n",
       "      <td>USA</td>\n",
       "      <td>2267</td>\n",
       "      <td>1</td>\n",
       "      <td>0</td>\n",
       "    </tr>\n",
       "    <tr>\n",
       "      <th>13121</th>\n",
       "      <td>USA</td>\n",
       "      <td>2192</td>\n",
       "      <td>1</td>\n",
       "      <td>0</td>\n",
       "    </tr>\n",
       "    <tr>\n",
       "      <th>13122</th>\n",
       "      <td>USA</td>\n",
       "      <td>2922</td>\n",
       "      <td>3</td>\n",
       "      <td>1030</td>\n",
       "    </tr>\n",
       "    <tr>\n",
       "      <th>13123</th>\n",
       "      <td>USA</td>\n",
       "      <td>1386</td>\n",
       "      <td>2</td>\n",
       "      <td>38</td>\n",
       "    </tr>\n",
       "    <tr>\n",
       "      <th>13124</th>\n",
       "      <td>USA</td>\n",
       "      <td>5479</td>\n",
       "      <td>6</td>\n",
       "      <td>2136</td>\n",
       "    </tr>\n",
       "  </tbody>\n",
       "</table>\n",
       "<p>13125 rows × 4 columns</p>\n",
       "</div>"
      ],
      "text/plain": [
       "      country_code  lifetime  funding_rounds  time_funding\n",
       "0              NIC      3501               1             0\n",
       "1              USA      2717               1             0\n",
       "2              LUX      1295               2           126\n",
       "3              USA      4748               4          1935\n",
       "4              CAN      6209               1             0\n",
       "...            ...       ...             ...           ...\n",
       "13120          USA      2267               1             0\n",
       "13121          USA      2192               1             0\n",
       "13122          USA      2922               3          1030\n",
       "13123          USA      1386               2            38\n",
       "13124          USA      5479               6          2136\n",
       "\n",
       "[13125 rows x 4 columns]"
      ]
     },
     "execution_count": 39,
     "metadata": {},
     "output_type": "execute_result"
    }
   ],
   "source": [
    "test_data[all_input_features]"
   ]
  },
  {
   "cell_type": "code",
   "execution_count": 40,
   "id": "1a2bb8df",
   "metadata": {},
   "outputs": [
    {
     "name": "stdout",
     "output_type": "stream",
     "text": [
      "[LightGBM] [Warning] lambda_l1 is set=1, reg_alpha=0.0 will be ignored. Current value: lambda_l1=1\n",
      "[LightGBM] [Warning] lambda_l2 is set=1, reg_lambda=0.0 will be ignored. Current value: lambda_l2=1\n"
     ]
    },
    {
     "data": {
      "text/plain": [
       "array([1, 1, 0, ..., 1, 0, 1])"
      ]
     },
     "execution_count": 40,
     "metadata": {},
     "output_type": "execute_result"
    }
   ],
   "source": [
    "y_pred = model.predict(test_data[all_input_features])\n",
    "y_pred"
   ]
  },
  {
   "cell_type": "code",
   "execution_count": 41,
   "id": "06c1d4d1",
   "metadata": {},
   "outputs": [
    {
     "data": {
      "text/html": [
       "<div>\n",
       "<style scoped>\n",
       "    .dataframe tbody tr th:only-of-type {\n",
       "        vertical-align: middle;\n",
       "    }\n",
       "\n",
       "    .dataframe tbody tr th {\n",
       "        vertical-align: top;\n",
       "    }\n",
       "\n",
       "    .dataframe thead th {\n",
       "        text-align: right;\n",
       "    }\n",
       "</style>\n",
       "<table border=\"1\" class=\"dataframe\">\n",
       "  <thead>\n",
       "    <tr style=\"text-align: right;\">\n",
       "      <th></th>\n",
       "      <th>name</th>\n",
       "      <th>category_list</th>\n",
       "      <th>funding_total_usd</th>\n",
       "      <th>country_code</th>\n",
       "      <th>state_code</th>\n",
       "      <th>region</th>\n",
       "      <th>city</th>\n",
       "      <th>funding_rounds</th>\n",
       "      <th>first_funding_at</th>\n",
       "      <th>last_funding_at</th>\n",
       "      <th>lifetime</th>\n",
       "      <th>time_funding</th>\n",
       "      <th>ratio_fin_ratio</th>\n",
       "      <th>closed_at</th>\n",
       "      <th>how_long</th>\n",
       "      <th>status</th>\n",
       "    </tr>\n",
       "  </thead>\n",
       "  <tbody>\n",
       "    <tr>\n",
       "      <th>0</th>\n",
       "      <td>Crystalsol</td>\n",
       "      <td>Clean Technology</td>\n",
       "      <td>2819200.0</td>\n",
       "      <td>NIC</td>\n",
       "      <td>17</td>\n",
       "      <td>NaN</td>\n",
       "      <td>NaN</td>\n",
       "      <td>1</td>\n",
       "      <td>2009-07-01</td>\n",
       "      <td>2009-07-01</td>\n",
       "      <td>3501</td>\n",
       "      <td>0</td>\n",
       "      <td>0.000000</td>\n",
       "      <td>2017-12-31</td>\n",
       "      <td>3105</td>\n",
       "      <td>1</td>\n",
       "    </tr>\n",
       "    <tr>\n",
       "      <th>1</th>\n",
       "      <td>JBI Fish &amp; Wings</td>\n",
       "      <td>Hospitality</td>\n",
       "      <td>NaN</td>\n",
       "      <td>USA</td>\n",
       "      <td>TN</td>\n",
       "      <td>TN - Other</td>\n",
       "      <td>Humboldt</td>\n",
       "      <td>1</td>\n",
       "      <td>2010-07-28</td>\n",
       "      <td>2010-07-28</td>\n",
       "      <td>2717</td>\n",
       "      <td>0</td>\n",
       "      <td>0.000000</td>\n",
       "      <td>2017-12-31</td>\n",
       "      <td>2713</td>\n",
       "      <td>1</td>\n",
       "    </tr>\n",
       "    <tr>\n",
       "      <th>2</th>\n",
       "      <td>COINPLUS</td>\n",
       "      <td>Finance</td>\n",
       "      <td>428257.0</td>\n",
       "      <td>LUX</td>\n",
       "      <td>3</td>\n",
       "      <td>Esch-sur-alzette</td>\n",
       "      <td>Esch-sur-alzette</td>\n",
       "      <td>2</td>\n",
       "      <td>2014-05-15</td>\n",
       "      <td>2014-09-18</td>\n",
       "      <td>1295</td>\n",
       "      <td>126</td>\n",
       "      <td>0.097297</td>\n",
       "      <td>2017-12-31</td>\n",
       "      <td>1200</td>\n",
       "      <td>0</td>\n",
       "    </tr>\n",
       "    <tr>\n",
       "      <th>3</th>\n",
       "      <td>Imagine Communications</td>\n",
       "      <td>Software|Video|Video Streaming</td>\n",
       "      <td>34700000.0</td>\n",
       "      <td>USA</td>\n",
       "      <td>CA</td>\n",
       "      <td>San Diego</td>\n",
       "      <td>San Diego</td>\n",
       "      <td>4</td>\n",
       "      <td>2005-01-01</td>\n",
       "      <td>2010-04-20</td>\n",
       "      <td>4748</td>\n",
       "      <td>1935</td>\n",
       "      <td>0.407540</td>\n",
       "      <td>2017-12-31</td>\n",
       "      <td>2812</td>\n",
       "      <td>1</td>\n",
       "    </tr>\n",
       "    <tr>\n",
       "      <th>4</th>\n",
       "      <td>DNA13</td>\n",
       "      <td>Software</td>\n",
       "      <td>4530000.0</td>\n",
       "      <td>CAN</td>\n",
       "      <td>ON</td>\n",
       "      <td>Ottawa</td>\n",
       "      <td>Ottawa</td>\n",
       "      <td>1</td>\n",
       "      <td>2007-05-08</td>\n",
       "      <td>2007-05-08</td>\n",
       "      <td>6209</td>\n",
       "      <td>0</td>\n",
       "      <td>0.000000</td>\n",
       "      <td>2017-12-31</td>\n",
       "      <td>3890</td>\n",
       "      <td>1</td>\n",
       "    </tr>\n",
       "    <tr>\n",
       "      <th>...</th>\n",
       "      <td>...</td>\n",
       "      <td>...</td>\n",
       "      <td>...</td>\n",
       "      <td>...</td>\n",
       "      <td>...</td>\n",
       "      <td>...</td>\n",
       "      <td>...</td>\n",
       "      <td>...</td>\n",
       "      <td>...</td>\n",
       "      <td>...</td>\n",
       "      <td>...</td>\n",
       "      <td>...</td>\n",
       "      <td>...</td>\n",
       "      <td>...</td>\n",
       "      <td>...</td>\n",
       "      <td>...</td>\n",
       "    </tr>\n",
       "    <tr>\n",
       "      <th>13120</th>\n",
       "      <td>Jymob</td>\n",
       "      <td>Recruiting</td>\n",
       "      <td>28000.0</td>\n",
       "      <td>USA</td>\n",
       "      <td>CA</td>\n",
       "      <td>SF Bay Area</td>\n",
       "      <td>Sunnyvale</td>\n",
       "      <td>1</td>\n",
       "      <td>2012-07-01</td>\n",
       "      <td>2012-07-01</td>\n",
       "      <td>2267</td>\n",
       "      <td>0</td>\n",
       "      <td>0.000000</td>\n",
       "      <td>2017-12-31</td>\n",
       "      <td>2009</td>\n",
       "      <td>1</td>\n",
       "    </tr>\n",
       "    <tr>\n",
       "      <th>13121</th>\n",
       "      <td>GlobaTrek</td>\n",
       "      <td>Software</td>\n",
       "      <td>NaN</td>\n",
       "      <td>USA</td>\n",
       "      <td>CA</td>\n",
       "      <td>SF Bay Area</td>\n",
       "      <td>Mountain View</td>\n",
       "      <td>1</td>\n",
       "      <td>2013-10-01</td>\n",
       "      <td>2013-10-01</td>\n",
       "      <td>2192</td>\n",
       "      <td>0</td>\n",
       "      <td>0.000000</td>\n",
       "      <td>2017-12-31</td>\n",
       "      <td>1552</td>\n",
       "      <td>1</td>\n",
       "    </tr>\n",
       "    <tr>\n",
       "      <th>13122</th>\n",
       "      <td>Inkd.com</td>\n",
       "      <td>Design|E-Commerce|Marketplaces|Printing</td>\n",
       "      <td>5600000.0</td>\n",
       "      <td>USA</td>\n",
       "      <td>WA</td>\n",
       "      <td>Seattle</td>\n",
       "      <td>Seattle</td>\n",
       "      <td>3</td>\n",
       "      <td>2008-09-01</td>\n",
       "      <td>2011-06-28</td>\n",
       "      <td>2922</td>\n",
       "      <td>1030</td>\n",
       "      <td>0.352498</td>\n",
       "      <td>2017-12-31</td>\n",
       "      <td>2378</td>\n",
       "      <td>1</td>\n",
       "    </tr>\n",
       "    <tr>\n",
       "      <th>13123</th>\n",
       "      <td>AdWill</td>\n",
       "      <td>Advertising Exchanges|Mobile|Mobile Advertising</td>\n",
       "      <td>150000.0</td>\n",
       "      <td>USA</td>\n",
       "      <td>NY</td>\n",
       "      <td>New York City</td>\n",
       "      <td>New York</td>\n",
       "      <td>2</td>\n",
       "      <td>2014-09-27</td>\n",
       "      <td>2014-11-04</td>\n",
       "      <td>1386</td>\n",
       "      <td>38</td>\n",
       "      <td>0.027417</td>\n",
       "      <td>2017-12-31</td>\n",
       "      <td>1153</td>\n",
       "      <td>0</td>\n",
       "    </tr>\n",
       "    <tr>\n",
       "      <th>13124</th>\n",
       "      <td>RingCentral</td>\n",
       "      <td>Communications Hardware|Messaging|Mobile|Offic...</td>\n",
       "      <td>50250000.0</td>\n",
       "      <td>USA</td>\n",
       "      <td>CA</td>\n",
       "      <td>SF Bay Area</td>\n",
       "      <td>San Mateo</td>\n",
       "      <td>6</td>\n",
       "      <td>2007-01-16</td>\n",
       "      <td>2012-11-21</td>\n",
       "      <td>5479</td>\n",
       "      <td>2136</td>\n",
       "      <td>0.389852</td>\n",
       "      <td>2017-12-31</td>\n",
       "      <td>1866</td>\n",
       "      <td>1</td>\n",
       "    </tr>\n",
       "  </tbody>\n",
       "</table>\n",
       "<p>13125 rows × 16 columns</p>\n",
       "</div>"
      ],
      "text/plain": [
       "                         name  \\\n",
       "0                  Crystalsol   \n",
       "1            JBI Fish & Wings   \n",
       "2                    COINPLUS   \n",
       "3      Imagine Communications   \n",
       "4                       DNA13   \n",
       "...                       ...   \n",
       "13120                   Jymob   \n",
       "13121               GlobaTrek   \n",
       "13122                Inkd.com   \n",
       "13123                  AdWill   \n",
       "13124             RingCentral   \n",
       "\n",
       "                                           category_list  funding_total_usd  \\\n",
       "0                                       Clean Technology          2819200.0   \n",
       "1                                            Hospitality                NaN   \n",
       "2                                                Finance           428257.0   \n",
       "3                         Software|Video|Video Streaming         34700000.0   \n",
       "4                                               Software          4530000.0   \n",
       "...                                                  ...                ...   \n",
       "13120                                         Recruiting            28000.0   \n",
       "13121                                           Software                NaN   \n",
       "13122            Design|E-Commerce|Marketplaces|Printing          5600000.0   \n",
       "13123    Advertising Exchanges|Mobile|Mobile Advertising           150000.0   \n",
       "13124  Communications Hardware|Messaging|Mobile|Offic...         50250000.0   \n",
       "\n",
       "      country_code state_code            region              city  \\\n",
       "0              NIC         17               NaN               NaN   \n",
       "1              USA         TN        TN - Other          Humboldt   \n",
       "2              LUX          3  Esch-sur-alzette  Esch-sur-alzette   \n",
       "3              USA         CA         San Diego         San Diego   \n",
       "4              CAN         ON            Ottawa            Ottawa   \n",
       "...            ...        ...               ...               ...   \n",
       "13120          USA         CA       SF Bay Area         Sunnyvale   \n",
       "13121          USA         CA       SF Bay Area     Mountain View   \n",
       "13122          USA         WA           Seattle           Seattle   \n",
       "13123          USA         NY     New York City          New York   \n",
       "13124          USA         CA       SF Bay Area         San Mateo   \n",
       "\n",
       "       funding_rounds first_funding_at last_funding_at  lifetime  \\\n",
       "0                   1       2009-07-01      2009-07-01      3501   \n",
       "1                   1       2010-07-28      2010-07-28      2717   \n",
       "2                   2       2014-05-15      2014-09-18      1295   \n",
       "3                   4       2005-01-01      2010-04-20      4748   \n",
       "4                   1       2007-05-08      2007-05-08      6209   \n",
       "...               ...              ...             ...       ...   \n",
       "13120               1       2012-07-01      2012-07-01      2267   \n",
       "13121               1       2013-10-01      2013-10-01      2192   \n",
       "13122               3       2008-09-01      2011-06-28      2922   \n",
       "13123               2       2014-09-27      2014-11-04      1386   \n",
       "13124               6       2007-01-16      2012-11-21      5479   \n",
       "\n",
       "       time_funding  ratio_fin_ratio  closed_at  how_long  status  \n",
       "0                 0         0.000000 2017-12-31      3105       1  \n",
       "1                 0         0.000000 2017-12-31      2713       1  \n",
       "2               126         0.097297 2017-12-31      1200       0  \n",
       "3              1935         0.407540 2017-12-31      2812       1  \n",
       "4                 0         0.000000 2017-12-31      3890       1  \n",
       "...             ...              ...        ...       ...     ...  \n",
       "13120             0         0.000000 2017-12-31      2009       1  \n",
       "13121             0         0.000000 2017-12-31      1552       1  \n",
       "13122          1030         0.352498 2017-12-31      2378       1  \n",
       "13123            38         0.027417 2017-12-31      1153       0  \n",
       "13124          2136         0.389852 2017-12-31      1866       1  \n",
       "\n",
       "[13125 rows x 16 columns]"
      ]
     },
     "execution_count": 41,
     "metadata": {},
     "output_type": "execute_result"
    }
   ],
   "source": [
    "test_data['status'] = pd.DataFrame(y_pred)\n",
    "test_data"
   ]
  },
  {
   "cell_type": "code",
   "execution_count": 42,
   "id": "0c8c8186",
   "metadata": {
    "scrolled": false
   },
   "outputs": [
    {
     "data": {
      "text/html": [
       "<div>\n",
       "<style scoped>\n",
       "    .dataframe tbody tr th:only-of-type {\n",
       "        vertical-align: middle;\n",
       "    }\n",
       "\n",
       "    .dataframe tbody tr th {\n",
       "        vertical-align: top;\n",
       "    }\n",
       "\n",
       "    .dataframe thead th {\n",
       "        text-align: right;\n",
       "    }\n",
       "</style>\n",
       "<table border=\"1\" class=\"dataframe\">\n",
       "  <thead>\n",
       "    <tr style=\"text-align: right;\">\n",
       "      <th></th>\n",
       "      <th>name</th>\n",
       "      <th>category_list</th>\n",
       "      <th>funding_total_usd</th>\n",
       "      <th>country_code</th>\n",
       "      <th>state_code</th>\n",
       "      <th>region</th>\n",
       "      <th>city</th>\n",
       "      <th>funding_rounds</th>\n",
       "      <th>first_funding_at</th>\n",
       "      <th>last_funding_at</th>\n",
       "      <th>lifetime</th>\n",
       "      <th>time_funding</th>\n",
       "      <th>ratio_fin_ratio</th>\n",
       "      <th>closed_at</th>\n",
       "      <th>how_long</th>\n",
       "      <th>status</th>\n",
       "    </tr>\n",
       "  </thead>\n",
       "  <tbody>\n",
       "    <tr>\n",
       "      <th>0</th>\n",
       "      <td>Crystalsol</td>\n",
       "      <td>Clean Technology</td>\n",
       "      <td>2819200.0</td>\n",
       "      <td>NIC</td>\n",
       "      <td>17</td>\n",
       "      <td>NaN</td>\n",
       "      <td>NaN</td>\n",
       "      <td>1</td>\n",
       "      <td>2009-07-01</td>\n",
       "      <td>2009-07-01</td>\n",
       "      <td>3501</td>\n",
       "      <td>0</td>\n",
       "      <td>0.000000</td>\n",
       "      <td>2017-12-31</td>\n",
       "      <td>3105</td>\n",
       "      <td>operating</td>\n",
       "    </tr>\n",
       "    <tr>\n",
       "      <th>1</th>\n",
       "      <td>JBI Fish &amp; Wings</td>\n",
       "      <td>Hospitality</td>\n",
       "      <td>NaN</td>\n",
       "      <td>USA</td>\n",
       "      <td>TN</td>\n",
       "      <td>TN - Other</td>\n",
       "      <td>Humboldt</td>\n",
       "      <td>1</td>\n",
       "      <td>2010-07-28</td>\n",
       "      <td>2010-07-28</td>\n",
       "      <td>2717</td>\n",
       "      <td>0</td>\n",
       "      <td>0.000000</td>\n",
       "      <td>2017-12-31</td>\n",
       "      <td>2713</td>\n",
       "      <td>operating</td>\n",
       "    </tr>\n",
       "    <tr>\n",
       "      <th>2</th>\n",
       "      <td>COINPLUS</td>\n",
       "      <td>Finance</td>\n",
       "      <td>428257.0</td>\n",
       "      <td>LUX</td>\n",
       "      <td>3</td>\n",
       "      <td>Esch-sur-alzette</td>\n",
       "      <td>Esch-sur-alzette</td>\n",
       "      <td>2</td>\n",
       "      <td>2014-05-15</td>\n",
       "      <td>2014-09-18</td>\n",
       "      <td>1295</td>\n",
       "      <td>126</td>\n",
       "      <td>0.097297</td>\n",
       "      <td>2017-12-31</td>\n",
       "      <td>1200</td>\n",
       "      <td>closed</td>\n",
       "    </tr>\n",
       "    <tr>\n",
       "      <th>3</th>\n",
       "      <td>Imagine Communications</td>\n",
       "      <td>Software|Video|Video Streaming</td>\n",
       "      <td>34700000.0</td>\n",
       "      <td>USA</td>\n",
       "      <td>CA</td>\n",
       "      <td>San Diego</td>\n",
       "      <td>San Diego</td>\n",
       "      <td>4</td>\n",
       "      <td>2005-01-01</td>\n",
       "      <td>2010-04-20</td>\n",
       "      <td>4748</td>\n",
       "      <td>1935</td>\n",
       "      <td>0.407540</td>\n",
       "      <td>2017-12-31</td>\n",
       "      <td>2812</td>\n",
       "      <td>operating</td>\n",
       "    </tr>\n",
       "    <tr>\n",
       "      <th>4</th>\n",
       "      <td>DNA13</td>\n",
       "      <td>Software</td>\n",
       "      <td>4530000.0</td>\n",
       "      <td>CAN</td>\n",
       "      <td>ON</td>\n",
       "      <td>Ottawa</td>\n",
       "      <td>Ottawa</td>\n",
       "      <td>1</td>\n",
       "      <td>2007-05-08</td>\n",
       "      <td>2007-05-08</td>\n",
       "      <td>6209</td>\n",
       "      <td>0</td>\n",
       "      <td>0.000000</td>\n",
       "      <td>2017-12-31</td>\n",
       "      <td>3890</td>\n",
       "      <td>operating</td>\n",
       "    </tr>\n",
       "    <tr>\n",
       "      <th>...</th>\n",
       "      <td>...</td>\n",
       "      <td>...</td>\n",
       "      <td>...</td>\n",
       "      <td>...</td>\n",
       "      <td>...</td>\n",
       "      <td>...</td>\n",
       "      <td>...</td>\n",
       "      <td>...</td>\n",
       "      <td>...</td>\n",
       "      <td>...</td>\n",
       "      <td>...</td>\n",
       "      <td>...</td>\n",
       "      <td>...</td>\n",
       "      <td>...</td>\n",
       "      <td>...</td>\n",
       "      <td>...</td>\n",
       "    </tr>\n",
       "    <tr>\n",
       "      <th>13120</th>\n",
       "      <td>Jymob</td>\n",
       "      <td>Recruiting</td>\n",
       "      <td>28000.0</td>\n",
       "      <td>USA</td>\n",
       "      <td>CA</td>\n",
       "      <td>SF Bay Area</td>\n",
       "      <td>Sunnyvale</td>\n",
       "      <td>1</td>\n",
       "      <td>2012-07-01</td>\n",
       "      <td>2012-07-01</td>\n",
       "      <td>2267</td>\n",
       "      <td>0</td>\n",
       "      <td>0.000000</td>\n",
       "      <td>2017-12-31</td>\n",
       "      <td>2009</td>\n",
       "      <td>operating</td>\n",
       "    </tr>\n",
       "    <tr>\n",
       "      <th>13121</th>\n",
       "      <td>GlobaTrek</td>\n",
       "      <td>Software</td>\n",
       "      <td>NaN</td>\n",
       "      <td>USA</td>\n",
       "      <td>CA</td>\n",
       "      <td>SF Bay Area</td>\n",
       "      <td>Mountain View</td>\n",
       "      <td>1</td>\n",
       "      <td>2013-10-01</td>\n",
       "      <td>2013-10-01</td>\n",
       "      <td>2192</td>\n",
       "      <td>0</td>\n",
       "      <td>0.000000</td>\n",
       "      <td>2017-12-31</td>\n",
       "      <td>1552</td>\n",
       "      <td>operating</td>\n",
       "    </tr>\n",
       "    <tr>\n",
       "      <th>13122</th>\n",
       "      <td>Inkd.com</td>\n",
       "      <td>Design|E-Commerce|Marketplaces|Printing</td>\n",
       "      <td>5600000.0</td>\n",
       "      <td>USA</td>\n",
       "      <td>WA</td>\n",
       "      <td>Seattle</td>\n",
       "      <td>Seattle</td>\n",
       "      <td>3</td>\n",
       "      <td>2008-09-01</td>\n",
       "      <td>2011-06-28</td>\n",
       "      <td>2922</td>\n",
       "      <td>1030</td>\n",
       "      <td>0.352498</td>\n",
       "      <td>2017-12-31</td>\n",
       "      <td>2378</td>\n",
       "      <td>operating</td>\n",
       "    </tr>\n",
       "    <tr>\n",
       "      <th>13123</th>\n",
       "      <td>AdWill</td>\n",
       "      <td>Advertising Exchanges|Mobile|Mobile Advertising</td>\n",
       "      <td>150000.0</td>\n",
       "      <td>USA</td>\n",
       "      <td>NY</td>\n",
       "      <td>New York City</td>\n",
       "      <td>New York</td>\n",
       "      <td>2</td>\n",
       "      <td>2014-09-27</td>\n",
       "      <td>2014-11-04</td>\n",
       "      <td>1386</td>\n",
       "      <td>38</td>\n",
       "      <td>0.027417</td>\n",
       "      <td>2017-12-31</td>\n",
       "      <td>1153</td>\n",
       "      <td>closed</td>\n",
       "    </tr>\n",
       "    <tr>\n",
       "      <th>13124</th>\n",
       "      <td>RingCentral</td>\n",
       "      <td>Communications Hardware|Messaging|Mobile|Offic...</td>\n",
       "      <td>50250000.0</td>\n",
       "      <td>USA</td>\n",
       "      <td>CA</td>\n",
       "      <td>SF Bay Area</td>\n",
       "      <td>San Mateo</td>\n",
       "      <td>6</td>\n",
       "      <td>2007-01-16</td>\n",
       "      <td>2012-11-21</td>\n",
       "      <td>5479</td>\n",
       "      <td>2136</td>\n",
       "      <td>0.389852</td>\n",
       "      <td>2017-12-31</td>\n",
       "      <td>1866</td>\n",
       "      <td>operating</td>\n",
       "    </tr>\n",
       "  </tbody>\n",
       "</table>\n",
       "<p>13125 rows × 16 columns</p>\n",
       "</div>"
      ],
      "text/plain": [
       "                         name  \\\n",
       "0                  Crystalsol   \n",
       "1            JBI Fish & Wings   \n",
       "2                    COINPLUS   \n",
       "3      Imagine Communications   \n",
       "4                       DNA13   \n",
       "...                       ...   \n",
       "13120                   Jymob   \n",
       "13121               GlobaTrek   \n",
       "13122                Inkd.com   \n",
       "13123                  AdWill   \n",
       "13124             RingCentral   \n",
       "\n",
       "                                           category_list  funding_total_usd  \\\n",
       "0                                       Clean Technology          2819200.0   \n",
       "1                                            Hospitality                NaN   \n",
       "2                                                Finance           428257.0   \n",
       "3                         Software|Video|Video Streaming         34700000.0   \n",
       "4                                               Software          4530000.0   \n",
       "...                                                  ...                ...   \n",
       "13120                                         Recruiting            28000.0   \n",
       "13121                                           Software                NaN   \n",
       "13122            Design|E-Commerce|Marketplaces|Printing          5600000.0   \n",
       "13123    Advertising Exchanges|Mobile|Mobile Advertising           150000.0   \n",
       "13124  Communications Hardware|Messaging|Mobile|Offic...         50250000.0   \n",
       "\n",
       "      country_code state_code            region              city  \\\n",
       "0              NIC         17               NaN               NaN   \n",
       "1              USA         TN        TN - Other          Humboldt   \n",
       "2              LUX          3  Esch-sur-alzette  Esch-sur-alzette   \n",
       "3              USA         CA         San Diego         San Diego   \n",
       "4              CAN         ON            Ottawa            Ottawa   \n",
       "...            ...        ...               ...               ...   \n",
       "13120          USA         CA       SF Bay Area         Sunnyvale   \n",
       "13121          USA         CA       SF Bay Area     Mountain View   \n",
       "13122          USA         WA           Seattle           Seattle   \n",
       "13123          USA         NY     New York City          New York   \n",
       "13124          USA         CA       SF Bay Area         San Mateo   \n",
       "\n",
       "       funding_rounds first_funding_at last_funding_at  lifetime  \\\n",
       "0                   1       2009-07-01      2009-07-01      3501   \n",
       "1                   1       2010-07-28      2010-07-28      2717   \n",
       "2                   2       2014-05-15      2014-09-18      1295   \n",
       "3                   4       2005-01-01      2010-04-20      4748   \n",
       "4                   1       2007-05-08      2007-05-08      6209   \n",
       "...               ...              ...             ...       ...   \n",
       "13120               1       2012-07-01      2012-07-01      2267   \n",
       "13121               1       2013-10-01      2013-10-01      2192   \n",
       "13122               3       2008-09-01      2011-06-28      2922   \n",
       "13123               2       2014-09-27      2014-11-04      1386   \n",
       "13124               6       2007-01-16      2012-11-21      5479   \n",
       "\n",
       "       time_funding  ratio_fin_ratio  closed_at  how_long     status  \n",
       "0                 0         0.000000 2017-12-31      3105  operating  \n",
       "1                 0         0.000000 2017-12-31      2713  operating  \n",
       "2               126         0.097297 2017-12-31      1200     closed  \n",
       "3              1935         0.407540 2017-12-31      2812  operating  \n",
       "4                 0         0.000000 2017-12-31      3890  operating  \n",
       "...             ...              ...        ...       ...        ...  \n",
       "13120             0         0.000000 2017-12-31      2009  operating  \n",
       "13121             0         0.000000 2017-12-31      1552  operating  \n",
       "13122          1030         0.352498 2017-12-31      2378  operating  \n",
       "13123            38         0.027417 2017-12-31      1153     closed  \n",
       "13124          2136         0.389852 2017-12-31      1866  operating  \n",
       "\n",
       "[13125 rows x 16 columns]"
      ]
     },
     "execution_count": 42,
     "metadata": {},
     "output_type": "execute_result"
    }
   ],
   "source": [
    "test_data ['status'] = test_data['status'].apply(lambda x: 'operating' if x == 1 else 'closed')\n",
    "test_data"
   ]
  },
  {
   "cell_type": "code",
   "execution_count": 43,
   "id": "88267fb6",
   "metadata": {},
   "outputs": [
    {
     "data": {
      "text/html": [
       "<div>\n",
       "<style scoped>\n",
       "    .dataframe tbody tr th:only-of-type {\n",
       "        vertical-align: middle;\n",
       "    }\n",
       "\n",
       "    .dataframe tbody tr th {\n",
       "        vertical-align: top;\n",
       "    }\n",
       "\n",
       "    .dataframe thead th {\n",
       "        text-align: right;\n",
       "    }\n",
       "</style>\n",
       "<table border=\"1\" class=\"dataframe\">\n",
       "  <thead>\n",
       "    <tr style=\"text-align: right;\">\n",
       "      <th></th>\n",
       "      <th>name</th>\n",
       "      <th>status</th>\n",
       "    </tr>\n",
       "  </thead>\n",
       "  <tbody>\n",
       "    <tr>\n",
       "      <th>0</th>\n",
       "      <td>Crystalsol</td>\n",
       "      <td>operating</td>\n",
       "    </tr>\n",
       "    <tr>\n",
       "      <th>1</th>\n",
       "      <td>JBI Fish &amp; Wings</td>\n",
       "      <td>operating</td>\n",
       "    </tr>\n",
       "    <tr>\n",
       "      <th>2</th>\n",
       "      <td>COINPLUS</td>\n",
       "      <td>closed</td>\n",
       "    </tr>\n",
       "    <tr>\n",
       "      <th>3</th>\n",
       "      <td>Imagine Communications</td>\n",
       "      <td>operating</td>\n",
       "    </tr>\n",
       "    <tr>\n",
       "      <th>4</th>\n",
       "      <td>DNA13</td>\n",
       "      <td>operating</td>\n",
       "    </tr>\n",
       "    <tr>\n",
       "      <th>...</th>\n",
       "      <td>...</td>\n",
       "      <td>...</td>\n",
       "    </tr>\n",
       "    <tr>\n",
       "      <th>13120</th>\n",
       "      <td>Jymob</td>\n",
       "      <td>operating</td>\n",
       "    </tr>\n",
       "    <tr>\n",
       "      <th>13121</th>\n",
       "      <td>GlobaTrek</td>\n",
       "      <td>operating</td>\n",
       "    </tr>\n",
       "    <tr>\n",
       "      <th>13122</th>\n",
       "      <td>Inkd.com</td>\n",
       "      <td>operating</td>\n",
       "    </tr>\n",
       "    <tr>\n",
       "      <th>13123</th>\n",
       "      <td>AdWill</td>\n",
       "      <td>closed</td>\n",
       "    </tr>\n",
       "    <tr>\n",
       "      <th>13124</th>\n",
       "      <td>RingCentral</td>\n",
       "      <td>operating</td>\n",
       "    </tr>\n",
       "  </tbody>\n",
       "</table>\n",
       "<p>13125 rows × 2 columns</p>\n",
       "</div>"
      ],
      "text/plain": [
       "                         name     status\n",
       "0                  Crystalsol  operating\n",
       "1            JBI Fish & Wings  operating\n",
       "2                    COINPLUS     closed\n",
       "3      Imagine Communications  operating\n",
       "4                       DNA13  operating\n",
       "...                       ...        ...\n",
       "13120                   Jymob  operating\n",
       "13121               GlobaTrek  operating\n",
       "13122                Inkd.com  operating\n",
       "13123                  AdWill     closed\n",
       "13124             RingCentral  operating\n",
       "\n",
       "[13125 rows x 2 columns]"
      ]
     },
     "execution_count": 43,
     "metadata": {},
     "output_type": "execute_result"
    }
   ],
   "source": [
    "feedback = test_data [['name', 'status']]\n",
    "feedback"
   ]
  },
  {
   "cell_type": "code",
   "execution_count": 44,
   "id": "14ea330c",
   "metadata": {},
   "outputs": [],
   "source": [
    "feedback.to_csv(r'C:\\Users\\Алекс\\Desktop\\projects\\startups_closing\\datasets\\feedback.csv', index=False)"
   ]
  },
  {
   "cell_type": "code",
   "execution_count": null,
   "id": "5c110a6e",
   "metadata": {},
   "outputs": [],
   "source": []
  }
 ],
 "metadata": {
  "kernelspec": {
   "display_name": "Python 3 (ipykernel)",
   "language": "python",
   "name": "python3"
  },
  "language_info": {
   "codemirror_mode": {
    "name": "ipython",
    "version": 3
   },
   "file_extension": ".py",
   "mimetype": "text/x-python",
   "name": "python",
   "nbconvert_exporter": "python",
   "pygments_lexer": "ipython3",
   "version": "3.11.5"
  },
  "toc": {
   "base_numbering": 1,
   "nav_menu": {},
   "number_sections": true,
   "sideBar": true,
   "skip_h1_title": false,
   "title_cell": "Table of Contents",
   "title_sidebar": "Contents",
   "toc_cell": false,
   "toc_position": {},
   "toc_section_display": true,
   "toc_window_display": true
  }
 },
 "nbformat": 4,
 "nbformat_minor": 5
}
