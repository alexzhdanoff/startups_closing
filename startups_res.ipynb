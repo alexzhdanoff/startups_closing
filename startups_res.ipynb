{
 "cells": [
  {
   "cell_type": "markdown",
   "id": "dc633c3b",
   "metadata": {},
   "source": [
    " # Прогнозирование статуса (закрыт/работает) стартапов"
   ]
  },
  {
   "cell_type": "markdown",
   "id": "d109a05e",
   "metadata": {},
   "source": [
    "## Цель исследования\n",
    "\n",
    "Цель - разработать модель прогнозирования статуса стартапа.\n",
    "\n",
    "Прогноз должен быть выполнен в бинарном формате - закрыт/работает.\n",
    "\n",
    "Качество модели оцениваем по метрике f1."
   ]
  },
  {
   "cell_type": "markdown",
   "id": "df18db0f",
   "metadata": {},
   "source": [
    "## Исходные данные"
   ]
  },
  {
   "cell_type": "markdown",
   "id": "67e9a20b",
   "metadata": {},
   "source": [
    "Датасет с тренировочной выборкой данных (далее train_data)  - содержит следующие данные:\n",
    "\n",
    "- 'name' - имя компании/стартапа;\n",
    "- 'category_list' - отрасль, в которой работает стартап;\n",
    "- 'funding_total_usd' - общий объем финансирования, который был получен стартапом;\n",
    "- 'status' - статус - закрыт/действует (таргет);\n",
    "- 'country_code' - страна, где был зарегистрирован стартап;\n",
    "- 'state_code' - код штата/региона, где был зарегистрирован стартап;\n",
    "- 'region' - регион страны, где был зарегистрирован стартап;\n",
    "- 'city' - город страны, где был зарегистрирован стартап;\n",
    "- 'funding_rounds' - количество раундов финансирования, через которые прошел стартап;\n",
    "- 'founded_at' - дата, когда был основан стартап;\n",
    "- 'first_funding_at' - дата, когда было получено первое финансирование;\n",
    "- 'last_funding_at' - дата, когда было получено последнее финансирование;\n",
    "- 'closed_at' - дата закрытия (если стартап прекратил свое существование)\n",
    "\n",
    "Датасет с тестовой выборкой данных (далее test_data)  - содержит следующие данные:\n",
    "- 'name' - имя компании/стартапа;\n",
    "- 'category_list' - отрасль, в которой работает стартап; \n",
    "- 'funding_total_usd' - общий объем финансирования, который был получен стартапом;\n",
    "- 'country_code' - страна, где был зарегистрирован стартап;\n",
    "- 'state_code'- код штата/региона, где был зарегистрирован стартап;\n",
    "- 'region' - регион страны, где был зарегистрирован стартап;\n",
    "- 'city' - город страны, где был зарегистрирован стартап;\n",
    "- 'funding_rounds' - количество раундов финансирования, через которые прошел стартап;\n",
    "- 'first_funding_at' - дата, когда было получено первое финансирование;\n",
    "- 'last_funding_at' - дата, когда было получено последнее финансирование;\n",
    "- 'lifetime' - время жизни стартапа."
   ]
  },
  {
   "cell_type": "markdown",
   "id": "92ee1118",
   "metadata": {},
   "source": [
    "## План исследования\n",
    "\n",
    "1. Загрузка данных\n",
    "2. Предобработка исходных данных\n",
    "3. Исследовательский анализ данных, поиск аномалий\n",
    "4. Разработка и тестирование модели прогнозирования\n",
    "5. Формулирование выводов"
   ]
  },
  {
   "cell_type": "markdown",
   "id": "bf2dba24",
   "metadata": {},
   "source": [
    "# Исследование"
   ]
  },
  {
   "cell_type": "markdown",
   "id": "ab7d5bf0",
   "metadata": {},
   "source": [
    "## Загрузка данных"
   ]
  },
  {
   "cell_type": "code",
   "execution_count": 1,
   "id": "a8a1fdf9",
   "metadata": {},
   "outputs": [],
   "source": [
    "import pandas as pd\n",
    "import numpy as np\n",
    "import matplotlib.pyplot as plt\n",
    "import scipy.stats as st\n",
    "import seaborn as sns\n",
    "import phik\n",
    "\n",
    "import sklearn\n",
    "import lightgbm as lgb \n",
    "import shap \n"
   ]
  },
  {
   "cell_type": "code",
   "execution_count": 2,
   "id": "21fc0561",
   "metadata": {},
   "outputs": [
    {
     "name": "stdout",
     "output_type": "stream",
     "text": [
      "1.2.2\n"
     ]
    }
   ],
   "source": [
    "# должно быть не выше 1.2.2\n",
    "print(sklearn.__version__)"
   ]
  },
  {
   "cell_type": "code",
   "execution_count": null,
   "id": "4153f4fc",
   "metadata": {},
   "outputs": [],
   "source": []
  },
  {
   "cell_type": "code",
   "execution_count": 3,
   "id": "12ed4d6a",
   "metadata": {},
   "outputs": [],
   "source": [
    "from scipy.stats import anderson\n",
    "\n",
    "\n",
    "\n",
    "from statsmodels.stats.outliers_influence import variance_inflation_factor\n",
    "\n",
    "from sklearn.compose import ColumnTransformer\n",
    "from sklearn.pipeline import Pipeline\n",
    "\n",
    "from sklearn.model_selection import RandomizedSearchCV, GridSearchCV\n",
    "from sklearn.metrics import f1_score, accuracy_score, roc_auc_score\n",
    "\n",
    "from sklearn.preprocessing import OrdinalEncoder, StandardScaler, LabelEncoder, StandardScaler, MinMaxScaler\n",
    "from sklearn.impute import SimpleImputer\n",
    "\n",
    "from sklearn.tree import DecisionTreeClassifier\n",
    "from catboost import CatBoostClassifier\n",
    "from lightgbm import LGBMClassifier\n",
    "\n",
    "RANDOM_STATE = 42"
   ]
  },
  {
   "cell_type": "code",
   "execution_count": 4,
   "id": "3bdde174",
   "metadata": {},
   "outputs": [],
   "source": [
    "# пользовательская функция для анализа данных числового типа \n",
    "# вычисляет для заданного датасета и его поля:\n",
    "# (1) статистические характеристики;\n",
    "# (2) создает гистограмму и (3) боксплот на общей оси x; \n",
    "# (4) выполняет тест Уилка-Шапиро на нормальность распределения значений \n",
    "\n",
    "def num_stat_description (dataset, col, bins, title):\n",
    "\n",
    "    # задаем на полотне два графика, один под другим, с общей осью х\n",
    "    fig, (ax_hist, ax_box) = plt.subplots(2, 1, figsize=(15, 7), sharex=True) \n",
    "\n",
    "    # (1) вычисляем статистические характеристики\n",
    "    mean = dataset[col].mean()\n",
    "    median = dataset[col].median()\n",
    "    std = dataset[col].std()\n",
    "\n",
    "    # (2) создаем гистограмму\n",
    "    dataset[col].hist(bins=bins, label=col, ax=ax_hist)\n",
    "        \n",
    "    # наносим на гистограмму среднее и медиану \n",
    "    ax_hist.axvline(x=mean, color='red', linestyle='solid', linewidth=2, label=f'Mean: {mean:.2f}')\n",
    "    ax_hist.axvline(x=median, color='orange', linestyle='solid', linewidth=2, label=f'Median: {median:.2f}')\n",
    "\n",
    "    # наносим на гистограмму также и ско\n",
    "    ax_hist.axvline(x=mean + std, color='green', linestyle='dashed', linewidth=2, label=f'+1Std: {std:.2f}')\n",
    "    ax_hist.axvline(x=mean - std, color='green', linestyle='dashed', linewidth=2, label=f'-1Std: {-std:.2f}')\n",
    "    \n",
    "    ax_hist.axvline(x=mean + 2 * std, color='orange', linestyle='dashed', linewidth=2, label=f'+2Std: {2*std:.2f}')\n",
    "    ax_hist.axvline(x=mean - 2 * std, color='orange', linestyle='dashed', linewidth=2, label=f'-2Std: {-2*std:.2f}')\n",
    "    \n",
    "    ax_hist.axvline(x=mean + 3 * std, color='red', linestyle='dashed', linewidth=2, label=f'+3Std: {3*std:.2f}')\n",
    "    ax_hist.axvline(x=mean - 3 * std, color='red', linestyle='dashed', linewidth=2, label=f'-3Std: {-3*std:.2f}')\n",
    "\n",
    "\n",
    "    # (3) боксплот (развернут горизонтально)\n",
    "    boxplot = dataset.boxplot(column=col, vert=False, ax=ax_box)\n",
    "\n",
    "    ax_hist.set_ylabel('Частота значений')\n",
    "    ax_hist.legend(bbox_to_anchor=(1, 1))\n",
    "    plt.suptitle(title)\n",
    "    plt.show()"
   ]
  },
  {
   "cell_type": "code",
   "execution_count": 5,
   "id": "a3a5fe65",
   "metadata": {
    "scrolled": false
   },
   "outputs": [
    {
     "data": {
      "text/html": [
       "<div>\n",
       "<style scoped>\n",
       "    .dataframe tbody tr th:only-of-type {\n",
       "        vertical-align: middle;\n",
       "    }\n",
       "\n",
       "    .dataframe tbody tr th {\n",
       "        vertical-align: top;\n",
       "    }\n",
       "\n",
       "    .dataframe thead th {\n",
       "        text-align: right;\n",
       "    }\n",
       "</style>\n",
       "<table border=\"1\" class=\"dataframe\">\n",
       "  <thead>\n",
       "    <tr style=\"text-align: right;\">\n",
       "      <th></th>\n",
       "      <th>name</th>\n",
       "      <th>category_list</th>\n",
       "      <th>funding_total_usd</th>\n",
       "      <th>status</th>\n",
       "      <th>country_code</th>\n",
       "      <th>state_code</th>\n",
       "      <th>region</th>\n",
       "      <th>city</th>\n",
       "      <th>funding_rounds</th>\n",
       "      <th>founded_at</th>\n",
       "      <th>first_funding_at</th>\n",
       "      <th>last_funding_at</th>\n",
       "      <th>closed_at</th>\n",
       "    </tr>\n",
       "  </thead>\n",
       "  <tbody>\n",
       "    <tr>\n",
       "      <th>0</th>\n",
       "      <td>Lunchgate</td>\n",
       "      <td>Online Reservations|Restaurants</td>\n",
       "      <td>828626.0</td>\n",
       "      <td>operating</td>\n",
       "      <td>CHE</td>\n",
       "      <td>25</td>\n",
       "      <td>Zurich</td>\n",
       "      <td>Zürich</td>\n",
       "      <td>2</td>\n",
       "      <td>2009-10-17</td>\n",
       "      <td>2011-05-01</td>\n",
       "      <td>2014-12-01</td>\n",
       "      <td>NaN</td>\n",
       "    </tr>\n",
       "    <tr>\n",
       "      <th>1</th>\n",
       "      <td>EarLens</td>\n",
       "      <td>Manufacturing|Medical|Medical Devices</td>\n",
       "      <td>42935019.0</td>\n",
       "      <td>operating</td>\n",
       "      <td>USA</td>\n",
       "      <td>CA</td>\n",
       "      <td>SF Bay Area</td>\n",
       "      <td>Redwood City</td>\n",
       "      <td>4</td>\n",
       "      <td>2005-01-01</td>\n",
       "      <td>2010-05-04</td>\n",
       "      <td>2014-02-25</td>\n",
       "      <td>NaN</td>\n",
       "    </tr>\n",
       "    <tr>\n",
       "      <th>2</th>\n",
       "      <td>Reviva Pharmaceuticals</td>\n",
       "      <td>Biotechnology</td>\n",
       "      <td>35456381.0</td>\n",
       "      <td>operating</td>\n",
       "      <td>USA</td>\n",
       "      <td>CA</td>\n",
       "      <td>SF Bay Area</td>\n",
       "      <td>San Jose</td>\n",
       "      <td>3</td>\n",
       "      <td>2006-01-01</td>\n",
       "      <td>2012-08-20</td>\n",
       "      <td>2014-07-02</td>\n",
       "      <td>NaN</td>\n",
       "    </tr>\n",
       "    <tr>\n",
       "      <th>3</th>\n",
       "      <td>Sancilio and Company</td>\n",
       "      <td>Health Care</td>\n",
       "      <td>22250000.0</td>\n",
       "      <td>operating</td>\n",
       "      <td>NaN</td>\n",
       "      <td>NaN</td>\n",
       "      <td>NaN</td>\n",
       "      <td>NaN</td>\n",
       "      <td>3</td>\n",
       "      <td>2004-01-01</td>\n",
       "      <td>2011-09-01</td>\n",
       "      <td>2014-07-18</td>\n",
       "      <td>NaN</td>\n",
       "    </tr>\n",
       "    <tr>\n",
       "      <th>4</th>\n",
       "      <td>WireTough Cylinders</td>\n",
       "      <td>Manufacturing</td>\n",
       "      <td>NaN</td>\n",
       "      <td>operating</td>\n",
       "      <td>USA</td>\n",
       "      <td>VA</td>\n",
       "      <td>VA - Other</td>\n",
       "      <td>Bristol</td>\n",
       "      <td>1</td>\n",
       "      <td>2010-05-12</td>\n",
       "      <td>2012-02-01</td>\n",
       "      <td>2012-02-01</td>\n",
       "      <td>NaN</td>\n",
       "    </tr>\n",
       "  </tbody>\n",
       "</table>\n",
       "</div>"
      ],
      "text/plain": [
       "                     name                          category_list  \\\n",
       "0               Lunchgate        Online Reservations|Restaurants   \n",
       "1                 EarLens  Manufacturing|Medical|Medical Devices   \n",
       "2  Reviva Pharmaceuticals                          Biotechnology   \n",
       "3    Sancilio and Company                            Health Care   \n",
       "4     WireTough Cylinders                          Manufacturing   \n",
       "\n",
       "   funding_total_usd     status country_code state_code       region  \\\n",
       "0           828626.0  operating          CHE         25       Zurich   \n",
       "1         42935019.0  operating          USA         CA  SF Bay Area   \n",
       "2         35456381.0  operating          USA         CA  SF Bay Area   \n",
       "3         22250000.0  operating          NaN        NaN          NaN   \n",
       "4                NaN  operating          USA         VA   VA - Other   \n",
       "\n",
       "           city  funding_rounds  founded_at first_funding_at last_funding_at  \\\n",
       "0        Zürich               2  2009-10-17       2011-05-01      2014-12-01   \n",
       "1  Redwood City               4  2005-01-01       2010-05-04      2014-02-25   \n",
       "2      San Jose               3  2006-01-01       2012-08-20      2014-07-02   \n",
       "3           NaN               3  2004-01-01       2011-09-01      2014-07-18   \n",
       "4       Bristol               1  2010-05-12       2012-02-01      2012-02-01   \n",
       "\n",
       "  closed_at  \n",
       "0       NaN  \n",
       "1       NaN  \n",
       "2       NaN  \n",
       "3       NaN  \n",
       "4       NaN  "
      ]
     },
     "metadata": {},
     "output_type": "display_data"
    },
    {
     "name": "stdout",
     "output_type": "stream",
     "text": [
      "<class 'pandas.core.frame.DataFrame'>\n",
      "RangeIndex: 52516 entries, 0 to 52515\n",
      "Data columns (total 13 columns):\n",
      " #   Column             Non-Null Count  Dtype  \n",
      "---  ------             --------------  -----  \n",
      " 0   name               52515 non-null  object \n",
      " 1   category_list      50051 non-null  object \n",
      " 2   funding_total_usd  42447 non-null  float64\n",
      " 3   status             52516 non-null  object \n",
      " 4   country_code       47014 non-null  object \n",
      " 5   state_code         45753 non-null  object \n",
      " 6   region             46157 non-null  object \n",
      " 7   city               46157 non-null  object \n",
      " 8   funding_rounds     52516 non-null  int64  \n",
      " 9   founded_at         52516 non-null  object \n",
      " 10  first_funding_at   52516 non-null  object \n",
      " 11  last_funding_at    52516 non-null  object \n",
      " 12  closed_at          4917 non-null   object \n",
      "dtypes: float64(1), int64(1), object(11)\n",
      "memory usage: 5.2+ MB\n"
     ]
    }
   ],
   "source": [
    "train_data = pd.read_csv('datasets\\kaggle_startups_train_28062024.csv')\n",
    "\n",
    "display(train_data.head(5))\n",
    "train_data.info()"
   ]
  },
  {
   "cell_type": "markdown",
   "id": "8b8fdef9",
   "metadata": {},
   "source": [
    "**Выводы по набору тренировочных данных (train_data):**\n",
    "\n",
    "- всего 52 516 записей в датасете, 13 полей;\n",
    "- предварительно данные соответствуют описанию;\n",
    "- есть пропуски, в некоторых полях порядка 20% (например, funding_total);\n",
    "- есть несоответствие типа данных: поля с датами имеют тип object (founded_at, closed_at, first_funding_at, last_funding_at);\n",
    "- названия полей соответствуют змеиному стилю;\n",
    "- неявных дублей пока не обнаружено."
   ]
  },
  {
   "cell_type": "code",
   "execution_count": 6,
   "id": "58feb1a3",
   "metadata": {
    "scrolled": false
   },
   "outputs": [
    {
     "data": {
      "text/html": [
       "<div>\n",
       "<style scoped>\n",
       "    .dataframe tbody tr th:only-of-type {\n",
       "        vertical-align: middle;\n",
       "    }\n",
       "\n",
       "    .dataframe tbody tr th {\n",
       "        vertical-align: top;\n",
       "    }\n",
       "\n",
       "    .dataframe thead th {\n",
       "        text-align: right;\n",
       "    }\n",
       "</style>\n",
       "<table border=\"1\" class=\"dataframe\">\n",
       "  <thead>\n",
       "    <tr style=\"text-align: right;\">\n",
       "      <th></th>\n",
       "      <th>name</th>\n",
       "      <th>category_list</th>\n",
       "      <th>funding_total_usd</th>\n",
       "      <th>country_code</th>\n",
       "      <th>state_code</th>\n",
       "      <th>region</th>\n",
       "      <th>city</th>\n",
       "      <th>funding_rounds</th>\n",
       "      <th>first_funding_at</th>\n",
       "      <th>last_funding_at</th>\n",
       "      <th>lifetime</th>\n",
       "    </tr>\n",
       "  </thead>\n",
       "  <tbody>\n",
       "    <tr>\n",
       "      <th>0</th>\n",
       "      <td>Crystalsol</td>\n",
       "      <td>Clean Technology</td>\n",
       "      <td>2819200.0</td>\n",
       "      <td>NIC</td>\n",
       "      <td>17</td>\n",
       "      <td>NaN</td>\n",
       "      <td>NaN</td>\n",
       "      <td>1</td>\n",
       "      <td>2009-07-01</td>\n",
       "      <td>2009-07-01</td>\n",
       "      <td>3501</td>\n",
       "    </tr>\n",
       "    <tr>\n",
       "      <th>1</th>\n",
       "      <td>JBI Fish &amp; Wings</td>\n",
       "      <td>Hospitality</td>\n",
       "      <td>NaN</td>\n",
       "      <td>USA</td>\n",
       "      <td>TN</td>\n",
       "      <td>TN - Other</td>\n",
       "      <td>Humboldt</td>\n",
       "      <td>1</td>\n",
       "      <td>2010-07-28</td>\n",
       "      <td>2010-07-28</td>\n",
       "      <td>2717</td>\n",
       "    </tr>\n",
       "    <tr>\n",
       "      <th>2</th>\n",
       "      <td>COINPLUS</td>\n",
       "      <td>Finance</td>\n",
       "      <td>428257.0</td>\n",
       "      <td>LUX</td>\n",
       "      <td>3</td>\n",
       "      <td>Esch-sur-alzette</td>\n",
       "      <td>Esch-sur-alzette</td>\n",
       "      <td>2</td>\n",
       "      <td>2014-05-15</td>\n",
       "      <td>2014-09-18</td>\n",
       "      <td>1295</td>\n",
       "    </tr>\n",
       "    <tr>\n",
       "      <th>3</th>\n",
       "      <td>Imagine Communications</td>\n",
       "      <td>Software|Video|Video Streaming</td>\n",
       "      <td>34700000.0</td>\n",
       "      <td>USA</td>\n",
       "      <td>CA</td>\n",
       "      <td>San Diego</td>\n",
       "      <td>San Diego</td>\n",
       "      <td>4</td>\n",
       "      <td>2005-01-01</td>\n",
       "      <td>2010-04-20</td>\n",
       "      <td>4748</td>\n",
       "    </tr>\n",
       "    <tr>\n",
       "      <th>4</th>\n",
       "      <td>DNA13</td>\n",
       "      <td>Software</td>\n",
       "      <td>4530000.0</td>\n",
       "      <td>CAN</td>\n",
       "      <td>ON</td>\n",
       "      <td>Ottawa</td>\n",
       "      <td>Ottawa</td>\n",
       "      <td>1</td>\n",
       "      <td>2007-05-08</td>\n",
       "      <td>2007-05-08</td>\n",
       "      <td>6209</td>\n",
       "    </tr>\n",
       "  </tbody>\n",
       "</table>\n",
       "</div>"
      ],
      "text/plain": [
       "                     name                   category_list  funding_total_usd  \\\n",
       "0              Crystalsol                Clean Technology          2819200.0   \n",
       "1        JBI Fish & Wings                     Hospitality                NaN   \n",
       "2                COINPLUS                         Finance           428257.0   \n",
       "3  Imagine Communications  Software|Video|Video Streaming         34700000.0   \n",
       "4                   DNA13                        Software          4530000.0   \n",
       "\n",
       "  country_code state_code            region              city  funding_rounds  \\\n",
       "0          NIC         17               NaN               NaN               1   \n",
       "1          USA         TN        TN - Other          Humboldt               1   \n",
       "2          LUX          3  Esch-sur-alzette  Esch-sur-alzette               2   \n",
       "3          USA         CA         San Diego         San Diego               4   \n",
       "4          CAN         ON            Ottawa            Ottawa               1   \n",
       "\n",
       "  first_funding_at last_funding_at  lifetime  \n",
       "0       2009-07-01      2009-07-01      3501  \n",
       "1       2010-07-28      2010-07-28      2717  \n",
       "2       2014-05-15      2014-09-18      1295  \n",
       "3       2005-01-01      2010-04-20      4748  \n",
       "4       2007-05-08      2007-05-08      6209  "
      ]
     },
     "metadata": {},
     "output_type": "display_data"
    },
    {
     "name": "stdout",
     "output_type": "stream",
     "text": [
      "<class 'pandas.core.frame.DataFrame'>\n",
      "RangeIndex: 13125 entries, 0 to 13124\n",
      "Data columns (total 11 columns):\n",
      " #   Column             Non-Null Count  Dtype  \n",
      "---  ------             --------------  -----  \n",
      " 0   name               13125 non-null  object \n",
      " 1   category_list      12534 non-null  object \n",
      " 2   funding_total_usd  10547 non-null  float64\n",
      " 3   country_code       11743 non-null  object \n",
      " 4   state_code         11430 non-null  object \n",
      " 5   region             11536 non-null  object \n",
      " 6   city               11538 non-null  object \n",
      " 7   funding_rounds     13125 non-null  int64  \n",
      " 8   first_funding_at   13125 non-null  object \n",
      " 9   last_funding_at    13125 non-null  object \n",
      " 10  lifetime           13125 non-null  int64  \n",
      "dtypes: float64(1), int64(2), object(8)\n",
      "memory usage: 1.1+ MB\n"
     ]
    }
   ],
   "source": [
    "test_data = pd.read_csv('datasets\\kaggle_startups_test_28062024.csv')\n",
    "\n",
    "display(test_data.head(5))\n",
    "test_data.info()"
   ]
  },
  {
   "cell_type": "markdown",
   "id": "3093177b",
   "metadata": {},
   "source": [
    "**Выводы по набору тестовых данных (test_data):**\n",
    "\n",
    "- всего 13 125 записей в датасете, 11 полей;\n",
    "- предварительно данные соответствуют описанию;\n",
    "- есть пропуски, в некоторых полях порядка 20% (например, funding_total);\n",
    "- есть несоответствие типа данных: поля с датами имеют тип object (first_funding_at, last_funding_at);\n",
    "- названия полей соответствуют змеиному стилю;\n",
    "- неявных дублей пока не обнаружено;\n",
    "\n",
    "Также, стоить отметить (относительно  тренировочного датасета): \n",
    "- отсутствует поле status (что логично, мы его будем прогнозировать и это тестовая выборка), \n",
    "- отсутствует поле closed_at и founded_at, но есть поле lifetime, которое можно предположить и есть разница между closed_at и founded_at."
   ]
  },
  {
   "cell_type": "markdown",
   "id": "0628940b",
   "metadata": {},
   "source": [
    "## Предобработка данных\n",
    "\n",
    "Задачи этапа предобработки:\n",
    "- проверка и устранение корректного наименования полей (здесь мы уже убедились, проблем нет);\n",
    "- наличие полных дубликатов записей;\n",
    "- проверка и устранение некорректных типов данных (поля с данными типа object, которые по факту содержат даты);\n",
    "- проверка и устранение пропусков данных\n",
    "- наличие неявных дубликатов значений (в текстовых полях)\n"
   ]
  },
  {
   "cell_type": "markdown",
   "id": "9ee5273b",
   "metadata": {},
   "source": [
    "### Проверка полных дубликатов записей:"
   ]
  },
  {
   "cell_type": "code",
   "execution_count": 7,
   "id": "f9b71772",
   "metadata": {
    "scrolled": true
   },
   "outputs": [
    {
     "data": {
      "text/plain": [
       "0"
      ]
     },
     "metadata": {},
     "output_type": "display_data"
    },
    {
     "data": {
      "text/plain": [
       "0"
      ]
     },
     "metadata": {},
     "output_type": "display_data"
    }
   ],
   "source": [
    "display(train_data.duplicated().sum())\n",
    "display(test_data.duplicated().sum())"
   ]
  },
  {
   "cell_type": "markdown",
   "id": "e8e623a0",
   "metadata": {},
   "source": [
    "Вывод: полных дубликатов записей нет."
   ]
  },
  {
   "cell_type": "markdown",
   "id": "f1590275",
   "metadata": {},
   "source": [
    "### Преобразование типов данных "
   ]
  },
  {
   "cell_type": "code",
   "execution_count": 8,
   "id": "38816032",
   "metadata": {},
   "outputs": [
    {
     "name": "stdout",
     "output_type": "stream",
     "text": [
      "<class 'pandas.core.frame.DataFrame'>\n",
      "RangeIndex: 52516 entries, 0 to 52515\n",
      "Data columns (total 13 columns):\n",
      " #   Column             Non-Null Count  Dtype         \n",
      "---  ------             --------------  -----         \n",
      " 0   name               52515 non-null  object        \n",
      " 1   category_list      50051 non-null  object        \n",
      " 2   funding_total_usd  42447 non-null  float64       \n",
      " 3   status             52516 non-null  object        \n",
      " 4   country_code       47014 non-null  object        \n",
      " 5   state_code         45753 non-null  object        \n",
      " 6   region             46157 non-null  object        \n",
      " 7   city               46157 non-null  object        \n",
      " 8   funding_rounds     52516 non-null  int64         \n",
      " 9   founded_at         52516 non-null  datetime64[ns]\n",
      " 10  first_funding_at   52516 non-null  datetime64[ns]\n",
      " 11  last_funding_at    52516 non-null  datetime64[ns]\n",
      " 12  closed_at          4917 non-null   datetime64[ns]\n",
      "dtypes: datetime64[ns](4), float64(1), int64(1), object(7)\n",
      "memory usage: 5.2+ MB\n"
     ]
    }
   ],
   "source": [
    "# приведение к типу дата полей first_funding_at, last_funding_at в тренировочной выборке \n",
    "train_data['first_funding_at'] = pd.to_datetime(train_data['first_funding_at'], format='%Y-%m-%d')\n",
    "train_data['last_funding_at'] = pd.to_datetime(train_data['last_funding_at'], format='%Y-%m-%d')\n",
    "\n",
    "# приведение к типу дата полей founded_at, closed_at в тренировочной выборке \n",
    "train_data['founded_at'] = pd.to_datetime(train_data['founded_at'], format='%Y-%m-%d')\n",
    "train_data['closed_at'] = pd.to_datetime(train_data['closed_at'], format='%Y-%m-%d')\n",
    "\n",
    "train_data.info()"
   ]
  },
  {
   "cell_type": "markdown",
   "id": "5228789a",
   "metadata": {},
   "source": [
    "Можно заметить, что мы имеем большое количество пропусков в closed_at. Возможно это связано с тем, что там имеются данные по компаниям, которые закрыты, а по действующим - такой записи соответственно нет.\n",
    "\n",
    "Проверим это:"
   ]
  },
  {
   "cell_type": "code",
   "execution_count": 9,
   "id": "733180b1",
   "metadata": {},
   "outputs": [
    {
     "data": {
      "text/plain": [
       "False"
      ]
     },
     "execution_count": 9,
     "metadata": {},
     "output_type": "execute_result"
    }
   ],
   "source": [
    "train_data.query('status == \"closed\"')['closed_at'].isna().any()"
   ]
  },
  {
   "cell_type": "code",
   "execution_count": 10,
   "id": "e8def6ec",
   "metadata": {},
   "outputs": [
    {
     "data": {
      "text/plain": [
       "True"
      ]
     },
     "execution_count": 10,
     "metadata": {},
     "output_type": "execute_result"
    }
   ],
   "source": [
    "train_data.query('status == \"operating\"')['closed_at'].isna().all()"
   ]
  },
  {
   "cell_type": "markdown",
   "id": "6c762c4e",
   "metadata": {},
   "source": [
    "Тем, не менее чтобы ввести аналогичное как в тестовой выборке поле lifetime, нам нужно некоторое условное значение для КАЖДОЙ компании, даже не закрытой, относительно которой мы будем считать lifetime (из чего будем вычитать founded_at).\n",
    "\n",
    "Дата будет иметь условное значение в данном случае (это некоторый текущий момент, где мы проводим анализ по сути) - компания не закрыта, но мы анализируем срок жизни компании относительно ТЕКУЩЕГО МОМЕНТА и можем сравнивать со сроком жизни уже закрытых компаний."
   ]
  },
  {
   "cell_type": "markdown",
   "id": "4db88158",
   "metadata": {},
   "source": [
    "Чтобы выбрать эту условную дату для заполнения closed_at (и сплошного расчета lifetime), посмотрим где у нас заканчиваются записи о закрытии. Так как если мы введем, текущую дату - 2024 год, то тогда lifetime действующих компаний может существенно отличаться от закрытых, в случае если, скажем, мы имеем данные только до 2015 года о закрытии - и это может скомпрометировать модель на тестовых данных затем)."
   ]
  },
  {
   "cell_type": "code",
   "execution_count": 11,
   "id": "9913069f",
   "metadata": {
    "scrolled": true
   },
   "outputs": [
    {
     "data": {
      "text/plain": [
       "Timestamp('2017-10-21 00:00:00')"
      ]
     },
     "execution_count": 11,
     "metadata": {},
     "output_type": "execute_result"
    }
   ],
   "source": [
    "train_data['closed_at'].max()"
   ]
  },
  {
   "cell_type": "markdown",
   "id": "c4faf281",
   "metadata": {},
   "source": [
    "Самая поздняя запись у нас - за 2017 октябрь. Следовательно наша точка, в которой находится условный наблюдатель - это 2018, не позднее, иначе у нас были бы более актуальные данные.\n",
    "\n",
    "Заполним тогда все пропуски в поле closed_at 2018-01-01, для расчета lifetime по всем компаниям:"
   ]
  },
  {
   "cell_type": "code",
   "execution_count": 12,
   "id": "9879411f",
   "metadata": {},
   "outputs": [],
   "source": [
    "train_data['closed_at'] = train_data['closed_at'].fillna('2018-01-01')\n",
    "train_data['lifetime'] = train_data['closed_at'] - train_data['founded_at']\n",
    "\n",
    "# преобразуем lifetime из времени в в целочисленный тип, выраженный в днях (аналогично тестовому набору данных)\n",
    "train_data['lifetime'] = train_data['lifetime'].astype('int64') // 10**9 // 86400"
   ]
  },
  {
   "cell_type": "markdown",
   "id": "bef7bedf",
   "metadata": {},
   "source": [
    "Посмотрим теперь статистику значений этого поля в тестовом и тренировочном наборах данных:"
   ]
  },
  {
   "cell_type": "code",
   "execution_count": 13,
   "id": "a810dd4b",
   "metadata": {
    "scrolled": false
   },
   "outputs": [
    {
     "data": {
      "text/plain": [
       "count    52516.000000\n",
       "mean      3140.828129\n",
       "std       2147.821070\n",
       "min         19.000000\n",
       "25%       1739.000000\n",
       "50%       2557.000000\n",
       "75%       4018.000000\n",
       "max      17378.000000\n",
       "Name: lifetime, dtype: float64"
      ]
     },
     "execution_count": 13,
     "metadata": {},
     "output_type": "execute_result"
    }
   ],
   "source": [
    "train_data['lifetime'].describe()"
   ]
  },
  {
   "cell_type": "code",
   "execution_count": 14,
   "id": "47fb930a",
   "metadata": {
    "scrolled": true
   },
   "outputs": [
    {
     "data": {
      "text/plain": [
       "count    13125.000000\n",
       "mean      3097.609524\n",
       "std       2128.356554\n",
       "min         52.000000\n",
       "25%       1726.000000\n",
       "50%       2526.000000\n",
       "75%       3866.000000\n",
       "max      17167.000000\n",
       "Name: lifetime, dtype: float64"
      ]
     },
     "execution_count": 14,
     "metadata": {},
     "output_type": "execute_result"
    }
   ],
   "source": [
    "test_data['lifetime'].describe()"
   ]
  },
  {
   "cell_type": "markdown",
   "id": "04c93397",
   "metadata": {},
   "source": [
    "Как видим, они не имеют существенных отличий (среднее и отклонение практически идентичны), следовательно наш выбор с условной точкой ('2018-01-01') наблюдения и размерностью (дни, а не секунды или еще что-то) оказался верен.\n",
    "\n",
    "Теперь приведем к типу дата данные, в тестовом наборе:"
   ]
  },
  {
   "cell_type": "code",
   "execution_count": 15,
   "id": "aaa114e3",
   "metadata": {},
   "outputs": [
    {
     "name": "stdout",
     "output_type": "stream",
     "text": [
      "<class 'pandas.core.frame.DataFrame'>\n",
      "RangeIndex: 13125 entries, 0 to 13124\n",
      "Data columns (total 11 columns):\n",
      " #   Column             Non-Null Count  Dtype         \n",
      "---  ------             --------------  -----         \n",
      " 0   name               13125 non-null  object        \n",
      " 1   category_list      12534 non-null  object        \n",
      " 2   funding_total_usd  10547 non-null  float64       \n",
      " 3   country_code       11743 non-null  object        \n",
      " 4   state_code         11430 non-null  object        \n",
      " 5   region             11536 non-null  object        \n",
      " 6   city               11538 non-null  object        \n",
      " 7   funding_rounds     13125 non-null  int64         \n",
      " 8   first_funding_at   13125 non-null  datetime64[ns]\n",
      " 9   last_funding_at    13125 non-null  datetime64[ns]\n",
      " 10  lifetime           13125 non-null  int64         \n",
      "dtypes: datetime64[ns](2), float64(1), int64(2), object(6)\n",
      "memory usage: 1.1+ MB\n"
     ]
    }
   ],
   "source": [
    "test_data['first_funding_at'] = pd.to_datetime(test_data['first_funding_at'], format='%Y-%m-%d')\n",
    "test_data['last_funding_at'] = pd.to_datetime(test_data['last_funding_at'], format='%Y-%m-%d')\n",
    "\n",
    "test_data.info()"
   ]
  },
  {
   "cell_type": "markdown",
   "id": "77c095f7",
   "metadata": {},
   "source": [
    "### Работа с пропусками"
   ]
  },
  {
   "cell_type": "code",
   "execution_count": 16,
   "id": "b905bcf4",
   "metadata": {
    "scrolled": false
   },
   "outputs": [
    {
     "data": {
      "text/html": [
       "<style type=\"text/css\">\n",
       "</style>\n",
       "<table id=\"T_fa10d\">\n",
       "  <thead>\n",
       "    <tr>\n",
       "      <th class=\"blank level0\" >&nbsp;</th>\n",
       "      <th id=\"T_fa10d_level0_col0\" class=\"col_heading level0 col0\" >Процент отсутствующих значений</th>\n",
       "    </tr>\n",
       "  </thead>\n",
       "  <tbody>\n",
       "    <tr>\n",
       "      <th id=\"T_fa10d_level0_row0\" class=\"row_heading level0 row0\" >funding_total_usd</th>\n",
       "      <td id=\"T_fa10d_row0_col0\" class=\"data row0 col0\" >19.2%</td>\n",
       "    </tr>\n",
       "    <tr>\n",
       "      <th id=\"T_fa10d_level0_row1\" class=\"row_heading level0 row1\" >state_code</th>\n",
       "      <td id=\"T_fa10d_row1_col0\" class=\"data row1 col0\" >12.9%</td>\n",
       "    </tr>\n",
       "    <tr>\n",
       "      <th id=\"T_fa10d_level0_row2\" class=\"row_heading level0 row2\" >region</th>\n",
       "      <td id=\"T_fa10d_row2_col0\" class=\"data row2 col0\" >12.1%</td>\n",
       "    </tr>\n",
       "    <tr>\n",
       "      <th id=\"T_fa10d_level0_row3\" class=\"row_heading level0 row3\" >city</th>\n",
       "      <td id=\"T_fa10d_row3_col0\" class=\"data row3 col0\" >12.1%</td>\n",
       "    </tr>\n",
       "    <tr>\n",
       "      <th id=\"T_fa10d_level0_row4\" class=\"row_heading level0 row4\" >country_code</th>\n",
       "      <td id=\"T_fa10d_row4_col0\" class=\"data row4 col0\" >10.5%</td>\n",
       "    </tr>\n",
       "    <tr>\n",
       "      <th id=\"T_fa10d_level0_row5\" class=\"row_heading level0 row5\" >category_list</th>\n",
       "      <td id=\"T_fa10d_row5_col0\" class=\"data row5 col0\" >4.7%</td>\n",
       "    </tr>\n",
       "    <tr>\n",
       "      <th id=\"T_fa10d_level0_row6\" class=\"row_heading level0 row6\" >name</th>\n",
       "      <td id=\"T_fa10d_row6_col0\" class=\"data row6 col0\" >0.0%</td>\n",
       "    </tr>\n",
       "    <tr>\n",
       "      <th id=\"T_fa10d_level0_row7\" class=\"row_heading level0 row7\" >status</th>\n",
       "      <td id=\"T_fa10d_row7_col0\" class=\"data row7 col0\" >0.0%</td>\n",
       "    </tr>\n",
       "    <tr>\n",
       "      <th id=\"T_fa10d_level0_row8\" class=\"row_heading level0 row8\" >funding_rounds</th>\n",
       "      <td id=\"T_fa10d_row8_col0\" class=\"data row8 col0\" >0.0%</td>\n",
       "    </tr>\n",
       "    <tr>\n",
       "      <th id=\"T_fa10d_level0_row9\" class=\"row_heading level0 row9\" >founded_at</th>\n",
       "      <td id=\"T_fa10d_row9_col0\" class=\"data row9 col0\" >0.0%</td>\n",
       "    </tr>\n",
       "    <tr>\n",
       "      <th id=\"T_fa10d_level0_row10\" class=\"row_heading level0 row10\" >first_funding_at</th>\n",
       "      <td id=\"T_fa10d_row10_col0\" class=\"data row10 col0\" >0.0%</td>\n",
       "    </tr>\n",
       "    <tr>\n",
       "      <th id=\"T_fa10d_level0_row11\" class=\"row_heading level0 row11\" >last_funding_at</th>\n",
       "      <td id=\"T_fa10d_row11_col0\" class=\"data row11 col0\" >0.0%</td>\n",
       "    </tr>\n",
       "    <tr>\n",
       "      <th id=\"T_fa10d_level0_row12\" class=\"row_heading level0 row12\" >closed_at</th>\n",
       "      <td id=\"T_fa10d_row12_col0\" class=\"data row12 col0\" >0.0%</td>\n",
       "    </tr>\n",
       "    <tr>\n",
       "      <th id=\"T_fa10d_level0_row13\" class=\"row_heading level0 row13\" >lifetime</th>\n",
       "      <td id=\"T_fa10d_row13_col0\" class=\"data row13 col0\" >0.0%</td>\n",
       "    </tr>\n",
       "  </tbody>\n",
       "</table>\n"
      ],
      "text/plain": [
       "<pandas.io.formats.style.Styler at 0x1f6aba175d0>"
      ]
     },
     "execution_count": 16,
     "metadata": {},
     "output_type": "execute_result"
    }
   ],
   "source": [
    "# проанализируем количество пропусков в данных\n",
    "missing_data = pd.DataFrame(\n",
    "    train_data.isna().mean()*100, columns=['Процент отсутствующих значений']\n",
    ")\n",
    "\n",
    "missing_data.sort_values('Процент отсутствующих значений', ascending=False).style.format('{:.1f}%') "
   ]
  },
  {
   "cell_type": "markdown",
   "id": "70e6b336",
   "metadata": {},
   "source": [
    "После того, как мы заполнили пропуски в closed_at, самое большое количество пропущенных значений у нас теперь в поле funding_total_usd. \n",
    "\n",
    "В случае данного поля разумно будет предположить, что это компании, которые НЕ ПОЛУЧАЛИ финансирование от инвесторов вообще - поэтому здесь заполним пропуски нулем, вне зависимости от того, закрыта компания или еще работает.\n",
    "\n",
    "В случае остальных полей - state_code, region, city, country_code, category_list - единственная стратегия здесь будет заполнить категорией \"прочее\", поскольку почерпнуть какую-то информацию о этих категориях из других полей мы не сможем.\n",
    "\n",
    "Данные пропуски будем обрабатывать внутри пайплайна, поскольку аналогичные действия будем применять и к тестовому набору данных и это существенно упростит подготовку данных."
   ]
  },
  {
   "cell_type": "markdown",
   "id": "16b7c132",
   "metadata": {},
   "source": [
    "### Обработка полей с категориальными данными"
   ]
  },
  {
   "cell_type": "markdown",
   "id": "a2c0284f",
   "metadata": {},
   "source": [
    "#### Поле category_list"
   ]
  },
  {
   "cell_type": "code",
   "execution_count": 17,
   "id": "7788d239",
   "metadata": {
    "scrolled": false
   },
   "outputs": [
    {
     "data": {
      "text/html": [
       "<div>\n",
       "<style scoped>\n",
       "    .dataframe tbody tr th:only-of-type {\n",
       "        vertical-align: middle;\n",
       "    }\n",
       "\n",
       "    .dataframe tbody tr th {\n",
       "        vertical-align: top;\n",
       "    }\n",
       "\n",
       "    .dataframe thead th {\n",
       "        text-align: right;\n",
       "    }\n",
       "</style>\n",
       "<table border=\"1\" class=\"dataframe\">\n",
       "  <thead>\n",
       "    <tr style=\"text-align: right;\">\n",
       "      <th></th>\n",
       "      <th>categories</th>\n",
       "    </tr>\n",
       "  </thead>\n",
       "  <tbody>\n",
       "    <tr>\n",
       "      <th>14125</th>\n",
       "      <td>3D</td>\n",
       "    </tr>\n",
       "    <tr>\n",
       "      <th>165</th>\n",
       "      <td>3D Printing</td>\n",
       "    </tr>\n",
       "    <tr>\n",
       "      <th>20707</th>\n",
       "      <td>3D Printing|3D Technology</td>\n",
       "    </tr>\n",
       "    <tr>\n",
       "      <th>18751</th>\n",
       "      <td>3D Printing|3D Technology|Android|Artificial I...</td>\n",
       "    </tr>\n",
       "    <tr>\n",
       "      <th>5317</th>\n",
       "      <td>3D Printing|3D Technology|Android|Games|iOS|Mo...</td>\n",
       "    </tr>\n",
       "    <tr>\n",
       "      <th>...</th>\n",
       "      <td>...</td>\n",
       "    </tr>\n",
       "    <tr>\n",
       "      <th>10705</th>\n",
       "      <td>mHealth</td>\n",
       "    </tr>\n",
       "    <tr>\n",
       "      <th>20410</th>\n",
       "      <td>mHealth|Mobile</td>\n",
       "    </tr>\n",
       "    <tr>\n",
       "      <th>8531</th>\n",
       "      <td>mHealth|Software</td>\n",
       "    </tr>\n",
       "    <tr>\n",
       "      <th>11495</th>\n",
       "      <td>mHealth|Software|Therapeutics</td>\n",
       "    </tr>\n",
       "    <tr>\n",
       "      <th>10</th>\n",
       "      <td>NaN</td>\n",
       "    </tr>\n",
       "  </tbody>\n",
       "</table>\n",
       "<p>22106 rows × 1 columns</p>\n",
       "</div>"
      ],
      "text/plain": [
       "                                              categories\n",
       "14125                                                 3D\n",
       "165                                          3D Printing\n",
       "20707                          3D Printing|3D Technology\n",
       "18751  3D Printing|3D Technology|Android|Artificial I...\n",
       "5317   3D Printing|3D Technology|Android|Games|iOS|Mo...\n",
       "...                                                  ...\n",
       "10705                                            mHealth\n",
       "20410                                     mHealth|Mobile\n",
       "8531                                    mHealth|Software\n",
       "11495                      mHealth|Software|Therapeutics\n",
       "10                                                   NaN\n",
       "\n",
       "[22106 rows x 1 columns]"
      ]
     },
     "execution_count": 17,
     "metadata": {},
     "output_type": "execute_result"
    }
   ],
   "source": [
    "# проверим количество уникальных категорий в поле category_list тренировочного набора\n",
    "pd.DataFrame(train_data['category_list'].unique(), columns=['categories']).sort_values(by='categories')"
   ]
  },
  {
   "cell_type": "code",
   "execution_count": 18,
   "id": "da09ff3e",
   "metadata": {},
   "outputs": [
    {
     "data": {
      "text/html": [
       "<div>\n",
       "<style scoped>\n",
       "    .dataframe tbody tr th:only-of-type {\n",
       "        vertical-align: middle;\n",
       "    }\n",
       "\n",
       "    .dataframe tbody tr th {\n",
       "        vertical-align: top;\n",
       "    }\n",
       "\n",
       "    .dataframe thead th {\n",
       "        text-align: right;\n",
       "    }\n",
       "</style>\n",
       "<table border=\"1\" class=\"dataframe\">\n",
       "  <thead>\n",
       "    <tr style=\"text-align: right;\">\n",
       "      <th></th>\n",
       "      <th>0</th>\n",
       "    </tr>\n",
       "  </thead>\n",
       "  <tbody>\n",
       "    <tr>\n",
       "      <th>2021</th>\n",
       "      <td>3D Printing</td>\n",
       "    </tr>\n",
       "    <tr>\n",
       "      <th>261</th>\n",
       "      <td>3D Printing|3D Technology|Printing</td>\n",
       "    </tr>\n",
       "    <tr>\n",
       "      <th>5550</th>\n",
       "      <td>3D Printing|Art|Curated Web|Design|E-Commerce|...</td>\n",
       "    </tr>\n",
       "    <tr>\n",
       "      <th>6100</th>\n",
       "      <td>3D Printing|Cloud Computing|Consulting|E-Commerce</td>\n",
       "    </tr>\n",
       "    <tr>\n",
       "      <th>3919</th>\n",
       "      <td>3D Printing|Construction|Industrial</td>\n",
       "    </tr>\n",
       "    <tr>\n",
       "      <th>...</th>\n",
       "      <td>...</td>\n",
       "    </tr>\n",
       "    <tr>\n",
       "      <th>4282</th>\n",
       "      <td>iPhone|Mobile|Mobile Devices|Mobile Security|W...</td>\n",
       "    </tr>\n",
       "    <tr>\n",
       "      <th>3178</th>\n",
       "      <td>iPhone|Mobile|Navigation|Public Transportation...</td>\n",
       "    </tr>\n",
       "    <tr>\n",
       "      <th>2376</th>\n",
       "      <td>iPhone|Mobile|Social Media</td>\n",
       "    </tr>\n",
       "    <tr>\n",
       "      <th>516</th>\n",
       "      <td>iPhone|Mobile|Venture Capital</td>\n",
       "    </tr>\n",
       "    <tr>\n",
       "      <th>54</th>\n",
       "      <td>NaN</td>\n",
       "    </tr>\n",
       "  </tbody>\n",
       "</table>\n",
       "<p>6207 rows × 1 columns</p>\n",
       "</div>"
      ],
      "text/plain": [
       "                                                      0\n",
       "2021                                        3D Printing\n",
       "261                  3D Printing|3D Technology|Printing\n",
       "5550  3D Printing|Art|Curated Web|Design|E-Commerce|...\n",
       "6100  3D Printing|Cloud Computing|Consulting|E-Commerce\n",
       "3919                3D Printing|Construction|Industrial\n",
       "...                                                 ...\n",
       "4282  iPhone|Mobile|Mobile Devices|Mobile Security|W...\n",
       "3178  iPhone|Mobile|Navigation|Public Transportation...\n",
       "2376                         iPhone|Mobile|Social Media\n",
       "516                       iPhone|Mobile|Venture Capital\n",
       "54                                                  NaN\n",
       "\n",
       "[6207 rows x 1 columns]"
      ]
     },
     "execution_count": 18,
     "metadata": {},
     "output_type": "execute_result"
    }
   ],
   "source": [
    "# проверим количество уникальных категорий в поле category_list тестового набора\n",
    "pd.DataFrame(test_data['category_list'].unique()).sort_values(by=0)"
   ]
  },
  {
   "cell_type": "markdown",
   "id": "8d3723bb",
   "metadata": {},
   "source": [
    "Здесь мы видим, что у нас ОЧЕНЬ БОЛЬШОЕ разнообразие уникальных значений в данном поле - 22 тыс из 52 тыс записей всего, то есть в среднем только две записи могут относится к одной категории. \n",
    "\n",
    "Далее, здесь может быть две стратегии:\n",
    "- закодировать все уникальные значения как есть, а пропуски закодировать еще одним значением (базовый вариант - самый простой в реализации - но который будет нести, скорее всего, слабый вклад в качество модели);\n",
    "- попробовать уменьшить разнообразие (вариант посложнее - выделить категории и подкатегории, которые указаны через разделитель).\n",
    "\n",
    "Далее, здесь стоит отметить, что данные категории также слабо пересекаются между тестовым и тренировочным набором данных, всего 1243 общих элементов из порядка 10 тыс записей (всего лишь 12%) в тестовом наборе данных (что говорит в пользу варианта выделения корневых категорий и подкатегорий - в противном случае вклад этого признака в качество модели будет низким):"
   ]
  },
  {
   "cell_type": "code",
   "execution_count": 19,
   "id": "3975cd08",
   "metadata": {},
   "outputs": [
    {
     "data": {
      "text/plain": [
       "1243"
      ]
     },
     "execution_count": 19,
     "metadata": {},
     "output_type": "execute_result"
    }
   ],
   "source": [
    "common_elements = len(list(set(test_data['category_list']) & set(train_data['category_list'])))\n",
    "common_elements"
   ]
  },
  {
   "cell_type": "markdown",
   "id": "e98d670a",
   "metadata": {},
   "source": [
    "Разделим категории на подкатегории и вынесем их в отдельные поля:"
   ]
  },
  {
   "cell_type": "code",
   "execution_count": 20,
   "id": "55af9450",
   "metadata": {
    "scrolled": true
   },
   "outputs": [
    {
     "data": {
      "text/html": [
       "<div>\n",
       "<style scoped>\n",
       "    .dataframe tbody tr th:only-of-type {\n",
       "        vertical-align: middle;\n",
       "    }\n",
       "\n",
       "    .dataframe tbody tr th {\n",
       "        vertical-align: top;\n",
       "    }\n",
       "\n",
       "    .dataframe thead th {\n",
       "        text-align: right;\n",
       "    }\n",
       "</style>\n",
       "<table border=\"1\" class=\"dataframe\">\n",
       "  <thead>\n",
       "    <tr style=\"text-align: right;\">\n",
       "      <th></th>\n",
       "      <th>name</th>\n",
       "      <th>category_list</th>\n",
       "      <th>funding_total_usd</th>\n",
       "      <th>status</th>\n",
       "      <th>country_code</th>\n",
       "      <th>state_code</th>\n",
       "      <th>region</th>\n",
       "      <th>city</th>\n",
       "      <th>funding_rounds</th>\n",
       "      <th>founded_at</th>\n",
       "      <th>first_funding_at</th>\n",
       "      <th>last_funding_at</th>\n",
       "      <th>closed_at</th>\n",
       "      <th>lifetime</th>\n",
       "      <th>1_category</th>\n",
       "      <th>2_category</th>\n",
       "      <th>3_category</th>\n",
       "      <th>4_category</th>\n",
       "      <th>5_category</th>\n",
       "    </tr>\n",
       "  </thead>\n",
       "  <tbody>\n",
       "    <tr>\n",
       "      <th>0</th>\n",
       "      <td>Lunchgate</td>\n",
       "      <td>Online Reservations|Restaurants</td>\n",
       "      <td>828626.0</td>\n",
       "      <td>operating</td>\n",
       "      <td>CHE</td>\n",
       "      <td>25</td>\n",
       "      <td>Zurich</td>\n",
       "      <td>Zürich</td>\n",
       "      <td>2</td>\n",
       "      <td>2009-10-17</td>\n",
       "      <td>2011-05-01</td>\n",
       "      <td>2014-12-01</td>\n",
       "      <td>2018-01-01</td>\n",
       "      <td>2998</td>\n",
       "      <td>Online Reservations</td>\n",
       "      <td>Restaurants</td>\n",
       "      <td>None</td>\n",
       "      <td>None</td>\n",
       "      <td>None</td>\n",
       "    </tr>\n",
       "    <tr>\n",
       "      <th>1</th>\n",
       "      <td>EarLens</td>\n",
       "      <td>Manufacturing|Medical|Medical Devices</td>\n",
       "      <td>42935019.0</td>\n",
       "      <td>operating</td>\n",
       "      <td>USA</td>\n",
       "      <td>CA</td>\n",
       "      <td>SF Bay Area</td>\n",
       "      <td>Redwood City</td>\n",
       "      <td>4</td>\n",
       "      <td>2005-01-01</td>\n",
       "      <td>2010-05-04</td>\n",
       "      <td>2014-02-25</td>\n",
       "      <td>2018-01-01</td>\n",
       "      <td>4748</td>\n",
       "      <td>Manufacturing</td>\n",
       "      <td>Medical</td>\n",
       "      <td>Medical Devices</td>\n",
       "      <td>None</td>\n",
       "      <td>None</td>\n",
       "    </tr>\n",
       "    <tr>\n",
       "      <th>2</th>\n",
       "      <td>Reviva Pharmaceuticals</td>\n",
       "      <td>Biotechnology</td>\n",
       "      <td>35456381.0</td>\n",
       "      <td>operating</td>\n",
       "      <td>USA</td>\n",
       "      <td>CA</td>\n",
       "      <td>SF Bay Area</td>\n",
       "      <td>San Jose</td>\n",
       "      <td>3</td>\n",
       "      <td>2006-01-01</td>\n",
       "      <td>2012-08-20</td>\n",
       "      <td>2014-07-02</td>\n",
       "      <td>2018-01-01</td>\n",
       "      <td>4383</td>\n",
       "      <td>Biotechnology</td>\n",
       "      <td>None</td>\n",
       "      <td>None</td>\n",
       "      <td>None</td>\n",
       "      <td>None</td>\n",
       "    </tr>\n",
       "  </tbody>\n",
       "</table>\n",
       "</div>"
      ],
      "text/plain": [
       "                     name                          category_list  \\\n",
       "0               Lunchgate        Online Reservations|Restaurants   \n",
       "1                 EarLens  Manufacturing|Medical|Medical Devices   \n",
       "2  Reviva Pharmaceuticals                          Biotechnology   \n",
       "\n",
       "   funding_total_usd     status country_code state_code       region  \\\n",
       "0           828626.0  operating          CHE         25       Zurich   \n",
       "1         42935019.0  operating          USA         CA  SF Bay Area   \n",
       "2         35456381.0  operating          USA         CA  SF Bay Area   \n",
       "\n",
       "           city  funding_rounds founded_at first_funding_at last_funding_at  \\\n",
       "0        Zürich               2 2009-10-17       2011-05-01      2014-12-01   \n",
       "1  Redwood City               4 2005-01-01       2010-05-04      2014-02-25   \n",
       "2      San Jose               3 2006-01-01       2012-08-20      2014-07-02   \n",
       "\n",
       "   closed_at  lifetime           1_category   2_category       3_category  \\\n",
       "0 2018-01-01      2998  Online Reservations  Restaurants             None   \n",
       "1 2018-01-01      4748        Manufacturing      Medical  Medical Devices   \n",
       "2 2018-01-01      4383        Biotechnology         None             None   \n",
       "\n",
       "  4_category 5_category  \n",
       "0       None       None  \n",
       "1       None       None  \n",
       "2       None       None  "
      ]
     },
     "execution_count": 20,
     "metadata": {},
     "output_type": "execute_result"
    }
   ],
   "source": [
    "# создадим функцию, которая разделяет строку по указанному разделителю \n",
    "# и полученные элементы записывает в отдельные поля\n",
    "\n",
    "def split_column(df, column, new_columns, delimiter):\n",
    "    \n",
    "    # Разделяем строку на отдельные элементы\n",
    "    split_data = df[column].str.split(delimiter, expand=True)\n",
    "    \n",
    "    # Присваиваем новые столбцы\n",
    "    for i, new_column in enumerate(new_columns):\n",
    "        df[new_column] = split_data[i]\n",
    "    \n",
    "    return df\n",
    "\n",
    "# задаем новые столбцы\n",
    "new_columns_1_level = ['1_category', '2_category', '3_category', '4_category', '5_category']\n",
    "\n",
    "# разделяем категории\n",
    "train_data = split_column(train_data, 'category_list', new_columns_1_level, delimiter ='|')\n",
    "\n",
    "train_data.head(3)"
   ]
  },
  {
   "cell_type": "markdown",
   "id": "434711fb",
   "metadata": {},
   "source": [
    "Добавим аналогичную обработку в тестовый набор:"
   ]
  },
  {
   "cell_type": "code",
   "execution_count": 21,
   "id": "5d088c5c",
   "metadata": {
    "scrolled": true
   },
   "outputs": [
    {
     "data": {
      "text/html": [
       "<div>\n",
       "<style scoped>\n",
       "    .dataframe tbody tr th:only-of-type {\n",
       "        vertical-align: middle;\n",
       "    }\n",
       "\n",
       "    .dataframe tbody tr th {\n",
       "        vertical-align: top;\n",
       "    }\n",
       "\n",
       "    .dataframe thead th {\n",
       "        text-align: right;\n",
       "    }\n",
       "</style>\n",
       "<table border=\"1\" class=\"dataframe\">\n",
       "  <thead>\n",
       "    <tr style=\"text-align: right;\">\n",
       "      <th></th>\n",
       "      <th>name</th>\n",
       "      <th>category_list</th>\n",
       "      <th>funding_total_usd</th>\n",
       "      <th>country_code</th>\n",
       "      <th>state_code</th>\n",
       "      <th>region</th>\n",
       "      <th>city</th>\n",
       "      <th>funding_rounds</th>\n",
       "      <th>first_funding_at</th>\n",
       "      <th>last_funding_at</th>\n",
       "      <th>lifetime</th>\n",
       "      <th>1_category</th>\n",
       "      <th>2_category</th>\n",
       "      <th>3_category</th>\n",
       "      <th>4_category</th>\n",
       "      <th>5_category</th>\n",
       "    </tr>\n",
       "  </thead>\n",
       "  <tbody>\n",
       "    <tr>\n",
       "      <th>0</th>\n",
       "      <td>Crystalsol</td>\n",
       "      <td>Clean Technology</td>\n",
       "      <td>2819200.0</td>\n",
       "      <td>NIC</td>\n",
       "      <td>17</td>\n",
       "      <td>NaN</td>\n",
       "      <td>NaN</td>\n",
       "      <td>1</td>\n",
       "      <td>2009-07-01</td>\n",
       "      <td>2009-07-01</td>\n",
       "      <td>3501</td>\n",
       "      <td>Clean Technology</td>\n",
       "      <td>None</td>\n",
       "      <td>None</td>\n",
       "      <td>None</td>\n",
       "      <td>None</td>\n",
       "    </tr>\n",
       "    <tr>\n",
       "      <th>1</th>\n",
       "      <td>JBI Fish &amp; Wings</td>\n",
       "      <td>Hospitality</td>\n",
       "      <td>NaN</td>\n",
       "      <td>USA</td>\n",
       "      <td>TN</td>\n",
       "      <td>TN - Other</td>\n",
       "      <td>Humboldt</td>\n",
       "      <td>1</td>\n",
       "      <td>2010-07-28</td>\n",
       "      <td>2010-07-28</td>\n",
       "      <td>2717</td>\n",
       "      <td>Hospitality</td>\n",
       "      <td>None</td>\n",
       "      <td>None</td>\n",
       "      <td>None</td>\n",
       "      <td>None</td>\n",
       "    </tr>\n",
       "    <tr>\n",
       "      <th>2</th>\n",
       "      <td>COINPLUS</td>\n",
       "      <td>Finance</td>\n",
       "      <td>428257.0</td>\n",
       "      <td>LUX</td>\n",
       "      <td>3</td>\n",
       "      <td>Esch-sur-alzette</td>\n",
       "      <td>Esch-sur-alzette</td>\n",
       "      <td>2</td>\n",
       "      <td>2014-05-15</td>\n",
       "      <td>2014-09-18</td>\n",
       "      <td>1295</td>\n",
       "      <td>Finance</td>\n",
       "      <td>None</td>\n",
       "      <td>None</td>\n",
       "      <td>None</td>\n",
       "      <td>None</td>\n",
       "    </tr>\n",
       "  </tbody>\n",
       "</table>\n",
       "</div>"
      ],
      "text/plain": [
       "               name     category_list  funding_total_usd country_code  \\\n",
       "0        Crystalsol  Clean Technology          2819200.0          NIC   \n",
       "1  JBI Fish & Wings       Hospitality                NaN          USA   \n",
       "2          COINPLUS           Finance           428257.0          LUX   \n",
       "\n",
       "  state_code            region              city  funding_rounds  \\\n",
       "0         17               NaN               NaN               1   \n",
       "1         TN        TN - Other          Humboldt               1   \n",
       "2          3  Esch-sur-alzette  Esch-sur-alzette               2   \n",
       "\n",
       "  first_funding_at last_funding_at  lifetime        1_category 2_category  \\\n",
       "0       2009-07-01      2009-07-01      3501  Clean Technology       None   \n",
       "1       2010-07-28      2010-07-28      2717       Hospitality       None   \n",
       "2       2014-05-15      2014-09-18      1295           Finance       None   \n",
       "\n",
       "  3_category 4_category 5_category  \n",
       "0       None       None       None  \n",
       "1       None       None       None  \n",
       "2       None       None       None  "
      ]
     },
     "execution_count": 21,
     "metadata": {},
     "output_type": "execute_result"
    }
   ],
   "source": [
    "test_data = split_column(test_data, 'category_list', new_columns_1_level, delimiter ='|')\n",
    "test_data.head(3)"
   ]
  },
  {
   "cell_type": "markdown",
   "id": "091978a3",
   "metadata": {},
   "source": [
    "Теперь у нас в каждой категории порядка 500-700 элементов:"
   ]
  },
  {
   "cell_type": "code",
   "execution_count": 22,
   "id": "b127b8f8",
   "metadata": {
    "scrolled": true
   },
   "outputs": [
    {
     "name": "stdout",
     "output_type": "stream",
     "text": [
      "708\n",
      "779\n",
      "737\n"
     ]
    }
   ],
   "source": [
    "# количество уникальных элементов в каждой новой категории: \n",
    "print(len(train_data['1_category'].unique()))\n",
    "print(len(train_data['2_category'].unique()))\n",
    "print(len(train_data['3_category'].unique()))"
   ]
  },
  {
   "cell_type": "markdown",
   "id": "3dca8a73",
   "metadata": {},
   "source": [
    "Посмотрим теперь количество общих элементов подкатегорий между тренировочным и тестовым набором:"
   ]
  },
  {
   "cell_type": "code",
   "execution_count": 23,
   "id": "a797c0cf",
   "metadata": {},
   "outputs": [
    {
     "name": "stdout",
     "output_type": "stream",
     "text": [
      "540\n",
      "606\n",
      "544\n"
     ]
    }
   ],
   "source": [
    "print (len(list(set(test_data['1_category']) & set(train_data['1_category']))))\n",
    "print (len(list(set(test_data['2_category']) & set(train_data['2_category']))))\n",
    "print (len(list(set(test_data['3_category']) & set(train_data['3_category']))))"
   ]
  },
  {
   "cell_type": "markdown",
   "id": "6436be84",
   "metadata": {},
   "source": [
    "Теперь у нас из порядка 500-700 элементов в каждой категории в тренировочной выборке, и порядка 300-600 - в тестовой соответственно, что делает более информативным этот признак для прогнозирования."
   ]
  },
  {
   "cell_type": "markdown",
   "id": "4c7c3a96",
   "metadata": {},
   "source": [
    "Мы также можем пойти далее, и разделить информацию об отраслях, на еще более мелкие фрагменты, используя отдельные слова, а в качестве разделителя уже - пробел:"
   ]
  },
  {
   "cell_type": "code",
   "execution_count": 24,
   "id": "72ecd1fd",
   "metadata": {
    "scrolled": true
   },
   "outputs": [
    {
     "data": {
      "text/html": [
       "<div>\n",
       "<style scoped>\n",
       "    .dataframe tbody tr th:only-of-type {\n",
       "        vertical-align: middle;\n",
       "    }\n",
       "\n",
       "    .dataframe tbody tr th {\n",
       "        vertical-align: top;\n",
       "    }\n",
       "\n",
       "    .dataframe thead th {\n",
       "        text-align: right;\n",
       "    }\n",
       "</style>\n",
       "<table border=\"1\" class=\"dataframe\">\n",
       "  <thead>\n",
       "    <tr style=\"text-align: right;\">\n",
       "      <th></th>\n",
       "      <th>name</th>\n",
       "      <th>category_list</th>\n",
       "      <th>funding_total_usd</th>\n",
       "      <th>status</th>\n",
       "      <th>country_code</th>\n",
       "      <th>state_code</th>\n",
       "      <th>region</th>\n",
       "      <th>city</th>\n",
       "      <th>funding_rounds</th>\n",
       "      <th>founded_at</th>\n",
       "      <th>...</th>\n",
       "      <th>closed_at</th>\n",
       "      <th>lifetime</th>\n",
       "      <th>1_category</th>\n",
       "      <th>2_category</th>\n",
       "      <th>3_category</th>\n",
       "      <th>4_category</th>\n",
       "      <th>5_category</th>\n",
       "      <th>1_1_category</th>\n",
       "      <th>1_2_category</th>\n",
       "      <th>1_3_category</th>\n",
       "    </tr>\n",
       "  </thead>\n",
       "  <tbody>\n",
       "    <tr>\n",
       "      <th>0</th>\n",
       "      <td>Lunchgate</td>\n",
       "      <td>Online Reservations|Restaurants</td>\n",
       "      <td>828626.0</td>\n",
       "      <td>operating</td>\n",
       "      <td>CHE</td>\n",
       "      <td>25</td>\n",
       "      <td>Zurich</td>\n",
       "      <td>Zürich</td>\n",
       "      <td>2</td>\n",
       "      <td>2009-10-17</td>\n",
       "      <td>...</td>\n",
       "      <td>2018-01-01</td>\n",
       "      <td>2998</td>\n",
       "      <td>Online Reservations</td>\n",
       "      <td>Restaurants</td>\n",
       "      <td>None</td>\n",
       "      <td>None</td>\n",
       "      <td>None</td>\n",
       "      <td>Online</td>\n",
       "      <td>Reservations</td>\n",
       "      <td>None</td>\n",
       "    </tr>\n",
       "    <tr>\n",
       "      <th>1</th>\n",
       "      <td>EarLens</td>\n",
       "      <td>Manufacturing|Medical|Medical Devices</td>\n",
       "      <td>42935019.0</td>\n",
       "      <td>operating</td>\n",
       "      <td>USA</td>\n",
       "      <td>CA</td>\n",
       "      <td>SF Bay Area</td>\n",
       "      <td>Redwood City</td>\n",
       "      <td>4</td>\n",
       "      <td>2005-01-01</td>\n",
       "      <td>...</td>\n",
       "      <td>2018-01-01</td>\n",
       "      <td>4748</td>\n",
       "      <td>Manufacturing</td>\n",
       "      <td>Medical</td>\n",
       "      <td>Medical Devices</td>\n",
       "      <td>None</td>\n",
       "      <td>None</td>\n",
       "      <td>Manufacturing</td>\n",
       "      <td>None</td>\n",
       "      <td>None</td>\n",
       "    </tr>\n",
       "    <tr>\n",
       "      <th>2</th>\n",
       "      <td>Reviva Pharmaceuticals</td>\n",
       "      <td>Biotechnology</td>\n",
       "      <td>35456381.0</td>\n",
       "      <td>operating</td>\n",
       "      <td>USA</td>\n",
       "      <td>CA</td>\n",
       "      <td>SF Bay Area</td>\n",
       "      <td>San Jose</td>\n",
       "      <td>3</td>\n",
       "      <td>2006-01-01</td>\n",
       "      <td>...</td>\n",
       "      <td>2018-01-01</td>\n",
       "      <td>4383</td>\n",
       "      <td>Biotechnology</td>\n",
       "      <td>None</td>\n",
       "      <td>None</td>\n",
       "      <td>None</td>\n",
       "      <td>None</td>\n",
       "      <td>Biotechnology</td>\n",
       "      <td>None</td>\n",
       "      <td>None</td>\n",
       "    </tr>\n",
       "  </tbody>\n",
       "</table>\n",
       "<p>3 rows × 22 columns</p>\n",
       "</div>"
      ],
      "text/plain": [
       "                     name                          category_list  \\\n",
       "0               Lunchgate        Online Reservations|Restaurants   \n",
       "1                 EarLens  Manufacturing|Medical|Medical Devices   \n",
       "2  Reviva Pharmaceuticals                          Biotechnology   \n",
       "\n",
       "   funding_total_usd     status country_code state_code       region  \\\n",
       "0           828626.0  operating          CHE         25       Zurich   \n",
       "1         42935019.0  operating          USA         CA  SF Bay Area   \n",
       "2         35456381.0  operating          USA         CA  SF Bay Area   \n",
       "\n",
       "           city  funding_rounds founded_at  ...  closed_at lifetime  \\\n",
       "0        Zürich               2 2009-10-17  ... 2018-01-01     2998   \n",
       "1  Redwood City               4 2005-01-01  ... 2018-01-01     4748   \n",
       "2      San Jose               3 2006-01-01  ... 2018-01-01     4383   \n",
       "\n",
       "            1_category   2_category       3_category 4_category 5_category  \\\n",
       "0  Online Reservations  Restaurants             None       None       None   \n",
       "1        Manufacturing      Medical  Medical Devices       None       None   \n",
       "2        Biotechnology         None             None       None       None   \n",
       "\n",
       "    1_1_category  1_2_category 1_3_category  \n",
       "0         Online  Reservations         None  \n",
       "1  Manufacturing          None         None  \n",
       "2  Biotechnology          None         None  \n",
       "\n",
       "[3 rows x 22 columns]"
      ]
     },
     "execution_count": 24,
     "metadata": {},
     "output_type": "execute_result"
    }
   ],
   "source": [
    "# разделяем на слова в первой категории - тренировочная выборка\n",
    "new_columns_2_level_1 = ['1_1_category', '1_2_category', '1_3_category']\n",
    "train_data = split_column(train_data, '1_category', new_columns_2_level_1, delimiter =' ')\n",
    "\n",
    "train_data.head(3)"
   ]
  },
  {
   "cell_type": "code",
   "execution_count": 25,
   "id": "c748f0f5",
   "metadata": {
    "scrolled": false
   },
   "outputs": [
    {
     "data": {
      "text/html": [
       "<div>\n",
       "<style scoped>\n",
       "    .dataframe tbody tr th:only-of-type {\n",
       "        vertical-align: middle;\n",
       "    }\n",
       "\n",
       "    .dataframe tbody tr th {\n",
       "        vertical-align: top;\n",
       "    }\n",
       "\n",
       "    .dataframe thead th {\n",
       "        text-align: right;\n",
       "    }\n",
       "</style>\n",
       "<table border=\"1\" class=\"dataframe\">\n",
       "  <thead>\n",
       "    <tr style=\"text-align: right;\">\n",
       "      <th></th>\n",
       "      <th>name</th>\n",
       "      <th>category_list</th>\n",
       "      <th>funding_total_usd</th>\n",
       "      <th>country_code</th>\n",
       "      <th>state_code</th>\n",
       "      <th>region</th>\n",
       "      <th>city</th>\n",
       "      <th>funding_rounds</th>\n",
       "      <th>first_funding_at</th>\n",
       "      <th>last_funding_at</th>\n",
       "      <th>lifetime</th>\n",
       "      <th>1_category</th>\n",
       "      <th>2_category</th>\n",
       "      <th>3_category</th>\n",
       "      <th>4_category</th>\n",
       "      <th>5_category</th>\n",
       "      <th>1_1_category</th>\n",
       "      <th>1_2_category</th>\n",
       "      <th>1_3_category</th>\n",
       "    </tr>\n",
       "  </thead>\n",
       "  <tbody>\n",
       "    <tr>\n",
       "      <th>0</th>\n",
       "      <td>Crystalsol</td>\n",
       "      <td>Clean Technology</td>\n",
       "      <td>2819200.0</td>\n",
       "      <td>NIC</td>\n",
       "      <td>17</td>\n",
       "      <td>NaN</td>\n",
       "      <td>NaN</td>\n",
       "      <td>1</td>\n",
       "      <td>2009-07-01</td>\n",
       "      <td>2009-07-01</td>\n",
       "      <td>3501</td>\n",
       "      <td>Clean Technology</td>\n",
       "      <td>None</td>\n",
       "      <td>None</td>\n",
       "      <td>None</td>\n",
       "      <td>None</td>\n",
       "      <td>Clean</td>\n",
       "      <td>Technology</td>\n",
       "      <td>None</td>\n",
       "    </tr>\n",
       "    <tr>\n",
       "      <th>1</th>\n",
       "      <td>JBI Fish &amp; Wings</td>\n",
       "      <td>Hospitality</td>\n",
       "      <td>NaN</td>\n",
       "      <td>USA</td>\n",
       "      <td>TN</td>\n",
       "      <td>TN - Other</td>\n",
       "      <td>Humboldt</td>\n",
       "      <td>1</td>\n",
       "      <td>2010-07-28</td>\n",
       "      <td>2010-07-28</td>\n",
       "      <td>2717</td>\n",
       "      <td>Hospitality</td>\n",
       "      <td>None</td>\n",
       "      <td>None</td>\n",
       "      <td>None</td>\n",
       "      <td>None</td>\n",
       "      <td>Hospitality</td>\n",
       "      <td>None</td>\n",
       "      <td>None</td>\n",
       "    </tr>\n",
       "    <tr>\n",
       "      <th>2</th>\n",
       "      <td>COINPLUS</td>\n",
       "      <td>Finance</td>\n",
       "      <td>428257.0</td>\n",
       "      <td>LUX</td>\n",
       "      <td>3</td>\n",
       "      <td>Esch-sur-alzette</td>\n",
       "      <td>Esch-sur-alzette</td>\n",
       "      <td>2</td>\n",
       "      <td>2014-05-15</td>\n",
       "      <td>2014-09-18</td>\n",
       "      <td>1295</td>\n",
       "      <td>Finance</td>\n",
       "      <td>None</td>\n",
       "      <td>None</td>\n",
       "      <td>None</td>\n",
       "      <td>None</td>\n",
       "      <td>Finance</td>\n",
       "      <td>None</td>\n",
       "      <td>None</td>\n",
       "    </tr>\n",
       "  </tbody>\n",
       "</table>\n",
       "</div>"
      ],
      "text/plain": [
       "               name     category_list  funding_total_usd country_code  \\\n",
       "0        Crystalsol  Clean Technology          2819200.0          NIC   \n",
       "1  JBI Fish & Wings       Hospitality                NaN          USA   \n",
       "2          COINPLUS           Finance           428257.0          LUX   \n",
       "\n",
       "  state_code            region              city  funding_rounds  \\\n",
       "0         17               NaN               NaN               1   \n",
       "1         TN        TN - Other          Humboldt               1   \n",
       "2          3  Esch-sur-alzette  Esch-sur-alzette               2   \n",
       "\n",
       "  first_funding_at last_funding_at  lifetime        1_category 2_category  \\\n",
       "0       2009-07-01      2009-07-01      3501  Clean Technology       None   \n",
       "1       2010-07-28      2010-07-28      2717       Hospitality       None   \n",
       "2       2014-05-15      2014-09-18      1295           Finance       None   \n",
       "\n",
       "  3_category 4_category 5_category 1_1_category 1_2_category 1_3_category  \n",
       "0       None       None       None        Clean   Technology         None  \n",
       "1       None       None       None  Hospitality         None         None  \n",
       "2       None       None       None      Finance         None         None  "
      ]
     },
     "execution_count": 25,
     "metadata": {},
     "output_type": "execute_result"
    }
   ],
   "source": [
    "# разделяем на слова в первой категории - тестовая выборка\n",
    "test_data = split_column(test_data, '1_category', new_columns_2_level_1, delimiter =' ')\n",
    "test_data.head(3)"
   ]
  },
  {
   "cell_type": "code",
   "execution_count": 26,
   "id": "4d417f21",
   "metadata": {},
   "outputs": [
    {
     "data": {
      "text/html": [
       "<div>\n",
       "<style scoped>\n",
       "    .dataframe tbody tr th:only-of-type {\n",
       "        vertical-align: middle;\n",
       "    }\n",
       "\n",
       "    .dataframe tbody tr th {\n",
       "        vertical-align: top;\n",
       "    }\n",
       "\n",
       "    .dataframe thead th {\n",
       "        text-align: right;\n",
       "    }\n",
       "</style>\n",
       "<table border=\"1\" class=\"dataframe\">\n",
       "  <thead>\n",
       "    <tr style=\"text-align: right;\">\n",
       "      <th></th>\n",
       "      <th>name</th>\n",
       "      <th>category_list</th>\n",
       "      <th>funding_total_usd</th>\n",
       "      <th>status</th>\n",
       "      <th>country_code</th>\n",
       "      <th>state_code</th>\n",
       "      <th>region</th>\n",
       "      <th>city</th>\n",
       "      <th>funding_rounds</th>\n",
       "      <th>founded_at</th>\n",
       "      <th>...</th>\n",
       "      <th>2_category</th>\n",
       "      <th>3_category</th>\n",
       "      <th>4_category</th>\n",
       "      <th>5_category</th>\n",
       "      <th>1_1_category</th>\n",
       "      <th>1_2_category</th>\n",
       "      <th>1_3_category</th>\n",
       "      <th>2_1_category</th>\n",
       "      <th>2_2_category</th>\n",
       "      <th>2_3_category</th>\n",
       "    </tr>\n",
       "  </thead>\n",
       "  <tbody>\n",
       "    <tr>\n",
       "      <th>0</th>\n",
       "      <td>Lunchgate</td>\n",
       "      <td>Online Reservations|Restaurants</td>\n",
       "      <td>828626.0</td>\n",
       "      <td>operating</td>\n",
       "      <td>CHE</td>\n",
       "      <td>25</td>\n",
       "      <td>Zurich</td>\n",
       "      <td>Zürich</td>\n",
       "      <td>2</td>\n",
       "      <td>2009-10-17</td>\n",
       "      <td>...</td>\n",
       "      <td>Restaurants</td>\n",
       "      <td>None</td>\n",
       "      <td>None</td>\n",
       "      <td>None</td>\n",
       "      <td>Online</td>\n",
       "      <td>Reservations</td>\n",
       "      <td>None</td>\n",
       "      <td>Restaurants</td>\n",
       "      <td>None</td>\n",
       "      <td>None</td>\n",
       "    </tr>\n",
       "    <tr>\n",
       "      <th>1</th>\n",
       "      <td>EarLens</td>\n",
       "      <td>Manufacturing|Medical|Medical Devices</td>\n",
       "      <td>42935019.0</td>\n",
       "      <td>operating</td>\n",
       "      <td>USA</td>\n",
       "      <td>CA</td>\n",
       "      <td>SF Bay Area</td>\n",
       "      <td>Redwood City</td>\n",
       "      <td>4</td>\n",
       "      <td>2005-01-01</td>\n",
       "      <td>...</td>\n",
       "      <td>Medical</td>\n",
       "      <td>Medical Devices</td>\n",
       "      <td>None</td>\n",
       "      <td>None</td>\n",
       "      <td>Manufacturing</td>\n",
       "      <td>None</td>\n",
       "      <td>None</td>\n",
       "      <td>Medical</td>\n",
       "      <td>None</td>\n",
       "      <td>None</td>\n",
       "    </tr>\n",
       "    <tr>\n",
       "      <th>2</th>\n",
       "      <td>Reviva Pharmaceuticals</td>\n",
       "      <td>Biotechnology</td>\n",
       "      <td>35456381.0</td>\n",
       "      <td>operating</td>\n",
       "      <td>USA</td>\n",
       "      <td>CA</td>\n",
       "      <td>SF Bay Area</td>\n",
       "      <td>San Jose</td>\n",
       "      <td>3</td>\n",
       "      <td>2006-01-01</td>\n",
       "      <td>...</td>\n",
       "      <td>None</td>\n",
       "      <td>None</td>\n",
       "      <td>None</td>\n",
       "      <td>None</td>\n",
       "      <td>Biotechnology</td>\n",
       "      <td>None</td>\n",
       "      <td>None</td>\n",
       "      <td>None</td>\n",
       "      <td>None</td>\n",
       "      <td>None</td>\n",
       "    </tr>\n",
       "  </tbody>\n",
       "</table>\n",
       "<p>3 rows × 25 columns</p>\n",
       "</div>"
      ],
      "text/plain": [
       "                     name                          category_list  \\\n",
       "0               Lunchgate        Online Reservations|Restaurants   \n",
       "1                 EarLens  Manufacturing|Medical|Medical Devices   \n",
       "2  Reviva Pharmaceuticals                          Biotechnology   \n",
       "\n",
       "   funding_total_usd     status country_code state_code       region  \\\n",
       "0           828626.0  operating          CHE         25       Zurich   \n",
       "1         42935019.0  operating          USA         CA  SF Bay Area   \n",
       "2         35456381.0  operating          USA         CA  SF Bay Area   \n",
       "\n",
       "           city  funding_rounds founded_at  ...   2_category       3_category  \\\n",
       "0        Zürich               2 2009-10-17  ...  Restaurants             None   \n",
       "1  Redwood City               4 2005-01-01  ...      Medical  Medical Devices   \n",
       "2      San Jose               3 2006-01-01  ...         None             None   \n",
       "\n",
       "  4_category  5_category   1_1_category  1_2_category 1_3_category  \\\n",
       "0       None        None         Online  Reservations         None   \n",
       "1       None        None  Manufacturing          None         None   \n",
       "2       None        None  Biotechnology          None         None   \n",
       "\n",
       "  2_1_category 2_2_category 2_3_category  \n",
       "0  Restaurants         None         None  \n",
       "1      Medical         None         None  \n",
       "2         None         None         None  \n",
       "\n",
       "[3 rows x 25 columns]"
      ]
     },
     "execution_count": 26,
     "metadata": {},
     "output_type": "execute_result"
    }
   ],
   "source": [
    "# разделяем на слова во второй категории - тренировочная выборка\n",
    "new_columns_2_level_2 = ['2_1_category', '2_2_category', '2_3_category']\n",
    "train_data = split_column(train_data, '2_category', new_columns_2_level_2, delimiter =' ')\n",
    "\n",
    "train_data.head(3)"
   ]
  },
  {
   "cell_type": "code",
   "execution_count": 27,
   "id": "e5a531d9",
   "metadata": {
    "scrolled": false
   },
   "outputs": [
    {
     "data": {
      "text/html": [
       "<div>\n",
       "<style scoped>\n",
       "    .dataframe tbody tr th:only-of-type {\n",
       "        vertical-align: middle;\n",
       "    }\n",
       "\n",
       "    .dataframe tbody tr th {\n",
       "        vertical-align: top;\n",
       "    }\n",
       "\n",
       "    .dataframe thead th {\n",
       "        text-align: right;\n",
       "    }\n",
       "</style>\n",
       "<table border=\"1\" class=\"dataframe\">\n",
       "  <thead>\n",
       "    <tr style=\"text-align: right;\">\n",
       "      <th></th>\n",
       "      <th>name</th>\n",
       "      <th>category_list</th>\n",
       "      <th>funding_total_usd</th>\n",
       "      <th>country_code</th>\n",
       "      <th>state_code</th>\n",
       "      <th>region</th>\n",
       "      <th>city</th>\n",
       "      <th>funding_rounds</th>\n",
       "      <th>first_funding_at</th>\n",
       "      <th>last_funding_at</th>\n",
       "      <th>...</th>\n",
       "      <th>2_category</th>\n",
       "      <th>3_category</th>\n",
       "      <th>4_category</th>\n",
       "      <th>5_category</th>\n",
       "      <th>1_1_category</th>\n",
       "      <th>1_2_category</th>\n",
       "      <th>1_3_category</th>\n",
       "      <th>2_1_category</th>\n",
       "      <th>2_2_category</th>\n",
       "      <th>2_3_category</th>\n",
       "    </tr>\n",
       "  </thead>\n",
       "  <tbody>\n",
       "    <tr>\n",
       "      <th>0</th>\n",
       "      <td>Crystalsol</td>\n",
       "      <td>Clean Technology</td>\n",
       "      <td>2819200.0</td>\n",
       "      <td>NIC</td>\n",
       "      <td>17</td>\n",
       "      <td>NaN</td>\n",
       "      <td>NaN</td>\n",
       "      <td>1</td>\n",
       "      <td>2009-07-01</td>\n",
       "      <td>2009-07-01</td>\n",
       "      <td>...</td>\n",
       "      <td>None</td>\n",
       "      <td>None</td>\n",
       "      <td>None</td>\n",
       "      <td>None</td>\n",
       "      <td>Clean</td>\n",
       "      <td>Technology</td>\n",
       "      <td>None</td>\n",
       "      <td>None</td>\n",
       "      <td>None</td>\n",
       "      <td>None</td>\n",
       "    </tr>\n",
       "    <tr>\n",
       "      <th>1</th>\n",
       "      <td>JBI Fish &amp; Wings</td>\n",
       "      <td>Hospitality</td>\n",
       "      <td>NaN</td>\n",
       "      <td>USA</td>\n",
       "      <td>TN</td>\n",
       "      <td>TN - Other</td>\n",
       "      <td>Humboldt</td>\n",
       "      <td>1</td>\n",
       "      <td>2010-07-28</td>\n",
       "      <td>2010-07-28</td>\n",
       "      <td>...</td>\n",
       "      <td>None</td>\n",
       "      <td>None</td>\n",
       "      <td>None</td>\n",
       "      <td>None</td>\n",
       "      <td>Hospitality</td>\n",
       "      <td>None</td>\n",
       "      <td>None</td>\n",
       "      <td>None</td>\n",
       "      <td>None</td>\n",
       "      <td>None</td>\n",
       "    </tr>\n",
       "    <tr>\n",
       "      <th>2</th>\n",
       "      <td>COINPLUS</td>\n",
       "      <td>Finance</td>\n",
       "      <td>428257.0</td>\n",
       "      <td>LUX</td>\n",
       "      <td>3</td>\n",
       "      <td>Esch-sur-alzette</td>\n",
       "      <td>Esch-sur-alzette</td>\n",
       "      <td>2</td>\n",
       "      <td>2014-05-15</td>\n",
       "      <td>2014-09-18</td>\n",
       "      <td>...</td>\n",
       "      <td>None</td>\n",
       "      <td>None</td>\n",
       "      <td>None</td>\n",
       "      <td>None</td>\n",
       "      <td>Finance</td>\n",
       "      <td>None</td>\n",
       "      <td>None</td>\n",
       "      <td>None</td>\n",
       "      <td>None</td>\n",
       "      <td>None</td>\n",
       "    </tr>\n",
       "  </tbody>\n",
       "</table>\n",
       "<p>3 rows × 22 columns</p>\n",
       "</div>"
      ],
      "text/plain": [
       "               name     category_list  funding_total_usd country_code  \\\n",
       "0        Crystalsol  Clean Technology          2819200.0          NIC   \n",
       "1  JBI Fish & Wings       Hospitality                NaN          USA   \n",
       "2          COINPLUS           Finance           428257.0          LUX   \n",
       "\n",
       "  state_code            region              city  funding_rounds  \\\n",
       "0         17               NaN               NaN               1   \n",
       "1         TN        TN - Other          Humboldt               1   \n",
       "2          3  Esch-sur-alzette  Esch-sur-alzette               2   \n",
       "\n",
       "  first_funding_at last_funding_at  ...  2_category 3_category 4_category  \\\n",
       "0       2009-07-01      2009-07-01  ...        None       None       None   \n",
       "1       2010-07-28      2010-07-28  ...        None       None       None   \n",
       "2       2014-05-15      2014-09-18  ...        None       None       None   \n",
       "\n",
       "  5_category 1_1_category 1_2_category 1_3_category 2_1_category 2_2_category  \\\n",
       "0       None        Clean   Technology         None         None         None   \n",
       "1       None  Hospitality         None         None         None         None   \n",
       "2       None      Finance         None         None         None         None   \n",
       "\n",
       "  2_3_category  \n",
       "0         None  \n",
       "1         None  \n",
       "2         None  \n",
       "\n",
       "[3 rows x 22 columns]"
      ]
     },
     "execution_count": 27,
     "metadata": {},
     "output_type": "execute_result"
    }
   ],
   "source": [
    "# разделяем на слова во второй категории - тестовая выборка\n",
    "test_data = split_column(test_data, '2_category', new_columns_2_level_2, delimiter =' ')\n",
    "test_data.head(3)"
   ]
  },
  {
   "cell_type": "code",
   "execution_count": 28,
   "id": "d4311306",
   "metadata": {},
   "outputs": [
    {
     "data": {
      "text/html": [
       "<div>\n",
       "<style scoped>\n",
       "    .dataframe tbody tr th:only-of-type {\n",
       "        vertical-align: middle;\n",
       "    }\n",
       "\n",
       "    .dataframe tbody tr th {\n",
       "        vertical-align: top;\n",
       "    }\n",
       "\n",
       "    .dataframe thead th {\n",
       "        text-align: right;\n",
       "    }\n",
       "</style>\n",
       "<table border=\"1\" class=\"dataframe\">\n",
       "  <thead>\n",
       "    <tr style=\"text-align: right;\">\n",
       "      <th></th>\n",
       "      <th>name</th>\n",
       "      <th>category_list</th>\n",
       "      <th>funding_total_usd</th>\n",
       "      <th>status</th>\n",
       "      <th>country_code</th>\n",
       "      <th>state_code</th>\n",
       "      <th>region</th>\n",
       "      <th>city</th>\n",
       "      <th>funding_rounds</th>\n",
       "      <th>founded_at</th>\n",
       "      <th>...</th>\n",
       "      <th>5_category</th>\n",
       "      <th>1_1_category</th>\n",
       "      <th>1_2_category</th>\n",
       "      <th>1_3_category</th>\n",
       "      <th>2_1_category</th>\n",
       "      <th>2_2_category</th>\n",
       "      <th>2_3_category</th>\n",
       "      <th>3_1_category</th>\n",
       "      <th>3_2_category</th>\n",
       "      <th>3_3_category</th>\n",
       "    </tr>\n",
       "  </thead>\n",
       "  <tbody>\n",
       "    <tr>\n",
       "      <th>0</th>\n",
       "      <td>Lunchgate</td>\n",
       "      <td>Online Reservations|Restaurants</td>\n",
       "      <td>828626.0</td>\n",
       "      <td>operating</td>\n",
       "      <td>CHE</td>\n",
       "      <td>25</td>\n",
       "      <td>Zurich</td>\n",
       "      <td>Zürich</td>\n",
       "      <td>2</td>\n",
       "      <td>2009-10-17</td>\n",
       "      <td>...</td>\n",
       "      <td>None</td>\n",
       "      <td>Online</td>\n",
       "      <td>Reservations</td>\n",
       "      <td>None</td>\n",
       "      <td>Restaurants</td>\n",
       "      <td>None</td>\n",
       "      <td>None</td>\n",
       "      <td>None</td>\n",
       "      <td>None</td>\n",
       "      <td>None</td>\n",
       "    </tr>\n",
       "    <tr>\n",
       "      <th>1</th>\n",
       "      <td>EarLens</td>\n",
       "      <td>Manufacturing|Medical|Medical Devices</td>\n",
       "      <td>42935019.0</td>\n",
       "      <td>operating</td>\n",
       "      <td>USA</td>\n",
       "      <td>CA</td>\n",
       "      <td>SF Bay Area</td>\n",
       "      <td>Redwood City</td>\n",
       "      <td>4</td>\n",
       "      <td>2005-01-01</td>\n",
       "      <td>...</td>\n",
       "      <td>None</td>\n",
       "      <td>Manufacturing</td>\n",
       "      <td>None</td>\n",
       "      <td>None</td>\n",
       "      <td>Medical</td>\n",
       "      <td>None</td>\n",
       "      <td>None</td>\n",
       "      <td>Medical</td>\n",
       "      <td>Devices</td>\n",
       "      <td>None</td>\n",
       "    </tr>\n",
       "    <tr>\n",
       "      <th>2</th>\n",
       "      <td>Reviva Pharmaceuticals</td>\n",
       "      <td>Biotechnology</td>\n",
       "      <td>35456381.0</td>\n",
       "      <td>operating</td>\n",
       "      <td>USA</td>\n",
       "      <td>CA</td>\n",
       "      <td>SF Bay Area</td>\n",
       "      <td>San Jose</td>\n",
       "      <td>3</td>\n",
       "      <td>2006-01-01</td>\n",
       "      <td>...</td>\n",
       "      <td>None</td>\n",
       "      <td>Biotechnology</td>\n",
       "      <td>None</td>\n",
       "      <td>None</td>\n",
       "      <td>None</td>\n",
       "      <td>None</td>\n",
       "      <td>None</td>\n",
       "      <td>None</td>\n",
       "      <td>None</td>\n",
       "      <td>None</td>\n",
       "    </tr>\n",
       "  </tbody>\n",
       "</table>\n",
       "<p>3 rows × 28 columns</p>\n",
       "</div>"
      ],
      "text/plain": [
       "                     name                          category_list  \\\n",
       "0               Lunchgate        Online Reservations|Restaurants   \n",
       "1                 EarLens  Manufacturing|Medical|Medical Devices   \n",
       "2  Reviva Pharmaceuticals                          Biotechnology   \n",
       "\n",
       "   funding_total_usd     status country_code state_code       region  \\\n",
       "0           828626.0  operating          CHE         25       Zurich   \n",
       "1         42935019.0  operating          USA         CA  SF Bay Area   \n",
       "2         35456381.0  operating          USA         CA  SF Bay Area   \n",
       "\n",
       "           city  funding_rounds founded_at  ... 5_category   1_1_category  \\\n",
       "0        Zürich               2 2009-10-17  ...       None         Online   \n",
       "1  Redwood City               4 2005-01-01  ...       None  Manufacturing   \n",
       "2      San Jose               3 2006-01-01  ...       None  Biotechnology   \n",
       "\n",
       "   1_2_category  1_3_category 2_1_category 2_2_category 2_3_category  \\\n",
       "0  Reservations          None  Restaurants         None         None   \n",
       "1          None          None      Medical         None         None   \n",
       "2          None          None         None         None         None   \n",
       "\n",
       "  3_1_category 3_2_category 3_3_category  \n",
       "0         None         None         None  \n",
       "1      Medical      Devices         None  \n",
       "2         None         None         None  \n",
       "\n",
       "[3 rows x 28 columns]"
      ]
     },
     "execution_count": 28,
     "metadata": {},
     "output_type": "execute_result"
    }
   ],
   "source": [
    "# разделяем на слова в третьей категории - тренировочная выборка\n",
    "new_columns_2_level_3 = ['3_1_category', '3_2_category', '3_3_category']\n",
    "train_data = split_column(train_data, '3_category', new_columns_2_level_3, delimiter =' ')\n",
    "\n",
    "train_data.head(3)"
   ]
  },
  {
   "cell_type": "code",
   "execution_count": 29,
   "id": "ada8d894",
   "metadata": {
    "scrolled": false
   },
   "outputs": [
    {
     "data": {
      "text/html": [
       "<div>\n",
       "<style scoped>\n",
       "    .dataframe tbody tr th:only-of-type {\n",
       "        vertical-align: middle;\n",
       "    }\n",
       "\n",
       "    .dataframe tbody tr th {\n",
       "        vertical-align: top;\n",
       "    }\n",
       "\n",
       "    .dataframe thead th {\n",
       "        text-align: right;\n",
       "    }\n",
       "</style>\n",
       "<table border=\"1\" class=\"dataframe\">\n",
       "  <thead>\n",
       "    <tr style=\"text-align: right;\">\n",
       "      <th></th>\n",
       "      <th>name</th>\n",
       "      <th>category_list</th>\n",
       "      <th>funding_total_usd</th>\n",
       "      <th>country_code</th>\n",
       "      <th>state_code</th>\n",
       "      <th>region</th>\n",
       "      <th>city</th>\n",
       "      <th>funding_rounds</th>\n",
       "      <th>first_funding_at</th>\n",
       "      <th>last_funding_at</th>\n",
       "      <th>...</th>\n",
       "      <th>5_category</th>\n",
       "      <th>1_1_category</th>\n",
       "      <th>1_2_category</th>\n",
       "      <th>1_3_category</th>\n",
       "      <th>2_1_category</th>\n",
       "      <th>2_2_category</th>\n",
       "      <th>2_3_category</th>\n",
       "      <th>3_1_category</th>\n",
       "      <th>3_2_category</th>\n",
       "      <th>3_3_category</th>\n",
       "    </tr>\n",
       "  </thead>\n",
       "  <tbody>\n",
       "    <tr>\n",
       "      <th>0</th>\n",
       "      <td>Crystalsol</td>\n",
       "      <td>Clean Technology</td>\n",
       "      <td>2819200.0</td>\n",
       "      <td>NIC</td>\n",
       "      <td>17</td>\n",
       "      <td>NaN</td>\n",
       "      <td>NaN</td>\n",
       "      <td>1</td>\n",
       "      <td>2009-07-01</td>\n",
       "      <td>2009-07-01</td>\n",
       "      <td>...</td>\n",
       "      <td>None</td>\n",
       "      <td>Clean</td>\n",
       "      <td>Technology</td>\n",
       "      <td>None</td>\n",
       "      <td>None</td>\n",
       "      <td>None</td>\n",
       "      <td>None</td>\n",
       "      <td>None</td>\n",
       "      <td>None</td>\n",
       "      <td>None</td>\n",
       "    </tr>\n",
       "    <tr>\n",
       "      <th>1</th>\n",
       "      <td>JBI Fish &amp; Wings</td>\n",
       "      <td>Hospitality</td>\n",
       "      <td>NaN</td>\n",
       "      <td>USA</td>\n",
       "      <td>TN</td>\n",
       "      <td>TN - Other</td>\n",
       "      <td>Humboldt</td>\n",
       "      <td>1</td>\n",
       "      <td>2010-07-28</td>\n",
       "      <td>2010-07-28</td>\n",
       "      <td>...</td>\n",
       "      <td>None</td>\n",
       "      <td>Hospitality</td>\n",
       "      <td>None</td>\n",
       "      <td>None</td>\n",
       "      <td>None</td>\n",
       "      <td>None</td>\n",
       "      <td>None</td>\n",
       "      <td>None</td>\n",
       "      <td>None</td>\n",
       "      <td>None</td>\n",
       "    </tr>\n",
       "    <tr>\n",
       "      <th>2</th>\n",
       "      <td>COINPLUS</td>\n",
       "      <td>Finance</td>\n",
       "      <td>428257.0</td>\n",
       "      <td>LUX</td>\n",
       "      <td>3</td>\n",
       "      <td>Esch-sur-alzette</td>\n",
       "      <td>Esch-sur-alzette</td>\n",
       "      <td>2</td>\n",
       "      <td>2014-05-15</td>\n",
       "      <td>2014-09-18</td>\n",
       "      <td>...</td>\n",
       "      <td>None</td>\n",
       "      <td>Finance</td>\n",
       "      <td>None</td>\n",
       "      <td>None</td>\n",
       "      <td>None</td>\n",
       "      <td>None</td>\n",
       "      <td>None</td>\n",
       "      <td>None</td>\n",
       "      <td>None</td>\n",
       "      <td>None</td>\n",
       "    </tr>\n",
       "  </tbody>\n",
       "</table>\n",
       "<p>3 rows × 25 columns</p>\n",
       "</div>"
      ],
      "text/plain": [
       "               name     category_list  funding_total_usd country_code  \\\n",
       "0        Crystalsol  Clean Technology          2819200.0          NIC   \n",
       "1  JBI Fish & Wings       Hospitality                NaN          USA   \n",
       "2          COINPLUS           Finance           428257.0          LUX   \n",
       "\n",
       "  state_code            region              city  funding_rounds  \\\n",
       "0         17               NaN               NaN               1   \n",
       "1         TN        TN - Other          Humboldt               1   \n",
       "2          3  Esch-sur-alzette  Esch-sur-alzette               2   \n",
       "\n",
       "  first_funding_at last_funding_at  ...  5_category 1_1_category 1_2_category  \\\n",
       "0       2009-07-01      2009-07-01  ...        None        Clean   Technology   \n",
       "1       2010-07-28      2010-07-28  ...        None  Hospitality         None   \n",
       "2       2014-05-15      2014-09-18  ...        None      Finance         None   \n",
       "\n",
       "  1_3_category 2_1_category 2_2_category 2_3_category 3_1_category  \\\n",
       "0         None         None         None         None         None   \n",
       "1         None         None         None         None         None   \n",
       "2         None         None         None         None         None   \n",
       "\n",
       "  3_2_category 3_3_category  \n",
       "0         None         None  \n",
       "1         None         None  \n",
       "2         None         None  \n",
       "\n",
       "[3 rows x 25 columns]"
      ]
     },
     "execution_count": 29,
     "metadata": {},
     "output_type": "execute_result"
    }
   ],
   "source": [
    "test_data = split_column(test_data, '3_category', new_columns_2_level_3, delimiter =' ')\n",
    "test_data.head(3)"
   ]
  },
  {
   "cell_type": "markdown",
   "id": "b9fc8537",
   "metadata": {},
   "source": [
    "#### Поля с месторасположением (region, city)"
   ]
  },
  {
   "cell_type": "markdown",
   "id": "42cf11b9",
   "metadata": {},
   "source": [
    "В этих полях у нас есть ряд неявных дублей.\n",
    "Выявление неявных дублей проводилось с помощью библиотеки fuzzywuzzy, и в виду достаточно медленного кода - выделено в отдельный блокнот в папке с проектом под названием duplicates.\n",
    "\n",
    "Обработаем неявные дубликаты:"
   ]
  },
  {
   "cell_type": "code",
   "execution_count": 30,
   "id": "d05365a9",
   "metadata": {},
   "outputs": [],
   "source": [
    "vocab = {\n",
    "\n",
    "\"Milan\" : \"Milano\", \n",
    "\"Melbourne\" : \"Melbourn\", \n",
    "\"Herzliya\" : \"Herzlia B\", \n",
    "\"Warsaw\" : \"Warszawa\", \n",
    "\"Bangkok\" : \"Bankok\", \n",
    "\"Brussels\" : \"Brussel\", \n",
    "\"Malmö\" : \"Malma\", \n",
    "\"West Palm\" : \"Beach Palm Beach\", \n",
    "\"Ahmedabad\" : \"Ahmadabad\", \n",
    "\"Lisbon\" : \"Lisboa\", \n",
    "\"Antwerp\" : \"Antwerpen\", \n",
    "\"Monterrey\" : \"Monterey\", \n",
    "\"Gent\" : \"Ghent\", \n",
    "\"Taiwan\" : \"Tainan\", \n",
    "\"St. John's\" : \"Saint John's\", \n",
    "\"Ness Ziona\" : \"Nes Ziyona\", \n",
    "\"Saint Gallen\" : \"Sankt Gallen\", \n",
    "\"Changsha CHN\" : \"Changshu\", \n",
    "\"Beijing\" :\" Beijin\", \n",
    "\"Shanghai\" : \"Shangai\", \n",
    "\"Milan\" : \"Milano\", \n",
    "\"Sofia\" : \"Sofiya\", \n",
    "\"Melbourne\" :\" Melbourn\", \n",
    "\"Tallinn\" : \"Tallinna\", \n",
    "\"Kuala Lumpur\" : \"Kuala Lumpor\", \n",
    "\"Bangkok\" : \"Bankok\",  \n",
    "\"Brussels\" : \"Brussel\", \n",
    "\"Belo Horizonte\" : \"Bello Horizonte\", \n",
    "\n",
    "}\n",
    "\n",
    "\n",
    "train_data['city'] = train_data['city'].replace(vocab)"
   ]
  },
  {
   "cell_type": "code",
   "execution_count": 31,
   "id": "73b4b0d0",
   "metadata": {},
   "outputs": [],
   "source": [
    "vocab = {\n",
    "\n",
    "'Melbourne' : 'Melbourn',\n",
    "'Montpellier' : 'Montpelier',\n",
    "'Monterrey' : 'Monterey'\n",
    "\n",
    "}\n",
    "\n",
    "\n",
    "train_data['region'] = train_data['region'].replace(vocab)"
   ]
  },
  {
   "cell_type": "code",
   "execution_count": 32,
   "id": "d77bdc15",
   "metadata": {},
   "outputs": [
    {
     "data": {
      "text/plain": [
       "(13125, 25)"
      ]
     },
     "execution_count": 32,
     "metadata": {},
     "output_type": "execute_result"
    }
   ],
   "source": [
    "test_data.shape"
   ]
  },
  {
   "cell_type": "markdown",
   "id": "421fe24d",
   "metadata": {},
   "source": [
    "## Исследовательский анализ данных\n",
    "\n",
    "### Таргет (status: компания работает или закрылась)"
   ]
  },
  {
   "cell_type": "code",
   "execution_count": 33,
   "id": "3dfd2a00",
   "metadata": {
    "scrolled": true
   },
   "outputs": [
    {
     "data": {
      "text/plain": [
       "status\n",
       "operating    0.906371\n",
       "closed       0.093629\n",
       "Name: proportion, dtype: float64"
      ]
     },
     "execution_count": 33,
     "metadata": {},
     "output_type": "execute_result"
    }
   ],
   "source": [
    "train_data['status'].value_counts(normalize=True)"
   ]
  },
  {
   "cell_type": "markdown",
   "id": "4e189267",
   "metadata": {},
   "source": [
    "Первое на что следует обратить внимание, это большой дисбаланс между классами в целевом признаке. \n",
    "Это означает, что для простых моделей (такие как дерево решений или логистическая регрессия) понадобится сэмплинг, для поднятия чувствительности модели к минорному классу.\n",
    "\n",
    "### Объем финансирования (funding_total_usd)"
   ]
  },
  {
   "cell_type": "code",
   "execution_count": 34,
   "id": "9e8259e6",
   "metadata": {
    "scrolled": false
   },
   "outputs": [
    {
     "data": {
      "image/png": "[encoded data removed]",
      "text/plain": [
       "<Figure size 1500x700 with 2 Axes>"
      ]
     },
     "metadata": {},
     "output_type": "display_data"
    }
   ],
   "source": [
    "num_stat_description (train_data, \"funding_total_usd\", 50, \"Объем финансирования - тренировочные данные\")"
   ]
  },
  {
   "cell_type": "markdown",
   "id": "a8bd069e",
   "metadata": {},
   "source": [
    "У распределения есть очень большие выбросы относительно часто встречающихся значений - граница в три стандартных отклонения - 561 млн. долл, в то время как мы можем видеть значения в 50 и даже 300 млрд. долл (что на порядок больше 3 стандартных отклонений). \n",
    "\n",
    "Это означает что распределение с высокой долей вероятности не является нормальным, а значит линейные модели (логистическая регрессия будет плохо работать)."
   ]
  },
  {
   "cell_type": "markdown",
   "id": "9bbb4c27",
   "metadata": {},
   "source": [
    "Проведеем тест на нормальное распределение данных, чтобы убедиться в этом однозначно:"
   ]
  },
  {
   "cell_type": "code",
   "execution_count": 35,
   "id": "078ca936",
   "metadata": {
    "scrolled": true
   },
   "outputs": [
    {
     "data": {
      "text/plain": [
       "AndersonResult(statistic=16634.255214292163, critical_values=array([0.576, 0.656, 0.787, 0.918, 1.092]), significance_level=array([15. , 10. ,  5. ,  2.5,  1. ]), fit_result=  params: FitParams(loc=14748853.90087872, scale=168378343.17941076)\n",
       " success: True\n",
       " message: '`anderson` successfully fit the distribution to the data.')"
      ]
     },
     "execution_count": 35,
     "metadata": {},
     "output_type": "execute_result"
    }
   ],
   "source": [
    "# заполним нулями NaN, чтобы провести тесты\n",
    "train_data[\"funding_total_usd_prep\"] = train_data[\"funding_total_usd\"].fillna(0)\n",
    "\n",
    "result = anderson(train_data['funding_total_usd_prep'], dist='norm')\n",
    "result"
   ]
  },
  {
   "cell_type": "code",
   "execution_count": 36,
   "id": "ab1db5c1",
   "metadata": {
    "scrolled": true
   },
   "outputs": [
    {
     "name": "stdout",
     "output_type": "stream",
     "text": [
      "Выборка не соответствует нормальному распределению (отвергаем нулевую гипотезу).\n"
     ]
    }
   ],
   "source": [
    "# интерпретация теста при уровне значимости 1%\n",
    "\n",
    "if result.statistic < result.critical_values[4]:\n",
    "    print(\"Выборка похожа на нормальное распределение (отвергаем нулевую гипотезу).\")\n",
    "else:\n",
    "    print(\"Выборка не соответствует нормальному распределению (отвергаем нулевую гипотезу).\")"
   ]
  },
  {
   "cell_type": "markdown",
   "id": "025a52d6",
   "metadata": {},
   "source": [
    "**Вывод:** данные в этом поле не распределены нормально"
   ]
  },
  {
   "cell_type": "markdown",
   "id": "82f9fc57",
   "metadata": {},
   "source": [
    "Далее, проведем тест на значимость разности средних (объема финансирования) между двумя классами, это поможет нам определиться, имеет ли данный признак какую-либо прогностическую значимость относительно таргета.\n",
    "\n",
    "Для начала используем t-тест (его можно использовать, хотя с ограничением, на данных с ненормальным распределением):"
   ]
  },
  {
   "cell_type": "code",
   "execution_count": 37,
   "id": "40e85048",
   "metadata": {},
   "outputs": [
    {
     "name": "stdout",
     "output_type": "stream",
     "text": [
      "p-значение: 0.010908297817830457\n",
      "Нет статистически значимых различий (не отвергаем нулевую гипотезу)\n"
     ]
    }
   ],
   "source": [
    "# уровень статистической значимости теста\n",
    "alpha = 0.01\n",
    "\n",
    "# тест\n",
    "results = st.ttest_ind(\n",
    "    train_data.query('status == \"closed\"')[\"funding_total_usd_prep\"], \n",
    "    train_data.query('status == \"operating\"')[\"funding_total_usd_prep\"]\n",
    ") \n",
    "\n",
    "# вывод результатов теста\n",
    "print('p-значение:', results.pvalue)\n",
    "\n",
    "if results.pvalue < alpha: \n",
    "    print('Есть статистически значимые различия (отвергаем нулевую гипотезу)')\n",
    "else:\n",
    "    print('Нет статистически значимых различий (не отвергаем нулевую гипотезу)')"
   ]
  },
  {
   "cell_type": "markdown",
   "id": "3dce416e",
   "metadata": {},
   "source": [
    "Как видим, согласно тесту Стьюдента, при уровне статистической значимости в 1%, мы не можем отвергнуть нулевую гипотезу (что средние двух групп равны). Но значение теста лежит достаточно близко к границе статистической значимости, всего лишь 0,0109. \n",
    "\n",
    "Проведем дополнительно также тест Манна-Уитни (этот тест даже больше нам подходит, поскольку его можно без каких-либо ограничений применять к данным с ненормальным распределением):"
   ]
  },
  {
   "cell_type": "code",
   "execution_count": 38,
   "id": "c500961d",
   "metadata": {},
   "outputs": [
    {
     "name": "stdout",
     "output_type": "stream",
     "text": [
      "Статистика U: 107506849.5\n",
      "p-значение: 3.899387649714552e-21\n",
      "Есть статистически значимые различия (отвергаем нулевую гипотезу)\n"
     ]
    }
   ],
   "source": [
    "from scipy.stats import mannwhitneyu\n",
    "\n",
    "# уровень статистической значимости теста\n",
    "alpha = 0.01\n",
    "\n",
    "# тест\n",
    "stat, p = mannwhitneyu(\n",
    "    train_data.query('status == \"closed\"')[\"funding_total_usd_prep\"], \n",
    "    train_data.query('status == \"operating\"')[\"funding_total_usd_prep\"]\n",
    ")\n",
    "\n",
    "print('Статистика U:', stat)\n",
    "print('p-значение:', p)\n",
    "\n",
    "if p < alpha:\n",
    "    print('Есть статистически значимые различия (отвергаем нулевую гипотезу)')\n",
    "else:\n",
    "    print('Нет статистически значимых различий (не отвергаем нулевую гипотезу)')"
   ]
  },
  {
   "cell_type": "markdown",
   "id": "9da89444",
   "metadata": {},
   "source": [
    "Согласно же теста Манна-Уитни имеется статистически значимая разница средних - значения теста весьма уверенные, и не являются пограничными, даже для 1% уровня стастической значимости. \n",
    "\n",
    "**Выводы:**\n",
    "- уровень полученного финансирования, скорее всего, может иметь существенный вклад при прогнозировании закрытия стартапа. "
   ]
  },
  {
   "cell_type": "markdown",
   "id": "f2c62c92",
   "metadata": {},
   "source": [
    "Посмотрим теперь на распределение значений в тестовой выборке по этому полю:"
   ]
  },
  {
   "cell_type": "code",
   "execution_count": 39,
   "id": "3c0755a1",
   "metadata": {
    "scrolled": false
   },
   "outputs": [
    {
     "data": {
      "image/png": "[encoded data removed]",
      "text/plain": [
       "<Figure size 1500x700 with 2 Axes>"
      ]
     },
     "metadata": {},
     "output_type": "display_data"
    }
   ],
   "source": [
    "num_stat_description (test_data, \"funding_total_usd\", 50, \"Объем финансирования - тестовые данные\")"
   ]
  },
  {
   "cell_type": "markdown",
   "id": "18cc4668",
   "metadata": {},
   "source": [
    "Здесь мы можем видеть, что характер распределения, уровня финансирования, имеет сходный характер - такой же тяжелый хвост справа. \n",
    "\n",
    "Но стоит также отметить, что:\n",
    "- среднее значение в тренировочной выборке выше - 18,2 млн против 16,5 млн;\n",
    "- стандартное отклонение в тренировочной выборке выше - больше 187 млн против 92 млн., т. е. в ней еще больше выбросов. \n",
    "\n",
    "Различие в стандартных отклонениях между тренировочной и тестовой выборками может существенно повлиять на результаты модели и привести к переобучению.\n",
    "\n",
    "Проведем поэтому тест на разность средних тренировочной и тестовой выборки:"
   ]
  },
  {
   "cell_type": "code",
   "execution_count": 40,
   "id": "5f0f687e",
   "metadata": {},
   "outputs": [
    {
     "name": "stdout",
     "output_type": "stream",
     "text": [
      "Статистика U: 346849218.0\n",
      "p-значение: 0.2527358106585238\n",
      "Нет статистически значимых различий (не отвергаем нулевую гипотезу)\n"
     ]
    }
   ],
   "source": [
    "# заполним нулями NaN, чтобы провести тесты\n",
    "test_data[\"funding_total_usd_prep\"] = train_data[\"funding_total_usd\"].fillna(0)\n",
    "\n",
    "from scipy.stats import mannwhitneyu\n",
    "\n",
    "# уровень статистической значимости теста\n",
    "alpha = 0.01\n",
    "\n",
    "# тест\n",
    "stat, p = mannwhitneyu(\n",
    "    train_data[\"funding_total_usd_prep\"], \n",
    "    test_data[\"funding_total_usd_prep\"]\n",
    ")\n",
    "\n",
    "print('Статистика U:', stat)\n",
    "print('p-значение:', p)\n",
    "\n",
    "if p < alpha:\n",
    "    print('Есть статистически значимые различия (отвергаем нулевую гипотезу)')\n",
    "else:\n",
    "    print('Нет статистически значимых различий (не отвергаем нулевую гипотезу)')"
   ]
  },
  {
   "cell_type": "markdown",
   "id": "5e00df2a",
   "metadata": {},
   "source": [
    "Средние значения уровня финансирования в тренировочной и тестовой выборке сходны.\n",
    "\n",
    "Проведем также тест на разность дисперсий с помощью бутстрапирования:"
   ]
  },
  {
   "cell_type": "code",
   "execution_count": 41,
   "id": "b7b7138e",
   "metadata": {},
   "outputs": [],
   "source": [
    "sample1 = train_data['funding_total_usd_prep']\n",
    "sample2 = train_data['funding_total_usd_prep']\n",
    "\n",
    "# Размер бутстрэп-выборки\n",
    "n_bootstrap_samples = 10000\n",
    "\n",
    "# Создаем пустой массив для хранения разностей дисперсий\n",
    "bootstrap_std_1 = []\n",
    "bootstrap_std_2 = []\n",
    "\n",
    "# Генерируем бутстрэп-выборки и вычисляем разности дисперсий\n",
    "for i in range(n_bootstrap_samples):\n",
    "    bootstrap_sample1 = np.random.choice(sample1, size=1000, replace=True)\n",
    "    bootstrap_sample2 = np.random.choice(sample2, size=1000, replace=True)\n",
    "    \n",
    "    bootstrap_std_1.append(np.std(bootstrap_sample1)) \n",
    "    bootstrap_std_2.append(np.std(bootstrap_sample2)) "
   ]
  },
  {
   "cell_type": "code",
   "execution_count": 42,
   "id": "a1f9ebf6",
   "metadata": {},
   "outputs": [
    {
     "name": "stdout",
     "output_type": "stream",
     "text": [
      "p-значение: 0.7296974259971503\n",
      "Нет статистически значимых различий (не отвергаем нулевую гипотезу)\n"
     ]
    }
   ],
   "source": [
    "# уровень статистической значимости теста\n",
    "alpha = 0.01\n",
    "\n",
    "# тест\n",
    "results = st.ttest_ind(\n",
    "    bootstrap_std_1, \n",
    "    bootstrap_std_2\n",
    ") \n",
    "\n",
    "# вывод результатов теста\n",
    "print('p-значение:', results.pvalue)\n",
    "\n",
    "if results.pvalue < alpha: \n",
    "    print('Есть статистически значимые различия (отвергаем нулевую гипотезу)')\n",
    "else:\n",
    "    print('Нет статистически значимых различий (не отвергаем нулевую гипотезу)')"
   ]
  },
  {
   "cell_type": "markdown",
   "id": "2466184e",
   "metadata": {},
   "source": [
    "Как выдим, статистической значимости разницы между двумя стандартными отклонениями (тренировочной и тестовой выборки) нет. Это означает, что визуально наблюдаемая разница нами является случайной. \n",
    "\n",
    "**Вывод**:\n",
    "Данные, которые мы имеем по funding_total_usd сходны и в части среднего значения, и в части меры разброса."
   ]
  },
  {
   "cell_type": "markdown",
   "id": "443208cd",
   "metadata": {},
   "source": [
    "Мы можем провести еще одно наглядное упражнение для подтверждения тезиса выше:"
   ]
  },
  {
   "cell_type": "code",
   "execution_count": 43,
   "id": "1251ea6a",
   "metadata": {},
   "outputs": [
    {
     "data": {
      "text/plain": [
       "count    4.244700e+04\n",
       "mean     1.824748e+07\n",
       "std      1.871173e+08\n",
       "min      1.000000e+00\n",
       "25%      3.360275e+05\n",
       "50%      2.000000e+06\n",
       "75%      1.000000e+07\n",
       "max      3.007950e+10\n",
       "Name: funding_total_usd, dtype: float64"
      ]
     },
     "execution_count": 43,
     "metadata": {},
     "output_type": "execute_result"
    }
   ],
   "source": [
    "train_data['funding_total_usd'].describe()"
   ]
  },
  {
   "cell_type": "code",
   "execution_count": 44,
   "id": "3486d0e4",
   "metadata": {},
   "outputs": [],
   "source": [
    "train_data_without_outliers = train_data.query('funding_total_usd < 5_000_000_000')"
   ]
  },
  {
   "cell_type": "code",
   "execution_count": 45,
   "id": "dfecffe7",
   "metadata": {
    "scrolled": true
   },
   "outputs": [
    {
     "data": {
      "text/plain": [
       "count    4.244000e+04\n",
       "mean     1.658026e+07\n",
       "std      8.152412e+07\n",
       "min      1.000000e+00\n",
       "25%      3.360000e+05\n",
       "50%      2.000000e+06\n",
       "75%      1.000000e+07\n",
       "max      4.812000e+09\n",
       "Name: funding_total_usd, dtype: float64"
      ]
     },
     "execution_count": 45,
     "metadata": {},
     "output_type": "execute_result"
    }
   ],
   "source": [
    "train_data_without_outliers['funding_total_usd'].describe()"
   ]
  },
  {
   "cell_type": "code",
   "execution_count": 46,
   "id": "f1803fe4",
   "metadata": {
    "scrolled": true
   },
   "outputs": [
    {
     "data": {
      "text/plain": [
       "count    1.054700e+04\n",
       "mean     1.654910e+07\n",
       "std      9.217283e+07\n",
       "min      1.000000e+00\n",
       "25%      3.200000e+05\n",
       "50%      2.000000e+06\n",
       "75%      1.000000e+07\n",
       "max      4.715000e+09\n",
       "Name: funding_total_usd, dtype: float64"
      ]
     },
     "execution_count": 46,
     "metadata": {},
     "output_type": "execute_result"
    }
   ],
   "source": [
    "test_data['funding_total_usd'].describe()"
   ]
  },
  {
   "cell_type": "markdown",
   "id": "34b00ebb",
   "metadata": {},
   "source": [
    "Достаточно отбросить несколько значений справа от среднего в тренировочной выборке, как стандартное отклонение визульно будет уже близко к стандартному отклоенению тестовой выборки. Следовательно здесь играет пара выбросов которые мы видели на гистограмме выше.\n",
    "\n",
    "**Выводы:**\n",
    "- признак funding_total_usd имеет влияние на таргет;\n",
    "- значения не распределены нормально (логрегрессия нам не подойдет);\n",
    "- значения в тренировочной и тестовой выборке распределены схожим образом.\n",
    "\n",
    "*Примечание. Поскольку в данной задаче нам недоступны значения таргета для тестовой выборки, то в случае если была бы статистически значимая разница в распределении значений этого поля между тренировочной и тестовой выборкой, нам пришлось бы трансформировать тренировочную выборку определенным образом, чтобы убрать из нее записи менее похожие на значения из тестовой, оставив более близкие к тестовой.*"
   ]
  },
  {
   "cell_type": "markdown",
   "id": "8e2c48da",
   "metadata": {},
   "source": [
    "### Время существования (lifetime)"
   ]
  },
  {
   "cell_type": "code",
   "execution_count": 47,
   "id": "aa34790f",
   "metadata": {
    "scrolled": false
   },
   "outputs": [
    {
     "data": {
      "image/png": "[encoded data removed]",
      "text/plain": [
       "<Figure size 1500x700 with 2 Axes>"
      ]
     },
     "metadata": {},
     "output_type": "display_data"
    }
   ],
   "source": [
    "num_stat_description (train_data, \"lifetime\", 50, \"Время существования - тренировочные данные\")"
   ]
  },
  {
   "cell_type": "code",
   "execution_count": 48,
   "id": "24dc2d76",
   "metadata": {
    "scrolled": false
   },
   "outputs": [
    {
     "data": {
      "image/png": "[encoded data removed]",
      "text/plain": [
       "<Figure size 1500x700 with 2 Axes>"
      ]
     },
     "metadata": {},
     "output_type": "display_data"
    }
   ],
   "source": [
    "num_stat_description (test_data, \"lifetime\", 50, \"Время существования - тестовые данные\")"
   ]
  },
  {
   "cell_type": "markdown",
   "id": "4fe35604",
   "metadata": {},
   "source": [
    "В поле lifetime распределение значений имеет также длинный тяжелый хвост справа, хотя и не столь ярко выраженный - мы можем рассмотреть по крайней мере здесь основные, часто встречающиеся значения - в отличие от предыдущего поля. \n",
    "\n",
    "Также можно видеть, что данные в поле lifetime  в тестовой выборке имеют похожую с тренировочной структуру: \n",
    "- средние значения практически идентичны (3140 дней против 3097 дней);\n",
    "- стандартные отклонения также идентичны (2147 дней против 2128 дней).\n",
    "\n",
    "Проведем тест на нормальное распределение:"
   ]
  },
  {
   "cell_type": "code",
   "execution_count": 49,
   "id": "7ebb3cdc",
   "metadata": {
    "scrolled": true
   },
   "outputs": [
    {
     "data": {
      "text/plain": [
       "AndersonResult(statistic=2285.6633654520774, critical_values=array([0.576, 0.656, 0.787, 0.918, 1.092]), significance_level=array([15. , 10. ,  5. ,  2.5,  1. ]), fit_result=  params: FitParams(loc=3140.8281285703406, scale=2147.821069564776)\n",
       " success: True\n",
       " message: '`anderson` successfully fit the distribution to the data.')"
      ]
     },
     "execution_count": 49,
     "metadata": {},
     "output_type": "execute_result"
    }
   ],
   "source": [
    "result = anderson(train_data['lifetime'], dist='norm')\n",
    "result"
   ]
  },
  {
   "cell_type": "code",
   "execution_count": 50,
   "id": "217d690b",
   "metadata": {},
   "outputs": [
    {
     "name": "stdout",
     "output_type": "stream",
     "text": [
      "Выборка не соответствует нормальному распределению (отвергаем нулевую гипотезу).\n"
     ]
    }
   ],
   "source": [
    "# интерпретация теста при уровне значимости 1%\n",
    "\n",
    "if result.statistic < result.critical_values[4]:\n",
    "    print(\"Выборка похожа на нормальное распределение (отвергаем нулевую гипотезу).\")\n",
    "else:\n",
    "    print(\"Выборка не соответствует нормальному распределению (отвергаем нулевую гипотезу).\")"
   ]
  },
  {
   "cell_type": "markdown",
   "id": "6e153c3d",
   "metadata": {},
   "source": [
    "Значения не распределены нормально.\n",
    "\n",
    "Далее, проведем тест на значимость разности средних (объема финансирования) между двумя классами, это поможет нам определиться, имеет ли данный признак какую-либо прогностическую значимость относительно таргета."
   ]
  },
  {
   "cell_type": "code",
   "execution_count": 51,
   "id": "7f0b437e",
   "metadata": {},
   "outputs": [
    {
     "name": "stdout",
     "output_type": "stream",
     "text": [
      "Статистика U: 28098651.5\n",
      "p-значение: 0.0\n",
      "Есть статистически значимые различия (отвергаем нулевую гипотезу)\n"
     ]
    }
   ],
   "source": [
    "# уровень статистической значимости теста\n",
    "alpha = 0.01\n",
    "\n",
    "# тест\n",
    "stat, p = mannwhitneyu(\n",
    "    train_data.query('status == \"closed\"')[\"lifetime\"], \n",
    "    train_data.query('status == \"operating\"')[\"lifetime\"]\n",
    ")\n",
    "\n",
    "print('Статистика U:', stat)\n",
    "print('p-значение:', p)\n",
    "\n",
    "if p < alpha:\n",
    "    print('Есть статистически значимые различия (отвергаем нулевую гипотезу)')\n",
    "else:\n",
    "    print('Нет статистически значимых различий (не отвергаем нулевую гипотезу)')"
   ]
  },
  {
   "cell_type": "markdown",
   "id": "d0c8e6b4",
   "metadata": {},
   "source": [
    "**Вывод**:\n",
    "- основываясь на результатах теста Манна-Уитни можем утверждать, что данный фактор (срок существования) является еще более существенным в определении статуса стартапа (чем объем финансирования), судя по значению статистики Манна-Уитни."
   ]
  },
  {
   "cell_type": "markdown",
   "id": "3636d587",
   "metadata": {},
   "source": [
    "Тест на разность средних между тренировочной и тестовой выборкой в данном поле:"
   ]
  },
  {
   "cell_type": "code",
   "execution_count": 52,
   "id": "f077bb42",
   "metadata": {
    "scrolled": true
   },
   "outputs": [
    {
     "name": "stdout",
     "output_type": "stream",
     "text": [
      "Статистика U: 348680153.5\n",
      "p-значение: 0.03726439963006546\n",
      "Нет статистически значимых различий (не отвергаем нулевую гипотезу)\n"
     ]
    }
   ],
   "source": [
    "from scipy.stats import mannwhitneyu\n",
    "\n",
    "# уровень статистической значимости теста\n",
    "alpha = 0.01\n",
    "\n",
    "# тест\n",
    "stat, p = mannwhitneyu(\n",
    "    train_data[\"lifetime\"], \n",
    "    test_data[\"lifetime\"]\n",
    ")\n",
    "\n",
    "print('Статистика U:', stat)\n",
    "print('p-значение:', p)\n",
    "\n",
    "if p < alpha:\n",
    "    print('Есть статистически значимые различия (отвергаем нулевую гипотезу)')\n",
    "else:\n",
    "    print('Нет статистически значимых различий (не отвергаем нулевую гипотезу)')"
   ]
  },
  {
   "cell_type": "markdown",
   "id": "af2d5f05",
   "metadata": {},
   "source": [
    "**Выводы:**\n",
    "- признак lifetime имеет влияние на таргет;\n",
    "- значения не распределены нормально;\n",
    "- значения в тренировочной и тестовой выборке распределены схожим образом."
   ]
  },
  {
   "cell_type": "markdown",
   "id": "c0196e47",
   "metadata": {},
   "source": [
    "### Количество раундов финансирования (funding_rounds)"
   ]
  },
  {
   "cell_type": "code",
   "execution_count": 53,
   "id": "157b3cba",
   "metadata": {
    "scrolled": false
   },
   "outputs": [
    {
     "data": {
      "image/png": "[encoded data removed]",
      "text/plain": [
       "<Figure size 1500x700 with 2 Axes>"
      ]
     },
     "metadata": {},
     "output_type": "display_data"
    }
   ],
   "source": [
    "num_stat_description (train_data, \"funding_rounds\", 50, \"Количество раундов финансирования - тренировочные данные\")"
   ]
  },
  {
   "cell_type": "code",
   "execution_count": 54,
   "id": "2a3ab134",
   "metadata": {},
   "outputs": [
    {
     "data": {
      "image/png": "[encoded data removed]",
      "text/plain": [
       "<Figure size 1500x700 with 2 Axes>"
      ]
     },
     "metadata": {},
     "output_type": "display_data"
    }
   ],
   "source": [
    "num_stat_description (test_data, \"funding_rounds\", 50, \"Количество раундов финансирования - тестовые данные\")"
   ]
  },
  {
   "cell_type": "markdown",
   "id": "20169173",
   "metadata": {},
   "source": [
    "Здесь можно видеть, что данные в этом поле имеют дискретный характер (собственно об этом говорит и тип данных поля - integer):\n",
    "\n",
    "- больше всего (порядка 35 тыс из 52) стартапов имели в своей истории только 1 раунд привлечения средств;\n",
    "- порядка 10 тыс - имели 2 раунда;\n",
    "- 5 тыс - 3 раунда;\n",
    "- 4 раунда и более уже уже встречаются редко относительно други и отмечены как выбросы, за пределами межквартильного размаха;\n",
    "\n",
    "Данные в тестовой выборке имеют похожую с тренировочной структуру: \n",
    "- средние значения практически идентичны (1.74 раунда против 1.71 раунда);\n",
    "- стандартные отклонения также практически идентичны (1.37 дней против 1.31 дней)."
   ]
  },
  {
   "cell_type": "markdown",
   "id": "7f19f247",
   "metadata": {},
   "source": [
    "Тест на статистическую значимость разности средних между группами closed/operating по этому признаку:"
   ]
  },
  {
   "cell_type": "code",
   "execution_count": 55,
   "id": "2c1bea7d",
   "metadata": {},
   "outputs": [
    {
     "name": "stdout",
     "output_type": "stream",
     "text": [
      "Статистика U: 99191449.0\n",
      "p-значение: 4.912113455718185e-94\n",
      "Есть статистически значимые различия (отвергаем нулевую гипотезу)\n"
     ]
    }
   ],
   "source": [
    "# уровень статистической значимости теста\n",
    "alpha = 0.01\n",
    "\n",
    "# тест\n",
    "stat, p = mannwhitneyu(\n",
    "    train_data.query('status == \"closed\"')[\"funding_rounds\"], \n",
    "    train_data.query('status == \"operating\"')[\"funding_rounds\"]\n",
    ")\n",
    "\n",
    "print('Статистика U:', stat)\n",
    "print('p-значение:', p)\n",
    "\n",
    "if p < alpha:\n",
    "    print('Есть статистически значимые различия (отвергаем нулевую гипотезу)')\n",
    "else:\n",
    "    print('Нет статистически значимых различий (не отвергаем нулевую гипотезу)')"
   ]
  },
  {
   "cell_type": "markdown",
   "id": "f2c771cf",
   "metadata": {},
   "source": [
    "Данный признак также имеет существенное влияние на таргет."
   ]
  },
  {
   "cell_type": "markdown",
   "id": "0828ecb7",
   "metadata": {},
   "source": [
    "Тест на разность средних между тренировочной и тестовой выборкой по этому признаку:"
   ]
  },
  {
   "cell_type": "code",
   "execution_count": 56,
   "id": "ce1d1969",
   "metadata": {},
   "outputs": [
    {
     "name": "stdout",
     "output_type": "stream",
     "text": [
      "Статистика U: 347007902.5\n",
      "p-значение: 0.15342111966629599\n",
      "Нет статистически значимых различий (не отвергаем нулевую гипотезу)\n"
     ]
    }
   ],
   "source": [
    "from scipy.stats import mannwhitneyu\n",
    "\n",
    "# уровень статистической значимости теста\n",
    "alpha = 0.01\n",
    "\n",
    "# тест\n",
    "stat, p = mannwhitneyu(\n",
    "    train_data[\"funding_rounds\"], \n",
    "    test_data[\"funding_rounds\"]\n",
    ")\n",
    "\n",
    "print('Статистика U:', stat)\n",
    "print('p-значение:', p)\n",
    "\n",
    "if p < alpha:\n",
    "    print('Есть статистически значимые различия (отвергаем нулевую гипотезу)')\n",
    "else:\n",
    "    print('Нет статистически значимых различий (не отвергаем нулевую гипотезу)')"
   ]
  },
  {
   "cell_type": "markdown",
   "id": "df27bcb5",
   "metadata": {},
   "source": [
    "**Выводы:**\n",
    "- признак funding_rounds имеет влияние на таргет;\n",
    "- значения не распределены нормально;\n",
    "- значения в тренировочной и тестовой выборке распределены схожим образом."
   ]
  },
  {
   "cell_type": "markdown",
   "id": "c3b0c66e",
   "metadata": {},
   "source": [
    "### Добавление новых признаков"
   ]
  },
  {
   "cell_type": "markdown",
   "id": "5b8e8a40",
   "metadata": {},
   "source": [
    "У нас есть еще два поля - это дата получения первого финансирования (раунда), и дата последнего раунда.\n",
    "На их основе мы можем добавить еще как минимум три новых признака:\n",
    "\n",
    "- funding_lasting - как долго длится период финансирования (по идее, если раундов несколько, то значит стартап развивается)\n",
    "- how_long_ago_first_funding - как много времени (относительно нашей условной точки наблюдения - на начало 2018 года) прошло с момента первого раунда;\n",
    "- how_long_ago_last_funding - как много времени (относительно нашей условной точки наблюдения - на начало 2018 года) прошло с момента последнего раунда."
   ]
  },
  {
   "cell_type": "code",
   "execution_count": 57,
   "id": "5c3e228e",
   "metadata": {},
   "outputs": [],
   "source": [
    "# добавляем funding_lasting\n",
    "train_data['funding_lasting'] = (train_data['last_funding_at'] - train_data['first_funding_at']\n",
    "                                ).astype('int64') // 10**9 // 86400\n",
    "\n",
    "test_data['funding_lasting'] = (test_data['last_funding_at'] - test_data['first_funding_at']\n",
    "                                ).astype('int64') // 10**9 // 86400"
   ]
  },
  {
   "cell_type": "code",
   "execution_count": 58,
   "id": "7be0ea8d",
   "metadata": {},
   "outputs": [],
   "source": [
    "# добавляем how_long_ago_first_funding и how_long_ago_last_funding\n",
    "# в тренировочную и тестовую выборки\n",
    "\n",
    "train_data['end'] = '2018-01-01'\n",
    "test_data['end'] = '2018-01-01'\n",
    "\n",
    "train_data['end'] = pd.to_datetime(train_data['end'], format='%Y-%m-%d')\n",
    "test_data['end'] = pd.to_datetime(train_data['end'], format='%Y-%m-%d')\n",
    "\n",
    "\n",
    "train_data ['how_long_ago_first_funding'] = (train_data['end'] - train_data['first_funding_at']\n",
    "                                            ).astype('int64') // 10**9 // 86400\n",
    "\n",
    "train_data ['how_long_ago_last_funding'] = (train_data['end'] - train_data['last_funding_at']\n",
    "                                           ).astype('int64') // 10**9 // 86400\n",
    "\n",
    "\n",
    "test_data ['how_long_ago_first_funding'] = (test_data['end'] - test_data['first_funding_at']\n",
    "                                            ).astype('int64') // 10**9 // 86400\n",
    "\n",
    "test_data ['how_long_ago_last_funding'] = (test_data['end'] - test_data['last_funding_at']\n",
    "                                           ).astype('int64') // 10**9 // 86400"
   ]
  },
  {
   "cell_type": "markdown",
   "id": "57acadbf",
   "metadata": {},
   "source": []
  },
  {
   "cell_type": "code",
   "execution_count": 59,
   "id": "eaff04f1",
   "metadata": {
    "scrolled": true
   },
   "outputs": [
    {
     "name": "stdout",
     "output_type": "stream",
     "text": [
      "Статистика U: 99202436.0\n",
      "p-значение: 1.1848989599615385e-93\n",
      "Есть статистически значимые различия (отвергаем нулевую гипотезу)\n"
     ]
    }
   ],
   "source": [
    "# уровень статистической значимости теста\n",
    "alpha = 0.01\n",
    "\n",
    "# тест\n",
    "stat, p = mannwhitneyu(\n",
    "    train_data.query('status == \"closed\"')[\"funding_lasting\"], \n",
    "    train_data.query('status == \"operating\"')[\"funding_lasting\"]\n",
    ")\n",
    "\n",
    "print('Статистика U:', stat)\n",
    "print('p-значение:', p)\n",
    "\n",
    "if p < alpha:\n",
    "    print('Есть статистически значимые различия (отвергаем нулевую гипотезу)')\n",
    "else:\n",
    "    print('Нет статистически значимых различий (не отвергаем нулевую гипотезу)')"
   ]
  },
  {
   "cell_type": "markdown",
   "id": "57700b88",
   "metadata": {},
   "source": [
    "Новый признак \"как долго длился период финансирования\" играет существенную роль в прогнозировании таргета."
   ]
  },
  {
   "cell_type": "code",
   "execution_count": 60,
   "id": "6611b160",
   "metadata": {
    "scrolled": true
   },
   "outputs": [
    {
     "data": {
      "text/plain": [
       "count    4917.000000\n",
       "mean      181.572707\n",
       "std       471.182493\n",
       "min         0.000000\n",
       "25%         0.000000\n",
       "50%         0.000000\n",
       "75%         0.000000\n",
       "max      4353.000000\n",
       "Name: funding_lasting, dtype: float64"
      ]
     },
     "execution_count": 60,
     "metadata": {},
     "output_type": "execute_result"
    }
   ],
   "source": [
    "train_data.query('status == \"closed\"')[\"funding_lasting\"].describe()"
   ]
  },
  {
   "cell_type": "code",
   "execution_count": 61,
   "id": "3b590703",
   "metadata": {
    "scrolled": true
   },
   "outputs": [
    {
     "data": {
      "text/plain": [
       "count    47599.000000\n",
       "mean       363.524927\n",
       "std        705.074459\n",
       "min          0.000000\n",
       "25%          0.000000\n",
       "50%          0.000000\n",
       "75%        465.000000\n",
       "max      10807.000000\n",
       "Name: funding_lasting, dtype: float64"
      ]
     },
     "execution_count": 61,
     "metadata": {},
     "output_type": "execute_result"
    }
   ],
   "source": [
    "train_data.query('status == \"operating\"')[\"funding_lasting\"].describe()"
   ]
  },
  {
   "cell_type": "markdown",
   "id": "6676ac2b",
   "metadata": {},
   "source": [
    "Как видим, у компаний которые продолжают работать, этот признак - длительность финансирования составляет в среднем 363 дня, против 181 день у компаний, которые закрылись."
   ]
  },
  {
   "cell_type": "code",
   "execution_count": 62,
   "id": "1d9f539a",
   "metadata": {},
   "outputs": [
    {
     "name": "stdout",
     "output_type": "stream",
     "text": [
      "Статистика U: 144019891.0\n",
      "p-значение: 8.948244960544549e-157\n",
      "Есть статистически значимые различия (отвергаем нулевую гипотезу)\n"
     ]
    }
   ],
   "source": [
    "# уровень статистической значимости теста\n",
    "alpha = 0.01\n",
    "\n",
    "# тест\n",
    "stat, p = mannwhitneyu(\n",
    "    train_data.query('status == \"closed\"')[\"how_long_ago_first_funding\"], \n",
    "    train_data.query('status == \"operating\"')[\"how_long_ago_first_funding\"]\n",
    ")\n",
    "\n",
    "print('Статистика U:', stat)\n",
    "print('p-значение:', p)\n",
    "\n",
    "if p < alpha:\n",
    "    print('Есть статистически значимые различия (отвергаем нулевую гипотезу)')\n",
    "else:\n",
    "    print('Нет статистически значимых различий (не отвергаем нулевую гипотезу)')"
   ]
  },
  {
   "cell_type": "markdown",
   "id": "fb01c093",
   "metadata": {},
   "source": [
    "Новый признак \"как давно был первый раунд финансирования\" играет существенную роль в прогнозировании таргета."
   ]
  },
  {
   "cell_type": "code",
   "execution_count": 63,
   "id": "bf7caa5f",
   "metadata": {
    "scrolled": true
   },
   "outputs": [
    {
     "data": {
      "text/plain": [
       "count     4917.000000\n",
       "mean      2898.166565\n",
       "std       1578.127833\n",
       "min        759.000000\n",
       "25%       1675.000000\n",
       "50%       2701.000000\n",
       "75%       3798.000000\n",
       "max      13071.000000\n",
       "Name: how_long_ago_first_funding, dtype: float64"
      ]
     },
     "execution_count": 63,
     "metadata": {},
     "output_type": "execute_result"
    }
   ],
   "source": [
    "train_data.query('status == \"closed\"')[\"how_long_ago_first_funding\"].describe()"
   ]
  },
  {
   "cell_type": "code",
   "execution_count": 64,
   "id": "871741e3",
   "metadata": {
    "scrolled": true
   },
   "outputs": [
    {
     "data": {
      "text/plain": [
       "count    47599.000000\n",
       "mean      2304.188344\n",
       "std       1281.341158\n",
       "min        758.000000\n",
       "25%       1358.000000\n",
       "50%       1933.000000\n",
       "75%       2922.000000\n",
       "max      14841.000000\n",
       "Name: how_long_ago_first_funding, dtype: float64"
      ]
     },
     "execution_count": 64,
     "metadata": {},
     "output_type": "execute_result"
    }
   ],
   "source": [
    "train_data.query('status == \"operating\"')[\"how_long_ago_first_funding\"].describe()"
   ]
  },
  {
   "cell_type": "markdown",
   "id": "7f327137",
   "metadata": {},
   "source": [
    "Как видим, у компаний которые продолжают работать, этот признак - как давно было получено первое финансирование -  составляет в среднем 2304 дней, против 2898 дней у компаний которые закрылись."
   ]
  },
  {
   "cell_type": "code",
   "execution_count": 65,
   "id": "be9e57f9",
   "metadata": {},
   "outputs": [
    {
     "name": "stdout",
     "output_type": "stream",
     "text": [
      "Статистика U: 155640702.5\n",
      "p-значение: 0.0\n",
      "Есть статистически значимые различия (отвергаем нулевую гипотезу)\n"
     ]
    }
   ],
   "source": [
    "# уровень статистической значимости теста\n",
    "alpha = 0.01\n",
    "\n",
    "# тест\n",
    "stat, p = mannwhitneyu(\n",
    "    train_data.query('status == \"closed\"')[\"how_long_ago_last_funding\"], \n",
    "    train_data.query('status == \"operating\"')[\"how_long_ago_last_funding\"]\n",
    ")\n",
    "\n",
    "print('Статистика U:', stat)\n",
    "print('p-значение:', p)\n",
    "\n",
    "if p < alpha:\n",
    "    print('Есть статистически значимые различия (отвергаем нулевую гипотезу)')\n",
    "else:\n",
    "    print('Нет статистически значимых различий (не отвергаем нулевую гипотезу)')"
   ]
  },
  {
   "cell_type": "markdown",
   "id": "bc650850",
   "metadata": {},
   "source": [
    "Новый признак \"как давно был последний раунд финансирования\" играет существенную роль в прогнозировании таргета."
   ]
  },
  {
   "cell_type": "code",
   "execution_count": 66,
   "id": "f469e66c",
   "metadata": {},
   "outputs": [
    {
     "data": {
      "text/plain": [
       "count     4917.000000\n",
       "mean      2716.593858\n",
       "std       1538.036637\n",
       "min        759.000000\n",
       "25%       1512.000000\n",
       "50%       2467.000000\n",
       "75%       3562.000000\n",
       "max      13071.000000\n",
       "Name: how_long_ago_last_funding, dtype: float64"
      ]
     },
     "execution_count": 66,
     "metadata": {},
     "output_type": "execute_result"
    }
   ],
   "source": [
    "train_data.query('status == \"closed\"')[\"how_long_ago_last_funding\"].describe()"
   ]
  },
  {
   "cell_type": "code",
   "execution_count": 67,
   "id": "71f3d77f",
   "metadata": {
    "scrolled": true
   },
   "outputs": [
    {
     "data": {
      "text/plain": [
       "count    47599.000000\n",
       "mean      1940.663417\n",
       "std       1161.201599\n",
       "min        756.000000\n",
       "25%       1127.000000\n",
       "50%       1538.000000\n",
       "75%       2392.000000\n",
       "max      14841.000000\n",
       "Name: how_long_ago_last_funding, dtype: float64"
      ]
     },
     "execution_count": 67,
     "metadata": {},
     "output_type": "execute_result"
    }
   ],
   "source": [
    "train_data.query('status == \"operating\"')[\"how_long_ago_last_funding\"].describe()"
   ]
  },
  {
   "cell_type": "markdown",
   "id": "ab23908f",
   "metadata": {},
   "source": [
    "Как видим, у компаний которые продолжают работать, этот признак - как давно было получено первое финансирование -  составляет в среднем 1940 дней, против 2716 дня у компаний которые закрылись."
   ]
  },
  {
   "cell_type": "markdown",
   "id": "3f45cafd",
   "metadata": {},
   "source": [
    "**Выводы:**\n",
    "- новые признаки вероятно имеют также существенную роль в прогнозировании таргета;\n",
    "- при этом логика у них, скорее всего следующая: чем дольше был период финансирования (то есть, что аналогично было несколько раундов) - тем выше вероятность что компания все еще существует; чем относительно недавно компания получила первое (и последнее/крайнее) финансирование - тем выше вероятность что компания еще существует (здесь банальная вещь - стартапы долго не живут - и чем раньше они были основаны, тем выше вероятность их закрытия при прочих равных, скорее всего)."
   ]
  },
  {
   "cell_type": "markdown",
   "id": "326424eb",
   "metadata": {},
   "source": [
    "### Корреляционный анализ"
   ]
  },
  {
   "cell_type": "code",
   "execution_count": 68,
   "id": "ec047958",
   "metadata": {
    "scrolled": true
   },
   "outputs": [
    {
     "data": {
      "text/plain": [
       "Index(['name', 'category_list', 'funding_total_usd', 'status', 'country_code',\n",
       "       'state_code', 'region', 'city', 'funding_rounds', 'founded_at',\n",
       "       'first_funding_at', 'last_funding_at', 'closed_at', 'lifetime',\n",
       "       '1_category', '2_category', '3_category', '4_category', '5_category',\n",
       "       '1_1_category', '1_2_category', '1_3_category', '2_1_category',\n",
       "       '2_2_category', '2_3_category', '3_1_category', '3_2_category',\n",
       "       '3_3_category', 'funding_total_usd_prep', 'funding_lasting', 'end',\n",
       "       'how_long_ago_first_funding', 'how_long_ago_last_funding'],\n",
       "      dtype='object')"
      ]
     },
     "execution_count": 68,
     "metadata": {},
     "output_type": "execute_result"
    }
   ],
   "source": [
    "train_data.columns"
   ]
  },
  {
   "cell_type": "code",
   "execution_count": 69,
   "id": "fbedb737",
   "metadata": {},
   "outputs": [
    {
     "name": "stderr",
     "output_type": "stream",
     "text": [
      "C:\\Users\\Алекс\\AppData\\Roaming\\Python\\Python311\\site-packages\\phik\\data_quality.py:59: UserWarning: The number of unique values of variable city is large: 4457. Are you sure this is not an interval variable? Analysis for pairs of variables including city can be slow.\n",
      "  warnings.warn(\n",
      "C:\\Users\\Алекс\\AppData\\Roaming\\Python\\Python311\\site-packages\\phik\\data_quality.py:59: UserWarning: The number of unique values of variable region is large: 1033. Are you sure this is not an interval variable? Analysis for pairs of variables including region can be slow.\n",
      "  warnings.warn(\n"
     ]
    },
    {
     "data": {
      "text/html": [
       "<div>\n",
       "<style scoped>\n",
       "    .dataframe tbody tr th:only-of-type {\n",
       "        vertical-align: middle;\n",
       "    }\n",
       "\n",
       "    .dataframe tbody tr th {\n",
       "        vertical-align: top;\n",
       "    }\n",
       "\n",
       "    .dataframe thead th {\n",
       "        text-align: right;\n",
       "    }\n",
       "</style>\n",
       "<table border=\"1\" class=\"dataframe\">\n",
       "  <thead>\n",
       "    <tr style=\"text-align: right;\">\n",
       "      <th></th>\n",
       "      <th>status</th>\n",
       "      <th>country_code</th>\n",
       "      <th>state_code</th>\n",
       "      <th>region</th>\n",
       "      <th>city</th>\n",
       "      <th>funding_total_usd</th>\n",
       "      <th>lifetime</th>\n",
       "      <th>funding_rounds</th>\n",
       "      <th>funding_lasting</th>\n",
       "      <th>how_long_ago_first_funding</th>\n",
       "      <th>how_long_ago_last_funding</th>\n",
       "    </tr>\n",
       "  </thead>\n",
       "  <tbody>\n",
       "    <tr>\n",
       "      <th>status</th>\n",
       "      <td>1.000000</td>\n",
       "      <td>0.124833</td>\n",
       "      <td>0.114905</td>\n",
       "      <td>0.131077</td>\n",
       "      <td>0.041353</td>\n",
       "      <td>0.000000</td>\n",
       "      <td>0.535217</td>\n",
       "      <td>0.098707</td>\n",
       "      <td>0.058833</td>\n",
       "      <td>0.180430</td>\n",
       "      <td>0.244593</td>\n",
       "    </tr>\n",
       "    <tr>\n",
       "      <th>country_code</th>\n",
       "      <td>0.124833</td>\n",
       "      <td>1.000000</td>\n",
       "      <td>0.993440</td>\n",
       "      <td>1.000000</td>\n",
       "      <td>0.999994</td>\n",
       "      <td>0.000000</td>\n",
       "      <td>0.190580</td>\n",
       "      <td>0.000000</td>\n",
       "      <td>0.000000</td>\n",
       "      <td>0.149673</td>\n",
       "      <td>0.103723</td>\n",
       "    </tr>\n",
       "    <tr>\n",
       "      <th>state_code</th>\n",
       "      <td>0.114905</td>\n",
       "      <td>0.993440</td>\n",
       "      <td>1.000000</td>\n",
       "      <td>0.999927</td>\n",
       "      <td>0.999990</td>\n",
       "      <td>0.000000</td>\n",
       "      <td>0.254898</td>\n",
       "      <td>0.000000</td>\n",
       "      <td>0.000000</td>\n",
       "      <td>0.151780</td>\n",
       "      <td>0.063564</td>\n",
       "    </tr>\n",
       "    <tr>\n",
       "      <th>region</th>\n",
       "      <td>0.131077</td>\n",
       "      <td>1.000000</td>\n",
       "      <td>0.999927</td>\n",
       "      <td>1.000000</td>\n",
       "      <td>1.000000</td>\n",
       "      <td>0.000000</td>\n",
       "      <td>0.351591</td>\n",
       "      <td>0.067875</td>\n",
       "      <td>0.000000</td>\n",
       "      <td>0.123556</td>\n",
       "      <td>0.039681</td>\n",
       "    </tr>\n",
       "    <tr>\n",
       "      <th>city</th>\n",
       "      <td>0.041353</td>\n",
       "      <td>0.999994</td>\n",
       "      <td>0.999990</td>\n",
       "      <td>1.000000</td>\n",
       "      <td>1.000000</td>\n",
       "      <td>0.000000</td>\n",
       "      <td>0.646764</td>\n",
       "      <td>0.000000</td>\n",
       "      <td>0.000000</td>\n",
       "      <td>0.428808</td>\n",
       "      <td>0.448336</td>\n",
       "    </tr>\n",
       "    <tr>\n",
       "      <th>funding_total_usd</th>\n",
       "      <td>0.000000</td>\n",
       "      <td>0.000000</td>\n",
       "      <td>0.000000</td>\n",
       "      <td>0.000000</td>\n",
       "      <td>0.000000</td>\n",
       "      <td>1.000000</td>\n",
       "      <td>0.116706</td>\n",
       "      <td>0.213825</td>\n",
       "      <td>0.036073</td>\n",
       "      <td>0.098080</td>\n",
       "      <td>0.076524</td>\n",
       "    </tr>\n",
       "    <tr>\n",
       "      <th>lifetime</th>\n",
       "      <td>0.535217</td>\n",
       "      <td>0.190580</td>\n",
       "      <td>0.254898</td>\n",
       "      <td>0.351591</td>\n",
       "      <td>0.646764</td>\n",
       "      <td>0.116706</td>\n",
       "      <td>1.000000</td>\n",
       "      <td>0.250854</td>\n",
       "      <td>0.287786</td>\n",
       "      <td>0.670207</td>\n",
       "      <td>0.567785</td>\n",
       "    </tr>\n",
       "    <tr>\n",
       "      <th>funding_rounds</th>\n",
       "      <td>0.098707</td>\n",
       "      <td>0.000000</td>\n",
       "      <td>0.000000</td>\n",
       "      <td>0.067875</td>\n",
       "      <td>0.000000</td>\n",
       "      <td>0.213825</td>\n",
       "      <td>0.250854</td>\n",
       "      <td>1.000000</td>\n",
       "      <td>0.488776</td>\n",
       "      <td>0.268915</td>\n",
       "      <td>0.148506</td>\n",
       "    </tr>\n",
       "    <tr>\n",
       "      <th>funding_lasting</th>\n",
       "      <td>0.058833</td>\n",
       "      <td>0.000000</td>\n",
       "      <td>0.000000</td>\n",
       "      <td>0.000000</td>\n",
       "      <td>0.000000</td>\n",
       "      <td>0.036073</td>\n",
       "      <td>0.287786</td>\n",
       "      <td>0.488776</td>\n",
       "      <td>1.000000</td>\n",
       "      <td>0.476014</td>\n",
       "      <td>0.065085</td>\n",
       "    </tr>\n",
       "    <tr>\n",
       "      <th>how_long_ago_first_funding</th>\n",
       "      <td>0.180430</td>\n",
       "      <td>0.149673</td>\n",
       "      <td>0.151780</td>\n",
       "      <td>0.123556</td>\n",
       "      <td>0.428808</td>\n",
       "      <td>0.098080</td>\n",
       "      <td>0.670207</td>\n",
       "      <td>0.268915</td>\n",
       "      <td>0.476014</td>\n",
       "      <td>1.000000</td>\n",
       "      <td>0.994711</td>\n",
       "    </tr>\n",
       "    <tr>\n",
       "      <th>how_long_ago_last_funding</th>\n",
       "      <td>0.244593</td>\n",
       "      <td>0.103723</td>\n",
       "      <td>0.063564</td>\n",
       "      <td>0.039681</td>\n",
       "      <td>0.448336</td>\n",
       "      <td>0.076524</td>\n",
       "      <td>0.567785</td>\n",
       "      <td>0.148506</td>\n",
       "      <td>0.065085</td>\n",
       "      <td>0.994711</td>\n",
       "      <td>1.000000</td>\n",
       "    </tr>\n",
       "  </tbody>\n",
       "</table>\n",
       "</div>"
      ],
      "text/plain": [
       "                              status  country_code  state_code    region  \\\n",
       "status                      1.000000      0.124833    0.114905  0.131077   \n",
       "country_code                0.124833      1.000000    0.993440  1.000000   \n",
       "state_code                  0.114905      0.993440    1.000000  0.999927   \n",
       "region                      0.131077      1.000000    0.999927  1.000000   \n",
       "city                        0.041353      0.999994    0.999990  1.000000   \n",
       "funding_total_usd           0.000000      0.000000    0.000000  0.000000   \n",
       "lifetime                    0.535217      0.190580    0.254898  0.351591   \n",
       "funding_rounds              0.098707      0.000000    0.000000  0.067875   \n",
       "funding_lasting             0.058833      0.000000    0.000000  0.000000   \n",
       "how_long_ago_first_funding  0.180430      0.149673    0.151780  0.123556   \n",
       "how_long_ago_last_funding   0.244593      0.103723    0.063564  0.039681   \n",
       "\n",
       "                                city  funding_total_usd  lifetime  \\\n",
       "status                      0.041353           0.000000  0.535217   \n",
       "country_code                0.999994           0.000000  0.190580   \n",
       "state_code                  0.999990           0.000000  0.254898   \n",
       "region                      1.000000           0.000000  0.351591   \n",
       "city                        1.000000           0.000000  0.646764   \n",
       "funding_total_usd           0.000000           1.000000  0.116706   \n",
       "lifetime                    0.646764           0.116706  1.000000   \n",
       "funding_rounds              0.000000           0.213825  0.250854   \n",
       "funding_lasting             0.000000           0.036073  0.287786   \n",
       "how_long_ago_first_funding  0.428808           0.098080  0.670207   \n",
       "how_long_ago_last_funding   0.448336           0.076524  0.567785   \n",
       "\n",
       "                            funding_rounds  funding_lasting  \\\n",
       "status                            0.098707         0.058833   \n",
       "country_code                      0.000000         0.000000   \n",
       "state_code                        0.000000         0.000000   \n",
       "region                            0.067875         0.000000   \n",
       "city                              0.000000         0.000000   \n",
       "funding_total_usd                 0.213825         0.036073   \n",
       "lifetime                          0.250854         0.287786   \n",
       "funding_rounds                    1.000000         0.488776   \n",
       "funding_lasting                   0.488776         1.000000   \n",
       "how_long_ago_first_funding        0.268915         0.476014   \n",
       "how_long_ago_last_funding         0.148506         0.065085   \n",
       "\n",
       "                            how_long_ago_first_funding  \\\n",
       "status                                        0.180430   \n",
       "country_code                                  0.149673   \n",
       "state_code                                    0.151780   \n",
       "region                                        0.123556   \n",
       "city                                          0.428808   \n",
       "funding_total_usd                             0.098080   \n",
       "lifetime                                      0.670207   \n",
       "funding_rounds                                0.268915   \n",
       "funding_lasting                               0.476014   \n",
       "how_long_ago_first_funding                    1.000000   \n",
       "how_long_ago_last_funding                     0.994711   \n",
       "\n",
       "                            how_long_ago_last_funding  \n",
       "status                                       0.244593  \n",
       "country_code                                 0.103723  \n",
       "state_code                                   0.063564  \n",
       "region                                       0.039681  \n",
       "city                                         0.448336  \n",
       "funding_total_usd                            0.076524  \n",
       "lifetime                                     0.567785  \n",
       "funding_rounds                               0.148506  \n",
       "funding_lasting                              0.065085  \n",
       "how_long_ago_first_funding                   0.994711  \n",
       "how_long_ago_last_funding                    1.000000  "
      ]
     },
     "execution_count": 69,
     "metadata": {},
     "output_type": "execute_result"
    }
   ],
   "source": [
    "train_data[[\n",
    "    \n",
    "    'status',\n",
    "    \n",
    "    'country_code',\n",
    "    'state_code', \n",
    "    'region', \n",
    "    'city',\n",
    "   \n",
    "    'funding_total_usd',\n",
    "    'lifetime',\n",
    "    'funding_rounds',\n",
    "    'funding_lasting',\n",
    "    'how_long_ago_first_funding', \n",
    "    'how_long_ago_last_funding'\n",
    "\n",
    "    ]].phik_matrix(interval_cols=['funding_total_usd', \n",
    "                                  'lifetime', \n",
    "                                  'funding_rounds', \n",
    "                                  'funding_lasting',\n",
    "                                  'how_long_ago_first_funding', \n",
    "                                  'how_long_ago_last_funding'])"
   ]
  },
  {
   "cell_type": "markdown",
   "id": "82b03f72",
   "metadata": {},
   "source": [
    "Мы можем видеть, что между статусом стартапа и:\n",
    "\n",
    "- продолжительностью его существования есть положительная корреляция средней силы - 0,53;\n",
    "\n",
    "- продолжительностью времени с момента последнего раунда есть положительная корреляция слабой силы - 0,24;\n",
    "- продолжительностью времени с момента первого раунда есть положительная корреляция слабой силы - 0,18;\n",
    "- продолжительностью времени финансирования есть положительная корреляция слабой силы - 0,05;\n",
    "\n",
    "- количеством раундов финансирования есть положительная корреляция слабой силы - 0,09;\n",
    "\n",
    "- страной происхождения есть положительная корреляция слабой силы - 0,12;\n",
    "- штатом/регионом происхождения есть положительная корреляция слабой силы - 0,11;\n",
    "- регионом происхождения есть положительная корреляция слабой силы - 0,13;\n",
    "- городом происхождения есть положительная корреляция слабой силы - 0,05;\n",
    "\n",
    "- и объемом полученного финансирования отсутствует корреляция (то есть нет линейной взаимосвязи).\n",
    "\n",
    "\n",
    "Также можно отметить что есть сильная мультиколлинеарность между\n",
    "- признаками местанахождения (страна/штат/регион/город) - коэффициент корреляции составляет 0,99-1,00 в этом случае; \n",
    "- новыми признаками - как много времени прошло с момента первого и последнего раунда.\n",
    "\n",
    "И это, опять-таки может быть существенно проблемой для линейных моделей."
   ]
  },
  {
   "cell_type": "markdown",
   "id": "2fc37dd8",
   "metadata": {},
   "source": [
    "Попробуем оценить, какого характера может быть зависимость между вероятностью выживания и объемом финансирования (где у нас нулевая корреляция):"
   ]
  },
  {
   "cell_type": "code",
   "execution_count": 70,
   "id": "6d3c4716",
   "metadata": {},
   "outputs": [],
   "source": [
    "# категоризируем таргет \n",
    "train_data ['status_prep'] = train_data ['status'].apply(lambda x: 1 if x == 'operating' else 0)"
   ]
  },
  {
   "cell_type": "code",
   "execution_count": 71,
   "id": "3204b22d",
   "metadata": {},
   "outputs": [],
   "source": [
    "# сгруппируем данные по объему финансирования в корзины/группы для наглядности\n",
    "train_data['funding_total_usd_bins'] = pd.cut(train_data['funding_total_usd_prep'], bins=100)"
   ]
  },
  {
   "cell_type": "code",
   "execution_count": 72,
   "id": "61fcf058",
   "metadata": {},
   "outputs": [],
   "source": [
    "sum_table = pd.DataFrame(\n",
    "    train_data.pivot_table(index='funding_total_usd_bins', values='status_prep', aggfunc=['count', 'mean']))\n",
    "\n",
    "sum_table.columns = ['количество', 'вероятность выживания']\n",
    "\n",
    "sum_table = sum_table.reset_index()"
   ]
  },
  {
   "cell_type": "code",
   "execution_count": 73,
   "id": "40479475",
   "metadata": {
    "scrolled": false
   },
   "outputs": [
    {
     "data": {
      "image/png": "[encoded data removed]",
      "text/plain": [
       "<Figure size 640x480 with 1 Axes>"
      ]
     },
     "metadata": {},
     "output_type": "display_data"
    }
   ],
   "source": [
    "plt.scatter(\n",
    "        sum_table.index,  \n",
    "        sum_table['вероятность выживания'],\n",
    "        marker='o',\n",
    "        label='Среднее значение внутри группы',\n",
    "\n",
    "        color='blue'\n",
    "    )\n",
    "\n",
    "plt.ylabel('Вероятность выживаемости')\n",
    "plt.xlabel('Группа')\n",
    "plt.title('Вероятность выживаемости в зависимости от объема финансирования')\n",
    "plt.show()"
   ]
  },
  {
   "cell_type": "markdown",
   "id": "90d11e4a",
   "metadata": {},
   "source": [
    "В таком масштабе, пожалуй ничего не видно, из-за того что у нас много выбросов. \n",
    "\n",
    "Посмотрим на основной диапазон, где находятся 99% значений (до 600 млн. долл, или грубо 3 стандартных отклоненния):"
   ]
  },
  {
   "cell_type": "code",
   "execution_count": 74,
   "id": "6832ef6c",
   "metadata": {},
   "outputs": [
    {
     "name": "stderr",
     "output_type": "stream",
     "text": [
      "C:\\Users\\Алекс\\AppData\\Local\\Temp\\ipykernel_8836\\2611385569.py:6: SettingWithCopyWarning: \n",
      "A value is trying to be set on a copy of a slice from a DataFrame.\n",
      "Try using .loc[row_indexer,col_indexer] = value instead\n",
      "\n",
      "See the caveats in the documentation: https://pandas.pydata.org/pandas-docs/stable/user_guide/indexing.html#returning-a-view-versus-a-copy\n",
      "  train_data_no_outliers['funding_total_usd_bins'] = pd.cut(train_data_no_outliers['funding_total_usd_prep'], bins=100)\n"
     ]
    }
   ],
   "source": [
    "# сгруппируем данные по объему финансирования в корзины/группы для наглядности\n",
    "\n",
    "train_data_no_outliers = train_data.query('funding_total_usd_prep < 600_000_000')\n",
    "\n",
    "\n",
    "train_data_no_outliers['funding_total_usd_bins'] = pd.cut(train_data_no_outliers['funding_total_usd_prep'], bins=100)\n",
    "\n",
    "sum_table = pd.DataFrame(\n",
    "    train_data_no_outliers.pivot_table(index='funding_total_usd_bins', values='status_prep', aggfunc=['count', 'mean']))\n",
    "\n",
    "sum_table.columns = ['количество', 'вероятность выживания']"
   ]
  },
  {
   "cell_type": "code",
   "execution_count": 75,
   "id": "c8fe773b",
   "metadata": {},
   "outputs": [
    {
     "data": {
      "image/png": "[encoded data removed]",
      "text/plain": [
       "<Figure size 640x480 with 1 Axes>"
      ]
     },
     "metadata": {},
     "output_type": "display_data"
    }
   ],
   "source": [
    "sum_table = sum_table.reset_index()\n",
    "\n",
    "bars = plt.scatter(\n",
    "        sum_table.index,  \n",
    "        sum_table['вероятность выживания'],\n",
    "        marker='o',\n",
    "        label='Среднее значение внутри группы',\n",
    "\n",
    "        color='blue'\n",
    "    )\n",
    "\n",
    "plt.ylabel('Выживаемость')\n",
    "plt.xlabel('Группа')\n",
    "plt.title('Выживаемость в зависимости от объема финансирования')\n",
    "\n",
    "plt.show()"
   ]
  },
  {
   "cell_type": "markdown",
   "id": "feead344",
   "metadata": {},
   "source": [
    "Пояснение.\n",
    "По оси ординат - вероятность выживания (от 0 до 1);\n",
    "По оси абсцисс - отнормированные значения объема финансирования (от 0 до 600 млн), разложенные в 100 групп, равных по величине; то есть каждая группа - это отрезок в 6 млн, или что тоже самое - % от 600 млн долл.\n",
    "\n",
    "\n",
    "В общем, можно сказать что зависимость крайне запутанная, точно не линейная, и сложно описать характер этой нелинейности:\n",
    "\n",
    "- первые 20% значений от всего диапазона значений (объема полученного финансирования) - вероятность выживаемости  растет, можно сказать по квадратичной зависимости (порядка 1/2 степени), но при этом некоторые группы \"проваливаются вниз\" от предполагаемого графика этой зависимости, и чем дальше к группе 40 - тем чаще это происходит;\n",
    "- районе группы 40 вероятность выживаемости практически приближается к 1, но тем не менее - там слуаются еще большие провалы - некоторые корзины имеют выживаемость на уровне 0,8-0,7. Но скорее всего это объясняется тем, что количество наблюдений там уже небольшое, и статистика неустойчивая. \n",
    "\n",
    "То есть с ростом величины привлеченного капитала, вероятность выживания растет, но случаются крайне неприятные сюрпризы на этом пути. "
   ]
  },
  {
   "cell_type": "markdown",
   "id": "c342b6f4",
   "metadata": {},
   "source": [
    "## Модель"
   ]
  },
  {
   "cell_type": "code",
   "execution_count": 76,
   "id": "18b96026",
   "metadata": {
    "scrolled": true
   },
   "outputs": [
    {
     "data": {
      "text/plain": [
       "Index(['name', 'category_list', 'funding_total_usd', 'status', 'country_code',\n",
       "       'state_code', 'region', 'city', 'funding_rounds', 'founded_at',\n",
       "       'first_funding_at', 'last_funding_at', 'closed_at', 'lifetime',\n",
       "       '1_category', '2_category', '3_category', '4_category', '5_category',\n",
       "       '1_1_category', '1_2_category', '1_3_category', '2_1_category',\n",
       "       '2_2_category', '2_3_category', '3_1_category', '3_2_category',\n",
       "       '3_3_category', 'funding_total_usd_prep', 'funding_lasting', 'end',\n",
       "       'how_long_ago_first_funding', 'how_long_ago_last_funding',\n",
       "       'status_prep', 'funding_total_usd_bins'],\n",
       "      dtype='object')"
      ]
     },
     "execution_count": 76,
     "metadata": {},
     "output_type": "execute_result"
    }
   ],
   "source": [
    "train_data.columns"
   ]
  },
  {
   "cell_type": "code",
   "execution_count": 77,
   "id": "75848fd0",
   "metadata": {},
   "outputs": [],
   "source": [
    "# создаём списки с названиями входящих признаков для модели\n",
    "# номинальные категориальные\n",
    "ord_columns = [\n",
    "\n",
    "    '1_category',\n",
    "    \n",
    "    '1_1_category', \n",
    "    '1_2_category', \n",
    "  \n",
    "    \n",
    "    '2_category',\n",
    "    \n",
    "    '2_1_category', \n",
    "    '2_2_category', \n",
    "\n",
    "    \n",
    "    '3_category',\n",
    "    '4_category',\n",
    "\n",
    "    'country_code',\n",
    "    'state_code', \n",
    "    'region',\n",
    "    'city'\n",
    " \n",
    "]\n",
    "\n",
    "# количественные\n",
    "num_columns = [\n",
    "\n",
    "    'funding_total_usd',\n",
    "    'lifetime',\n",
    "    'funding_rounds',\n",
    "    'funding_lasting',\n",
    "    \n",
    "    'how_long_ago_first_funding',\n",
    "    'how_long_ago_last_funding'\n",
    "    \n",
    "]\n",
    "\n",
    "all_input_features = ord_columns + num_columns\n",
    "\n",
    "# разделяем входящие признаки и таргет в тренировочном датасете\n",
    "X = train_data[all_input_features]\n",
    "y = train_data['status']\n",
    "\n",
    "# кодируем таргет\n",
    "target_encoder = LabelEncoder()\n",
    "y = target_encoder.fit_transform(y)"
   ]
  },
  {
   "cell_type": "code",
   "execution_count": 78,
   "id": "0558891f",
   "metadata": {},
   "outputs": [],
   "source": [
    "# Предобработка категориальных признаков\n",
    "categorical_transformer = Pipeline(steps=[\n",
    "    ('imputer', SimpleImputer(missing_values=np.nan, strategy='constant', fill_value='other')),\n",
    "    ('encoder', OrdinalEncoder(handle_unknown='use_encoded_value', unknown_value=np.nan)),\n",
    "    ('imputer2', SimpleImputer(missing_values=np.nan, strategy='constant', fill_value=-1))\n",
    "])\n",
    "\n",
    "# Предобработка числовых признаков\n",
    "numeric_transformer = Pipeline(steps=[\n",
    "    ('imputer', SimpleImputer(strategy='constant', fill_value=0)),\n",
    "    ('scaler', 'passthrough')  \n",
    "])\n",
    "\n",
    "# Объединение предобработки\n",
    "preprocessor = ColumnTransformer(\n",
    "    transformers=[\n",
    "        ('cat', categorical_transformer, ord_columns),\n",
    "        ('num', numeric_transformer, num_columns),\n",
    "    ])\n",
    "\n",
    "# Создание пайплайна с моделью\n",
    "pipeline = Pipeline(steps=[\n",
    "    ('preprocessor', preprocessor),\n",
    "    ('models', LGBMClassifier())\n",
    "])"
   ]
  },
  {
   "cell_type": "code",
   "execution_count": 79,
   "id": "ba8090e3",
   "metadata": {},
   "outputs": [],
   "source": [
    "# cловари гиперпараметров для моделей\n",
    "param_grid = [\n",
    "\n",
    "     {\n",
    "        'models': [CatBoostClassifier(random_state=42)],\n",
    "        'models__iterations': [100],\n",
    "        'models__learning_rate': [0.1],\n",
    "        'models__depth': [5],\n",
    "        'models__l2_leaf_reg': [1],\n",
    " \n",
    "       \n",
    "        'preprocessor__num': [StandardScaler(), MinMaxScaler(), 'passthrough']  \n",
    "    }\n",
    "    \n",
    "    \n",
    "]"
   ]
  },
  {
   "cell_type": "code",
   "execution_count": 80,
   "id": "6039c3f8",
   "metadata": {},
   "outputs": [
    {
     "name": "stdout",
     "output_type": "stream",
     "text": [
      "0:\tlearn: 0.6104491\ttotal: 144ms\tremaining: 14.2s\n",
      "1:\tlearn: 0.5428441\ttotal: 150ms\tremaining: 7.33s\n",
      "2:\tlearn: 0.4863066\ttotal: 155ms\tremaining: 5.01s\n",
      "3:\tlearn: 0.4394548\ttotal: 161ms\tremaining: 3.86s\n",
      "4:\tlearn: 0.3981080\ttotal: 166ms\tremaining: 3.16s\n",
      "5:\tlearn: 0.3621329\ttotal: 172ms\tremaining: 2.7s\n",
      "6:\tlearn: 0.3321101\ttotal: 177ms\tremaining: 2.35s\n",
      "7:\tlearn: 0.3066404\ttotal: 182ms\tremaining: 2.09s\n",
      "8:\tlearn: 0.2839601\ttotal: 188ms\tremaining: 1.9s\n",
      "9:\tlearn: 0.2637370\ttotal: 193ms\tremaining: 1.74s\n",
      "10:\tlearn: 0.2458903\ttotal: 199ms\tremaining: 1.61s\n",
      "11:\tlearn: 0.2303320\ttotal: 204ms\tremaining: 1.5s\n",
      "12:\tlearn: 0.2166024\ttotal: 210ms\tremaining: 1.4s\n",
      "13:\tlearn: 0.2044538\ttotal: 215ms\tremaining: 1.32s\n",
      "14:\tlearn: 0.1941228\ttotal: 220ms\tremaining: 1.25s\n",
      "15:\tlearn: 0.1851391\ttotal: 225ms\tremaining: 1.18s\n",
      "16:\tlearn: 0.1739711\ttotal: 231ms\tremaining: 1.13s\n",
      "17:\tlearn: 0.1645164\ttotal: 237ms\tremaining: 1.08s\n",
      "18:\tlearn: 0.1567636\ttotal: 242ms\tremaining: 1.03s\n",
      "19:\tlearn: 0.1499946\ttotal: 248ms\tremaining: 991ms\n",
      "20:\tlearn: 0.1452066\ttotal: 253ms\tremaining: 952ms\n",
      "21:\tlearn: 0.1390583\ttotal: 259ms\tremaining: 917ms\n",
      "22:\tlearn: 0.1353013\ttotal: 263ms\tremaining: 882ms\n",
      "23:\tlearn: 0.1316184\ttotal: 269ms\tremaining: 851ms\n",
      "24:\tlearn: 0.1282815\ttotal: 274ms\tremaining: 822ms\n",
      "25:\tlearn: 0.1248337\ttotal: 279ms\tremaining: 795ms\n",
      "26:\tlearn: 0.1209617\ttotal: 285ms\tremaining: 770ms\n",
      "27:\tlearn: 0.1179948\ttotal: 290ms\tremaining: 746ms\n",
      "28:\tlearn: 0.1155322\ttotal: 295ms\tremaining: 723ms\n",
      "29:\tlearn: 0.1134926\ttotal: 300ms\tremaining: 701ms\n",
      "30:\tlearn: 0.1108160\ttotal: 306ms\tremaining: 680ms\n",
      "31:\tlearn: 0.1085014\ttotal: 311ms\tremaining: 661ms\n",
      "32:\tlearn: 0.1066773\ttotal: 317ms\tremaining: 643ms\n",
      "33:\tlearn: 0.1045815\ttotal: 323ms\tremaining: 626ms\n",
      "34:\tlearn: 0.1029329\ttotal: 328ms\tremaining: 609ms\n",
      "35:\tlearn: 0.1013368\ttotal: 333ms\tremaining: 592ms\n",
      "36:\tlearn: 0.1003795\ttotal: 338ms\tremaining: 576ms\n",
      "37:\tlearn: 0.0992821\ttotal: 343ms\tremaining: 560ms\n",
      "38:\tlearn: 0.0983442\ttotal: 350ms\tremaining: 547ms\n",
      "39:\tlearn: 0.0976327\ttotal: 355ms\tremaining: 533ms\n",
      "40:\tlearn: 0.0969419\ttotal: 361ms\tremaining: 519ms\n",
      "41:\tlearn: 0.0965932\ttotal: 366ms\tremaining: 506ms\n",
      "42:\tlearn: 0.0954290\ttotal: 372ms\tremaining: 493ms\n",
      "43:\tlearn: 0.0950310\ttotal: 378ms\tremaining: 481ms\n",
      "44:\tlearn: 0.0938943\ttotal: 383ms\tremaining: 468ms\n",
      "45:\tlearn: 0.0929453\ttotal: 389ms\tremaining: 456ms\n",
      "46:\tlearn: 0.0920731\ttotal: 394ms\tremaining: 445ms\n",
      "47:\tlearn: 0.0915141\ttotal: 399ms\tremaining: 433ms\n",
      "48:\tlearn: 0.0909514\ttotal: 405ms\tremaining: 422ms\n",
      "49:\tlearn: 0.0904582\ttotal: 411ms\tremaining: 411ms\n",
      "50:\tlearn: 0.0900203\ttotal: 417ms\tremaining: 401ms\n",
      "51:\tlearn: 0.0894617\ttotal: 422ms\tremaining: 390ms\n",
      "52:\tlearn: 0.0891788\ttotal: 428ms\tremaining: 379ms\n",
      "53:\tlearn: 0.0888866\ttotal: 433ms\tremaining: 369ms\n",
      "54:\tlearn: 0.0881979\ttotal: 438ms\tremaining: 358ms\n",
      "55:\tlearn: 0.0879563\ttotal: 443ms\tremaining: 348ms\n",
      "56:\tlearn: 0.0873830\ttotal: 449ms\tremaining: 338ms\n",
      "57:\tlearn: 0.0870370\ttotal: 454ms\tremaining: 329ms\n",
      "58:\tlearn: 0.0866984\ttotal: 460ms\tremaining: 319ms\n",
      "59:\tlearn: 0.0864775\ttotal: 465ms\tremaining: 310ms\n",
      "60:\tlearn: 0.0860933\ttotal: 470ms\tremaining: 301ms\n",
      "61:\tlearn: 0.0857413\ttotal: 476ms\tremaining: 292ms\n",
      "62:\tlearn: 0.0855371\ttotal: 481ms\tremaining: 283ms\n",
      "63:\tlearn: 0.0852602\ttotal: 486ms\tremaining: 273ms\n",
      "64:\tlearn: 0.0850950\ttotal: 491ms\tremaining: 264ms\n",
      "65:\tlearn: 0.0848849\ttotal: 496ms\tremaining: 256ms\n",
      "66:\tlearn: 0.0845134\ttotal: 502ms\tremaining: 247ms\n",
      "67:\tlearn: 0.0843241\ttotal: 507ms\tremaining: 239ms\n",
      "68:\tlearn: 0.0841880\ttotal: 512ms\tremaining: 230ms\n",
      "69:\tlearn: 0.0840295\ttotal: 518ms\tremaining: 222ms\n",
      "70:\tlearn: 0.0839041\ttotal: 523ms\tremaining: 214ms\n",
      "71:\tlearn: 0.0836306\ttotal: 528ms\tremaining: 205ms\n",
      "72:\tlearn: 0.0834996\ttotal: 533ms\tremaining: 197ms\n",
      "73:\tlearn: 0.0833117\ttotal: 538ms\tremaining: 189ms\n",
      "74:\tlearn: 0.0830013\ttotal: 544ms\tremaining: 181ms\n",
      "75:\tlearn: 0.0829047\ttotal: 550ms\tremaining: 174ms\n",
      "76:\tlearn: 0.0828059\ttotal: 555ms\tremaining: 166ms\n",
      "77:\tlearn: 0.0825069\ttotal: 561ms\tremaining: 158ms\n",
      "78:\tlearn: 0.0824321\ttotal: 567ms\tremaining: 151ms\n",
      "79:\tlearn: 0.0820773\ttotal: 573ms\tremaining: 143ms\n",
      "80:\tlearn: 0.0820161\ttotal: 579ms\tremaining: 136ms\n",
      "81:\tlearn: 0.0819162\ttotal: 584ms\tremaining: 128ms\n",
      "82:\tlearn: 0.0818061\ttotal: 589ms\tremaining: 121ms\n",
      "83:\tlearn: 0.0814632\ttotal: 595ms\tremaining: 113ms\n",
      "84:\tlearn: 0.0812981\ttotal: 600ms\tremaining: 106ms\n",
      "85:\tlearn: 0.0810507\ttotal: 605ms\tremaining: 98.5ms\n",
      "86:\tlearn: 0.0809539\ttotal: 610ms\tremaining: 91.2ms\n",
      "87:\tlearn: 0.0808346\ttotal: 616ms\tremaining: 84ms\n",
      "88:\tlearn: 0.0807330\ttotal: 621ms\tremaining: 76.8ms\n",
      "89:\tlearn: 0.0805512\ttotal: 627ms\tremaining: 69.6ms\n",
      "90:\tlearn: 0.0804898\ttotal: 632ms\tremaining: 62.5ms\n",
      "91:\tlearn: 0.0802859\ttotal: 638ms\tremaining: 55.4ms\n",
      "92:\tlearn: 0.0800287\ttotal: 644ms\tremaining: 48.4ms\n",
      "93:\tlearn: 0.0797034\ttotal: 649ms\tremaining: 41.4ms\n",
      "94:\tlearn: 0.0795596\ttotal: 654ms\tremaining: 34.4ms\n",
      "95:\tlearn: 0.0794503\ttotal: 660ms\tremaining: 27.5ms\n",
      "96:\tlearn: 0.0793749\ttotal: 665ms\tremaining: 20.6ms\n",
      "97:\tlearn: 0.0793227\ttotal: 670ms\tremaining: 13.7ms\n",
      "98:\tlearn: 0.0792837\ttotal: 676ms\tremaining: 6.83ms\n",
      "99:\tlearn: 0.0792164\ttotal: 681ms\tremaining: 0us\n",
      "Лучшая модель: <catboost.core.CatBoostClassifier object at 0x000001F6AD73D990>\n",
      "Метрика f1 лучшей модели по результатам кросс-валидации: 0.99\n"
     ]
    }
   ],
   "source": [
    "# поиск лучшей модели и ее гиперпараметров\n",
    "model = GridSearchCV(\n",
    "    pipeline, \n",
    "    param_grid, \n",
    "    cv=5,\n",
    "    scoring='f1',\n",
    "    n_jobs=-1\n",
    ")\n",
    "\n",
    "model.fit(X, y)\n",
    "print(f'Лучшая модель: {model.best_estimator_.named_steps[\"models\"]}')\n",
    "print(f'Метрика f1 лучшей модели по результатам кросс-валидации: {round(model.best_score_, 2)}')"
   ]
  },
  {
   "cell_type": "code",
   "execution_count": 81,
   "id": "d7fc0960",
   "metadata": {
    "scrolled": true
   },
   "outputs": [],
   "source": [
    "best_model = model.best_estimator_.named_steps['models']\n",
    "preprocessor = model.best_estimator_.named_steps['preprocessor']\n",
    "X_train_preprocessed = preprocessor.transform(train_data[all_input_features])"
   ]
  },
  {
   "cell_type": "code",
   "execution_count": 82,
   "id": "ead58cf2",
   "metadata": {},
   "outputs": [],
   "source": [
    "# расчет коэффициентов Шепли (выборочно)\n",
    "X_test_preprocessed_shap = shap.sample(X_train_preprocessed, 10, random_state=RANDOM_STATE)\n",
    "explainer = shap.TreeExplainer(best_model, X_test_preprocessed_shap)\n",
    "shap_values = explainer(X_test_preprocessed_shap)"
   ]
  },
  {
   "cell_type": "code",
   "execution_count": 83,
   "id": "a18b3b2f",
   "metadata": {
    "scrolled": false
   },
   "outputs": [
    {
     "data": {
      "image/png": "[encoded data removed]",
      "text/plain": [
       "<Figure size 800x870 with 1 Axes>"
      ]
     },
     "metadata": {},
     "output_type": "display_data"
    }
   ],
   "source": [
    "# вывод графика\n",
    "shap.summary_plot(shap_values, all_input_features, plot_type=\"bar\", max_display=30, show=False)\n",
    "\n",
    "fig, ax = plt.gcf(), plt.gca()\n",
    "ax.set_title('Влияние входящих признаков по Шепли', fontdict={\"size\":14})\n",
    "ax.set_ylabel('Входящие признаки')\n",
    "ax.set_xlabel('Сила влияния')\n",
    "plt.show()"
   ]
  },
  {
   "cell_type": "markdown",
   "id": "e81289b3",
   "metadata": {
    "scrolled": false
   },
   "source": [
    "### Выводы по этапу моделирования:\n",
    "\n",
    "- использование входящих признаков \"как есть\", без добавления новых (которые описаны в разделе 2.3.5), дает качество модели 60-65% по f1 метрике (на тестовой выборке), не более, вне зависимости от того, какая модель используется (tree, forest, lgbm, catboost);\n",
    "- добавление обработанного признака \"category_list\" (отрасль стартапа) дает следующий потолок качества - 70-75%;\n",
    "- добавление нового признаков  'how_long_ago_first_funding' и 'how_long_ago_last_funding' - дает следующий прыжок до 89%;\n",
    "\n",
    "\n",
    "- без добавления новых признаков, даже примитивные модели дают сносное качество на тренировочной (80-90 без всякого бустинга), но сильно проседают на тестовой (до тех самых 60%), при этом никакая регуляризация не помогает (даже в продвинутых моделях), хотя кажется, что это как раз такой случай - высокое качество на тренировочной - низкое на тестовой - значит нужна регуляризация. **Но это СОВСЕМ не так - нужны именно дополнительные features** для роста качества модели на тестовой выборке;\n",
    "\n",
    "\n",
    "- для продвинутых моделей (lgbm, catboost) сэмплинг не нужен вообще - хотя здесь большая диспропорция между классами (90/10);\n",
    "- андерсэмплинг даже снижает качество;\n",
    "- оверсэмплинг оставляет на том же уровне практически;\n",
    "- в простых моделях (дерево) оверсэмплинг поднимает качество;\n",
    "\n",
    "\n",
    "- отсеивание выбросов, фильтрация данных, которые не встречаются  в тестовой выборке - только ухудшают качество (пробовал на этапе без дополнительных features прогонять данные тренировочной выборки - через еще одну классификационную модель, на предмет того, насколько они похожи на значения тестовой - но даже такое отсеивание только ухудшает, причем значительно);\n",
    "- упрощение категориальных данных (оставить только самые частотные, остальное - none) - тоже ухудшает качество на тестовой;\n",
    "- уборка неявных дублей в категориальных данных (города, регионы) - не дает существенного роста качества (но зато алгоритмы их поиска забирают очень много времени)\n",
    "\n",
    "\n",
    "- касательно обработки признака \"category_list\" - существенное значение имеют категории первого уровня (которые указываются через разделитель | в оригинале), глубиной до 3 словосочетаний (т. е. не более 3 словосочетаний); \n",
    "- в случае категорий второго уровня (где разделителем выступает пробел - или просто отдельные слова) - имеют заметное влияние только от категорий 1 и 2, и глубиной не более 2 (т. е. не более двух первых слов);\n",
    "- дальнейшее добавление (слов или словосочетаний) ведет к ухудшению качества на тестовой выборке;\n",
    "\n",
    "\n",
    "- самые лучшие показатели на тестовой выборке у модели catboost с 1000 деревьев, глубиной 5 и регуляризацией L2=1 - 89,683%;\n",
    "- после обсчета на 50% тестовой выборки (после дедлайна соревнования), качество модели с 1000 деревьев проседает всего на 0,05%, до 89,633;\n",
    "- дальнейшее увеличение характеристик модели ведет уже к ухудшению качества;\n",
    "- выше приведен код с 100 деревьев и глубиной 5 - для лучшей скорости расчета, и такая модель дает 88% качество, что с практической точки зрения не намного худший результат."
   ]
  },
  {
   "cell_type": "code",
   "execution_count": 84,
   "id": "9a463898",
   "metadata": {},
   "outputs": [],
   "source": [
    "# вывод результатов в формате для соревнования kaggle\n",
    "\n",
    "y_pred = model.predict(test_data[all_input_features])\n",
    "test_data['status'] = pd.DataFrame(y_pred)\n",
    "test_data ['status'] = test_data['status'].apply(lambda x: 'operating' if x == 1 else 'closed')\n",
    "feedback = test_data [['name', 'status']]\n",
    "feedback.to_csv(r'datasets\\feedback.csv', index=False)"
   ]
  },
  {
   "cell_type": "markdown",
   "id": "ec1d11b4",
   "metadata": {},
   "source": [
    "### Портрет живого (operating) стартапа"
   ]
  },
  {
   "cell_type": "code",
   "execution_count": 85,
   "id": "605e08b6",
   "metadata": {},
   "outputs": [],
   "source": [
    "# выгрузим вероятности принадлежности к классам (operating/closed) для тренировочной выборки\n",
    "probabilities = model.predict_proba(train_data[all_input_features])[:, 1]\n",
    "train_data['proba'] = probabilities"
   ]
  },
  {
   "cell_type": "code",
   "execution_count": 86,
   "id": "edf835aa",
   "metadata": {},
   "outputs": [],
   "source": [
    "# создадим пользовательскую функцию, которая будет отображать график:\n",
    "# по оси абсцисс - входящий признак, по оси ординат - вероятность отнесения к мажорному классу (operating)\n",
    "\n",
    "def describing (dataset, incoming_feature, target_feature):     \n",
    "    \n",
    "    probabilities_range = np.arange(0.5, 1.0, 0.1)\n",
    "    mean_feature_values = []\n",
    "\n",
    "    for prob in probabilities_range:\n",
    "        mean_feature = dataset.query(f'{target_feature} > {prob}')[incoming_feature].mean()\n",
    "        mean_feature_values.append(mean_feature)\n",
    "\n",
    "    result_df = pd.DataFrame({'Probability': probabilities_range, 'Mean Feature': mean_feature_values})\n",
    "\n",
    "\n",
    "    plt.plot(result_df['Mean Feature'], result_df['Probability'], marker='o')\n",
    "\n",
    "    plt.xlabel(f'Среднее значение {incoming_feature}')\n",
    "    plt.ylabel('Вероятность')\n",
    "    plt.title(f'Вероятность отнесения к классу operating в зависимости от значения {incoming_feature}')\n",
    "    plt.grid(True)\n",
    "    plt.show()"
   ]
  },
  {
   "cell_type": "code",
   "execution_count": 87,
   "id": "e6dbcadf",
   "metadata": {
    "scrolled": false
   },
   "outputs": [
    {
     "data": {
      "image/png": "[encoded data removed]",
      "text/plain": [
       "<Figure size 640x480 with 1 Axes>"
      ]
     },
     "metadata": {},
     "output_type": "display_data"
    }
   ],
   "source": [
    "# критичное значение времени жизни для выживаемости стартапа\n",
    "describing (train_data, 'lifetime', 'proba')     "
   ]
  },
  {
   "cell_type": "code",
   "execution_count": 88,
   "id": "d0af6883",
   "metadata": {
    "scrolled": false
   },
   "outputs": [
    {
     "data": {
      "image/png": "[encoded data removed]",
      "text/plain": [
       "<Figure size 640x480 with 1 Axes>"
      ]
     },
     "metadata": {},
     "output_type": "display_data"
    }
   ],
   "source": [
    "# критичное значение времени с момента первого раунда для выживаемости стартапа\n",
    "describing (train_data, 'how_long_ago_first_funding', 'proba') "
   ]
  },
  {
   "cell_type": "code",
   "execution_count": 89,
   "id": "3e14edac",
   "metadata": {},
   "outputs": [
    {
     "data": {
      "image/png": "[encoded data removed]",
      "text/plain": [
       "<Figure size 640x480 with 1 Axes>"
      ]
     },
     "metadata": {},
     "output_type": "display_data"
    }
   ],
   "source": [
    "# критичное значение времени с момента первого раунда для выживаемости стартапа\n",
    "describing (train_data, 'how_long_ago_last_funding', 'proba') "
   ]
  },
  {
   "cell_type": "code",
   "execution_count": 90,
   "id": "89e1ce67",
   "metadata": {
    "scrolled": false
   },
   "outputs": [
    {
     "data": {
      "image/png": "[encoded data removed]",
      "text/plain": [
       "<Figure size 640x480 with 1 Axes>"
      ]
     },
     "metadata": {},
     "output_type": "display_data"
    }
   ],
   "source": [
    "# критичное значение полученного объема финансирования для выживаемости стартапа\n",
    "describing (train_data, 'funding_total_usd', 'proba')     "
   ]
  },
  {
   "cell_type": "markdown",
   "id": "a18b2fd5",
   "metadata": {},
   "source": [
    "Здесь мы видим, что для того чтобы быть стартапом, который не помрет, надо:\n",
    "- надо проработать минимум 9 лет;\n",
    "- привлечь хотя бы 19 млн. долл.\n",
    "- проработать порядка 6 лет после первого раунда привлечения средств;\n",
    "- проработать порядка 5 лет после последнего раунда привлечения средств.\n",
    "\n",
    "Если вы удовлетворяете этим критерияем как стартап - значит вы, скорее всего, выжили на рынке."
   ]
  },
  {
   "cell_type": "code",
   "execution_count": 91,
   "id": "ca7f7248",
   "metadata": {
    "scrolled": true
   },
   "outputs": [
    {
     "data": {
      "text/plain": [
       "country_code\n",
       "USA    0.631854\n",
       "GBR    0.062001\n",
       "CAN    0.032907\n",
       "IND    0.028027\n",
       "CHN    0.027142\n",
       "FRA    0.019585\n",
       "DEU    0.017702\n",
       "ISR    0.015954\n",
       "ESP    0.012890\n",
       "NLD    0.008102\n",
       "Name: proportion, dtype: float64"
      ]
     },
     "execution_count": 91,
     "metadata": {},
     "output_type": "execute_result"
    }
   ],
   "source": [
    "# визуализируем кто входит в первую десятку стран по частотности, среди стартапов, у которых вероятность выживания выше 50%\n",
    "train_data.query('proba > 0.5')['country_code'].value_counts(normalize=True).head(10)"
   ]
  },
  {
   "cell_type": "markdown",
   "id": "7a10ec58",
   "metadata": {},
   "source": [
    "В тройке лидеров ожидаемо находятся США, Великобритания и Канада.\n",
    "Новостью для меня оказалось положени Индии - сразу после тройки лидеров и выше Китая и европейских стран.\n",
    "Замыкают этот топ Франция, Германия, Израиль, Испания и Нидерланды (вполне ожидаемо).\n",
    "\n",
    "Вышеуказанные страны составляют порядка 80% всех стартапов, среди тех, вероятность которых отнесения к operating выше 50%.\n",
    "Соответственно чтобы быть стартапом, \"который выжил\" - лучше всего быть стартапом из США, или Северной Америки (банально, но факт, можно сказать \"медицинский факт\")."
   ]
  },
  {
   "cell_type": "code",
   "execution_count": 92,
   "id": "d84a7373",
   "metadata": {
    "scrolled": false
   },
   "outputs": [
    {
     "data": {
      "text/plain": [
       "1_1_category\n",
       "Biotechnology    0.074556\n",
       "Software         0.066529\n",
       "Health           0.045991\n",
       "E-Commerce       0.043974\n",
       "Advertising      0.039896\n",
       "Curated          0.030861\n",
       "Mobile           0.030518\n",
       "Analytics        0.027148\n",
       "Clean            0.023886\n",
       "Apps             0.023350\n",
       "Name: proportion, dtype: float64"
      ]
     },
     "execution_count": 92,
     "metadata": {},
     "output_type": "execute_result"
    }
   ],
   "source": [
    "# визуализируем кто входит в первую десятку стран по частотности, среди стартапов, у которых вероятность выживания выше 50%\n",
    "train_data.query('proba > 0.5')['1_1_category'].value_counts(normalize=True).head(10)"
   ]
  },
  {
   "cell_type": "markdown",
   "id": "4ad776af",
   "metadata": {},
   "source": [
    "И судя по отраслям, самыми живучими (или самыми востребованными на рынке за 1970-2018, по сути) были стартапы из отрасли биотехнологий, программного обеспечения, здравоохранения и электронной коммерции. Господи, и тут никуда без WB )"
   ]
  },
  {
   "cell_type": "markdown",
   "id": "ee416c32",
   "metadata": {},
   "source": [
    "# Общие выводы"
   ]
  },
  {
   "cell_type": "markdown",
   "id": "e4b4abe9",
   "metadata": {},
   "source": [
    "- (1) Целью данной работы было разработать модель прогнозировования состояния стартапа (дейсвует/закрылся);\n",
    "- (2) Лучшей моделью для прогнозирования оказалась catboost;\n",
    "- (3) качество модели по метрике f1 на тренировочной выборке - 99%, на тестовой - 89%; \n",
    "\n",
    "Самыми важными входящими признаками для прогнозирования состояния являются (указаны по мере убывания):\n",
    "- (1) время жизни стартапа;\n",
    "- (2) общий объем финансирования;\n",
    "- (3) как давно (относительно текущего момента времени) был первый и последний раунд финансирования;\n",
    "- (4) в какой отрасли работал стартап (решающее значение в описании отрасли играет первое слово и первое словосочетание);\n",
    "- (5) географическое местоположение стартапа.\n",
    "\n",
    "Критичными значениями вышеуказанных входящих признаков являются (и куда уже можно инвестировать скорее всего с намного меньшим риском):\n",
    "- стартап должен проработать минимум 9 лет;\n",
    "- должен привлечь не менее 19 млн. долл.;\n",
    "- должен проработать порядка 6 лет после первого раунда привлечения средств;\n",
    "- должен проработать порядка 5 лет после последнего раунда привлечения средств."
   ]
  },
  {
   "cell_type": "code",
   "execution_count": null,
   "id": "87fb3c30",
   "metadata": {},
   "outputs": [],
   "source": []
  }
 ],
 "metadata": {
  "kernelspec": {
   "display_name": "Python 3 (ipykernel)",
   "language": "python",
   "name": "python3"
  },
  "language_info": {
   "codemirror_mode": {
    "name": "ipython",
    "version": 3
   },
   "file_extension": ".py",
   "mimetype": "text/x-python",
   "name": "python",
   "nbconvert_exporter": "python",
   "pygments_lexer": "ipython3",
   "version": "3.11.5"
  },
  "toc": {
   "base_numbering": 1,
   "nav_menu": {},
   "number_sections": true,
   "sideBar": true,
   "skip_h1_title": false,
   "title_cell": "Table of Contents",
   "title_sidebar": "Contents",
   "toc_cell": false,
   "toc_position": {
    "height": "calc(100% - 180px)",
    "left": "10px",
    "top": "150px",
    "width": "350.344px"
   },
   "toc_section_display": true,
   "toc_window_display": true
  }
 },
 "nbformat": 4,
 "nbformat_minor": 5
}
